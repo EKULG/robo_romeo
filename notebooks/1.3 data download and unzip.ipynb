{
 "cells": [
  {
   "cell_type": "code",
   "execution_count": 1,
   "id": "05fffdd9-6d76-43d3-a6db-d4c8e07ee311",
   "metadata": {},
   "outputs": [
    {
     "name": "stdout",
     "output_type": "stream",
     "text": [
      "Collecting opendatasets\n",
      "  Downloading opendatasets-0.1.22-py3-none-any.whl (15 kB)\n",
      "Collecting kaggle\n",
      "  Downloading kaggle-1.5.12.tar.gz (58 kB)\n",
      "\u001b[2K     \u001b[90m━━━━━━━━━━━━━━━━━━━━━━━━━━━━━━━━━━━━━━━━\u001b[0m \u001b[32m59.0/59.0 kB\u001b[0m \u001b[31m12.2 MB/s\u001b[0m eta \u001b[36m0:00:00\u001b[0m\n",
      "\u001b[?25h  Preparing metadata (setup.py) ... \u001b[?25ldone\n",
      "\u001b[?25hRequirement already satisfied: tqdm in /opt/conda/lib/python3.7/site-packages (from opendatasets) (4.64.0)\n",
      "Requirement already satisfied: click in /opt/conda/lib/python3.7/site-packages (from opendatasets) (8.1.3)\n",
      "Requirement already satisfied: importlib-metadata in /opt/conda/lib/python3.7/site-packages (from click->opendatasets) (4.11.4)\n",
      "Requirement already satisfied: six>=1.10 in /opt/conda/lib/python3.7/site-packages (from kaggle->opendatasets) (1.16.0)\n",
      "Requirement already satisfied: certifi in /opt/conda/lib/python3.7/site-packages (from kaggle->opendatasets) (2022.5.18.1)\n",
      "Requirement already satisfied: python-dateutil in /opt/conda/lib/python3.7/site-packages (from kaggle->opendatasets) (2.8.2)\n",
      "Requirement already satisfied: requests in /opt/conda/lib/python3.7/site-packages (from kaggle->opendatasets) (2.27.1)\n",
      "Requirement already satisfied: python-slugify in /opt/conda/lib/python3.7/site-packages (from kaggle->opendatasets) (6.1.2)\n",
      "Requirement already satisfied: urllib3 in /opt/conda/lib/python3.7/site-packages (from kaggle->opendatasets) (1.26.9)\n",
      "Requirement already satisfied: zipp>=0.5 in /opt/conda/lib/python3.7/site-packages (from importlib-metadata->click->opendatasets) (3.8.0)\n",
      "Requirement already satisfied: typing-extensions>=3.6.4 in /opt/conda/lib/python3.7/site-packages (from importlib-metadata->click->opendatasets) (4.2.0)\n",
      "Requirement already satisfied: text-unidecode>=1.3 in /opt/conda/lib/python3.7/site-packages (from python-slugify->kaggle->opendatasets) (1.3)\n",
      "Requirement already satisfied: idna<4,>=2.5 in /opt/conda/lib/python3.7/site-packages (from requests->kaggle->opendatasets) (3.3)\n",
      "Requirement already satisfied: charset-normalizer~=2.0.0 in /opt/conda/lib/python3.7/site-packages (from requests->kaggle->opendatasets) (2.0.12)\n",
      "Building wheels for collected packages: kaggle\n",
      "  Building wheel for kaggle (setup.py) ... \u001b[?25ldone\n",
      "\u001b[?25h  Created wheel for kaggle: filename=kaggle-1.5.12-py3-none-any.whl size=73051 sha256=f81bb799af0b993aaac49c50f529ff4e143cd27d1fed889d67dcda0ed23a558e\n",
      "  Stored in directory: /home/jupyter/.cache/pip/wheels/62/d6/58/5853130f941e75b2177d281eb7e44b4a98ed46dd155f556dc5\n",
      "Successfully built kaggle\n",
      "Installing collected packages: kaggle, opendatasets\n",
      "Successfully installed kaggle-1.5.12 opendatasets-0.1.22\n"
     ]
    }
   ],
   "source": [
    "!pip install opendatasets"
   ]
  },
  {
   "cell_type": "code",
   "execution_count": 2,
   "id": "5a0028db-ffac-4289-aeaa-136a0b522d5d",
   "metadata": {},
   "outputs": [],
   "source": [
    "import opendatasets as od"
   ]
  },
  {
   "cell_type": "code",
   "execution_count": 3,
   "id": "6f470c00-d47e-423e-8bb2-0b10eda1d7d9",
   "metadata": {},
   "outputs": [
    {
     "name": "stdout",
     "output_type": "stream",
     "text": [
      "Downloading http://images.cocodataset.org/zips/train2017.zip to ./train2017.zip\n"
     ]
    },
    {
     "name": "stderr",
     "output_type": "stream",
     "text": [
      "19336863744it [09:18, 34647902.78it/s]                                 \n"
     ]
    }
   ],
   "source": [
    "od.download(\"http://images.cocodataset.org/zips/train2017.zip\")"
   ]
  },
  {
   "cell_type": "code",
   "execution_count": 6,
   "id": "ea90e702-42b6-4d78-8f49-c66b08d76a8d",
   "metadata": {},
   "outputs": [
    {
     "name": "stdout",
     "output_type": "stream",
     "text": [
      "/home/jupyter/robo_romeo/notebooks\n"
     ]
    }
   ],
   "source": [
    "!pwd"
   ]
  },
  {
   "cell_type": "code",
   "execution_count": 8,
   "id": "ef1d4d2f-c23a-4e18-86ea-5007598d4854",
   "metadata": {},
   "outputs": [],
   "source": [
    "import zipfile"
   ]
  },
  {
   "cell_type": "code",
   "execution_count": 9,
   "id": "a3040d84-0219-4110-a2f3-894a16517da3",
   "metadata": {},
   "outputs": [],
   "source": [
    "unzip_files = zipfile.ZipFile('/home/jupyter/robo_romeo/raw_data/cocodata/train2017.zip','r')\n",
    "unzip_files.extractall('/home/jupyter/robo_romeo/raw_data/')"
   ]
  },
  {
   "cell_type": "code",
   "execution_count": 10,
   "id": "23d302f2-6e44-49e3-96d6-1289c5c274a2",
   "metadata": {},
   "outputs": [],
   "source": [
    "import os"
   ]
  },
  {
   "cell_type": "code",
   "execution_count": 11,
   "id": "1f3c1763-f21d-43c1-8815-171395b65a06",
   "metadata": {},
   "outputs": [
    {
     "data": {
      "text/plain": [
       "118287"
      ]
     },
     "execution_count": 11,
     "metadata": {},
     "output_type": "execute_result"
    }
   ],
   "source": [
    "len(os.listdir('/home/jupyter/robo_romeo/raw_data/train2017'))"
   ]
  },
  {
   "cell_type": "code",
   "execution_count": 12,
   "id": "305ee44f-fbd4-4a85-834f-1d01e54b8958",
   "metadata": {},
   "outputs": [
    {
     "name": "stdout",
     "output_type": "stream",
     "text": [
      "Downloading http://images.cocodataset.org/annotations/stuff_annotations_trainval2017.zip to ./stuff_annotations_trainval2017.zip\n"
     ]
    },
    {
     "name": "stderr",
     "output_type": "stream",
     "text": [
      "1148690432it [00:32, 35113835.54it/s]                                \n"
     ]
    }
   ],
   "source": [
    "od.download(\"http://images.cocodataset.org/annotations/stuff_annotations_trainval2017.zip\")"
   ]
  },
  {
   "cell_type": "code",
   "execution_count": 21,
   "id": "1c00f100-1bfe-4360-858e-7b381ebb4f03",
   "metadata": {},
   "outputs": [],
   "source": [
    "unzip_files = zipfile.ZipFile('/home/jupyter/robo_romeo/raw_data/cocodata/stuff_annotations_trainval2017.zip','r')\n",
    "unzip_files.extractall('/home/jupyter/robo_romeo/raw_data/')"
   ]
  },
  {
   "cell_type": "code",
   "execution_count": null,
   "id": "d30fec5a-a64a-4697-a5b5-61d90d41af9f",
   "metadata": {},
   "outputs": [],
   "source": [
    "len(os.listdir('/home/jupyter/robo_romeo/raw_data/annotations/depre'))"
   ]
  },
  {
   "cell_type": "code",
   "execution_count": 17,
   "id": "e63848ea-b9b2-433e-ade4-7e0f5a42998f",
   "metadata": {},
   "outputs": [
    {
     "name": "stdout",
     "output_type": "stream",
     "text": [
      "Downloading http://images.cocodataset.org/annotations/image_info_test2015.zip to ./image_info_test2015.zip\n"
     ]
    },
    {
     "name": "stderr",
     "output_type": "stream",
     "text": [
      "1892352it [00:00, 2165598.27it/s]                            \n"
     ]
    }
   ],
   "source": [
    "od.download(\"http://images.cocodataset.org/annotations/image_info_test2015.zip\")"
   ]
  },
  {
   "cell_type": "code",
   "execution_count": 20,
   "id": "26aaa51c-8a86-4cf7-a2eb-145d3b7900dd",
   "metadata": {},
   "outputs": [],
   "source": [
    "unzip_files = zipfile.ZipFile('/home/jupyter/robo_romeo/raw_data/cocodata/image_info_test2015.zip','r')\n",
    "unzip_files.extractall('/home/jupyter/robo_romeo/raw_data/tests')"
   ]
  },
  {
   "cell_type": "code",
   "execution_count": 22,
   "id": "afad4cce-f8d2-4485-9215-114297aeccea",
   "metadata": {},
   "outputs": [
    {
     "name": "stdout",
     "output_type": "stream",
     "text": [
      "Downloading http://images.cocodataset.org/annotations/annotations_trainval2017.zip to ./annotations_trainval2017.zip\n"
     ]
    },
    {
     "name": "stderr",
     "output_type": "stream",
     "text": [
      "252911616it [00:08, 31551436.69it/s]                               \n"
     ]
    }
   ],
   "source": [
    "od.download(\"http://images.cocodataset.org/annotations/annotations_trainval2017.zip\")"
   ]
  },
  {
   "cell_type": "code",
   "execution_count": 23,
   "id": "e0d859ad-cf7d-430f-8f74-35fc3b6a8da7",
   "metadata": {},
   "outputs": [],
   "source": [
    "unzip_files = zipfile.ZipFile('/home/jupyter/robo_romeo/raw_data/cocodata/annotations_trainval2017.zip','r')\n",
    "unzip_files.extractall('/home/jupyter/robo_romeo/raw_data/tests')"
   ]
  },
  {
   "cell_type": "code",
   "execution_count": 25,
   "id": "15cbe624-38ea-4dc7-bdfa-6e4cccd4f0b9",
   "metadata": {},
   "outputs": [],
   "source": [
    "import json"
   ]
  },
  {
   "cell_type": "code",
   "execution_count": 31,
   "id": "f98f8a5e-c744-4583-a8fa-f08e3139e824",
   "metadata": {},
   "outputs": [],
   "source": [
    "f = open('/home/jupyter/robo_romeo/raw_data/tests/annotations/captions_train2017.json')"
   ]
  },
  {
   "cell_type": "code",
   "execution_count": 32,
   "id": "9a7285f0-103b-4548-89db-7b9355951228",
   "metadata": {},
   "outputs": [],
   "source": [
    "captions = json.load(f)"
   ]
  },
  {
   "cell_type": "code",
   "execution_count": 39,
   "id": "59eb9f07-0479-4759-be98-ccc91edaa3bf",
   "metadata": {},
   "outputs": [
    {
     "data": {
      "text/plain": [
       "dict_keys(['info', 'licenses', 'images', 'annotations'])"
      ]
     },
     "execution_count": 39,
     "metadata": {},
     "output_type": "execute_result"
    }
   ],
   "source": [
    "captions.keys()"
   ]
  },
  {
   "cell_type": "code",
   "execution_count": 47,
   "id": "fe6f5ba8-ce3b-4af7-972e-c849cea5b844",
   "metadata": {},
   "outputs": [
    {
     "data": {
      "text/plain": [
       "{'license': 3,\n",
       " 'file_name': '000000391895.jpg',\n",
       " 'coco_url': 'http://images.cocodataset.org/train2017/000000391895.jpg',\n",
       " 'height': 360,\n",
       " 'width': 640,\n",
       " 'date_captured': '2013-11-14 11:18:45',\n",
       " 'flickr_url': 'http://farm9.staticflickr.com/8186/8119368305_4e622c8349_z.jpg',\n",
       " 'id': 391895}"
      ]
     },
     "execution_count": 47,
     "metadata": {},
     "output_type": "execute_result"
    }
   ],
   "source": [
    "captions['images'][0]"
   ]
  },
  {
   "cell_type": "code",
   "execution_count": null,
   "id": "301b4d7d-3bc6-4e98-b9e1-afa6cceeec1b",
   "metadata": {},
   "outputs": [],
   "source": []
  }
 ],
 "metadata": {
  "environment": {
   "kernel": "python3",
   "name": "tf2-gpu.2-8.m93",
   "type": "gcloud",
   "uri": "gcr.io/deeplearning-platform-release/tf2-gpu.2-8:m93"
  },
  "kernelspec": {
   "display_name": "Python 3 (ipykernel)",
   "language": "python",
   "name": "python3"
  },
  "language_info": {
   "codemirror_mode": {
    "name": "ipython",
    "version": 3
   },
   "file_extension": ".py",
   "mimetype": "text/x-python",
   "name": "python",
   "nbconvert_exporter": "python",
   "pygments_lexer": "ipython3",
   "version": "3.8.12"
  },
  "toc": {
   "base_numbering": 1,
   "nav_menu": {},
   "number_sections": true,
   "sideBar": true,
   "skip_h1_title": false,
   "title_cell": "Table of Contents",
   "title_sidebar": "Contents",
   "toc_cell": false,
   "toc_position": {},
   "toc_section_display": true,
   "toc_window_display": false
  }
 },
 "nbformat": 4,
 "nbformat_minor": 5
}
