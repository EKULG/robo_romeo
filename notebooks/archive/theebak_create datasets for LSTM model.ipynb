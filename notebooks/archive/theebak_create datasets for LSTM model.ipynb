{
 "cells": [
  {
   "cell_type": "markdown",
   "id": "db2c560f",
   "metadata": {},
   "source": []
  },
  {
   "cell_type": "markdown",
   "id": "3f20785c",
   "metadata": {},
   "source": [
    "import extract features file"
   ]
  },
  {
   "cell_type": "markdown",
   "id": "861a4af1",
   "metadata": {},
   "source": [
    "create X1 in same sequence as X2 captions"
   ]
  },
  {
   "cell_type": "markdown",
   "id": "f466a257",
   "metadata": {},
   "source": [
    "create X2"
   ]
  },
  {
   "cell_type": "markdown",
   "id": "8f7a4d11",
   "metadata": {},
   "source": [
    "creat y_train"
   ]
  },
  {
   "cell_type": "code",
   "execution_count": null,
   "id": "783f0f8e",
   "metadata": {},
   "outputs": [],
   "source": []
  }
 ],
 "metadata": {
  "kernelspec": {
   "display_name": "Python 3 (ipykernel)",
   "language": "python",
   "name": "python3"
  },
  "language_info": {
   "codemirror_mode": {
    "name": "ipython",
    "version": 3
   },
   "file_extension": ".py",
   "mimetype": "text/x-python",
   "name": "python",
   "nbconvert_exporter": "python",
   "pygments_lexer": "ipython3",
   "version": "3.8.12"
  },
  "toc": {
   "base_numbering": 1,
   "nav_menu": {},
   "number_sections": true,
   "sideBar": true,
   "skip_h1_title": false,
   "title_cell": "Table of Contents",
   "title_sidebar": "Contents",
   "toc_cell": false,
   "toc_position": {},
   "toc_section_display": true,
   "toc_window_display": false
  }
 },
 "nbformat": 4,
 "nbformat_minor": 5
}
