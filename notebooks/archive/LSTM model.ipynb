{
 "cells": [
  {
   "cell_type": "code",
   "execution_count": null,
   "id": "52222325-9edd-4866-96fe-c55270c97bdb",
   "metadata": {},
   "outputs": [],
   "source": [
    "import numpy as np\n",
    "import pydot\n",
    "import graphviz\n",
    "from tensorflow.keras.applications.efficientnet import EfficientNetB0\n",
    "from tensorflow.keras.preprocessing import image\n",
    "from tensorflow.keras.utils import plot_model\n",
    "from tensorflow.keras.models import Model\n",
    "from tensorflow.keras.layers import AveragePooling2D, GlobalAveragePooling2D, Dense, Input\n",
    "from tensorflow.keras.layers import Embedding, LSTM, Add\n",
    "from tensorflow.keras.losses import SparseCategoricalCrossentropy"
   ]
  },
  {
   "cell_type": "code",
   "execution_count": 1,
   "id": "11fbad5e-d31d-44a7-b90d-d2f45be7da16",
   "metadata": {},
   "outputs": [
    {
     "name": "stdout",
     "output_type": "stream",
     "text": [
      "Requirement already satisfied: pydot in /Users/zhenliu15471/.pyenv/versions/3.8.12/envs/robo_romeo/lib/python3.8/site-packages (1.4.2)\r\n",
      "Requirement already satisfied: pyparsing>=2.1.4 in /Users/zhenliu15471/.pyenv/versions/3.8.12/envs/robo_romeo/lib/python3.8/site-packages (from pydot) (3.0.9)\r\n"
     ]
    }
   ],
   "source": [
    "!pip install pydot"
   ]
  },
  {
   "cell_type": "code",
   "execution_count": 2,
   "id": "1f81330b-ef19-426c-9426-84b334ce059a",
   "metadata": {},
   "outputs": [
    {
     "name": "stdout",
     "output_type": "stream",
     "text": [
      "Requirement already satisfied: graphviz in /Users/zhenliu15471/.pyenv/versions/3.8.12/envs/robo_romeo/lib/python3.8/site-packages (0.20)\r\n"
     ]
    }
   ],
   "source": [
    "!pip install graphviz"
   ]
  },
  {
   "cell_type": "markdown",
   "id": "c4d2f97b-dd67-4570-aa0c-dd0b0c75dbfa",
   "metadata": {},
   "source": [
    "# Get the X_train, y_train"
   ]
  },
  {
   "cell_type": "code",
   "execution_count": 2,
   "id": "90c00af4-9907-404c-9d71-712bd69f6f6d",
   "metadata": {},
   "outputs": [],
   "source": [
    "import pickle\n",
    "import numpy as np"
   ]
  },
  {
   "cell_type": "markdown",
   "id": "d9b93612-94eb-4d08-b33c-999ee1ba4710",
   "metadata": {},
   "source": [
    "## Load data for X1"
   ]
  },
  {
   "cell_type": "markdown",
   "id": "90a54385-b174-4691-b3ed-18efc98fe2c8",
   "metadata": {},
   "source": [
    "### Import features file"
   ]
  },
  {
   "cell_type": "code",
   "execution_count": 73,
   "id": "8a9bfb9a-3f64-4677-a524-0e5fd6f34737",
   "metadata": {},
   "outputs": [],
   "source": [
    "features_file = '../output/extracted_features/extract_features_6k.pkl'"
   ]
  },
  {
   "cell_type": "code",
   "execution_count": 74,
   "id": "582121bf-0e42-4786-96de-974fbaaa3dc7",
   "metadata": {},
   "outputs": [],
   "source": [
    "file = open(features_file, 'rb')\n",
    "features_dict = pickle.load(file)\n",
    "file.close()"
   ]
  },
  {
   "cell_type": "code",
   "execution_count": 75,
   "id": "21958257-4cd8-4f48-a07e-7c7163b5ca4d",
   "metadata": {},
   "outputs": [
    {
     "data": {
      "text/plain": [
       "256"
      ]
     },
     "execution_count": 75,
     "metadata": {},
     "output_type": "execute_result"
    }
   ],
   "source": [
    "len(features_dict['2513260012_03d33305cf'][0])"
   ]
  },
  {
   "cell_type": "markdown",
   "id": "6bbb08b1-9710-4745-b12c-8841853c4a23",
   "metadata": {},
   "source": [
    "## Create the X1_train"
   ]
  },
  {
   "cell_type": "markdown",
   "id": "2584c167-782c-4924-b263-e169adee014d",
   "metadata": {},
   "source": [
    "### Import captions data"
   ]
  },
  {
   "cell_type": "code",
   "execution_count": 119,
   "id": "45c3565e-6aab-4368-b44e-260720966f0f",
   "metadata": {},
   "outputs": [],
   "source": [
    "captions_file = '../output/extracted_features/cap'"
   ]
  },
  {
   "cell_type": "markdown",
   "id": "5092b9d4",
   "metadata": {},
   "source": []
  },
  {
   "cell_type": "code",
   "execution_count": 120,
   "id": "edfa6803-bc5b-4270-8a89-16b09d28cfa2",
   "metadata": {},
   "outputs": [],
   "source": [
    "file = open(captions_file, 'rb')\n",
    "x2_captions = pickle.load(file)\n",
    "file.close()"
   ]
  },
  {
   "cell_type": "code",
   "execution_count": 121,
   "id": "fa458361-2528-4faa-b2cc-04cd39b3b527",
   "metadata": {},
   "outputs": [
    {
     "data": {
      "text/plain": [
       "'1000268201_693b08cb0e'"
      ]
     },
     "execution_count": 121,
     "metadata": {},
     "output_type": "execute_result"
    }
   ],
   "source": [
    "cap_img_list = x2_captions[0] # first column with list of repeated image id's\n",
    "cap_img_list[0]"
   ]
  },
  {
   "cell_type": "markdown",
   "id": "7e9ddc15-d269-46ed-abda-027e017fe828",
   "metadata": {},
   "source": [
    "### Create X1_train"
   ]
  },
  {
   "cell_type": "code",
   "execution_count": 122,
   "id": "7f785fcb-966b-46d6-8de2-dd4ca4717131",
   "metadata": {},
   "outputs": [
    {
     "data": {
      "text/plain": [
       "(10000, 256)"
      ]
     },
     "execution_count": 122,
     "metadata": {},
     "output_type": "execute_result"
    }
   ],
   "source": [
    "X1_train = []\n",
    "for cap_img in cap_img_list:\n",
    "    img_feature_matrix = features_dict[cap_img][0]\n",
    "    X1_train.append(img_feature_matrix)\n",
    "X1_train = np.array(X1_train)[:10000]\n",
    "X1_train.shape"
   ]
  },
  {
   "cell_type": "markdown",
   "id": "53b1c153-2693-4d51-8dee-300343781456",
   "metadata": {},
   "source": [
    "## Create X2_train"
   ]
  },
  {
   "cell_type": "code",
   "execution_count": 123,
   "id": "6ad00049-987e-4dd7-9686-61ed7a0f6f9e",
   "metadata": {},
   "outputs": [
    {
     "data": {
      "text/plain": [
       "(10000, 33)"
      ]
     },
     "execution_count": 123,
     "metadata": {},
     "output_type": "execute_result"
    }
   ],
   "source": [
    "X2_train = np.array(x2_captions[1]).astype(np.uint32)[:10000]\n",
    "X2_train.shape"
   ]
  },
  {
   "cell_type": "code",
   "execution_count": 124,
   "id": "876fc660-f5c5-4ecf-97d2-5f2d6be19aa9",
   "metadata": {},
   "outputs": [
    {
     "data": {
      "text/plain": [
       "[696]"
      ]
     },
     "execution_count": 124,
     "metadata": {},
     "output_type": "execute_result"
    }
   ],
   "source": [
    "x2_captions[2][13]"
   ]
  },
  {
   "cell_type": "code",
   "execution_count": 125,
   "id": "24757bcb-3861-4663-add6-22799703079f",
   "metadata": {},
   "outputs": [
    {
     "data": {
      "text/plain": [
       "array([   1,   33,    2,   69,  122,    4,  123,   55,  477,   11,  676,\n",
       "          2,   25, 6611,  696,    0,    0,    0,    0,    0,    0,    0,\n",
       "          0,    0,    0,    0,    0,    0,    0,    0,    0,    0,    0],\n",
       "      dtype=uint32)"
      ]
     },
     "execution_count": 125,
     "metadata": {},
     "output_type": "execute_result"
    }
   ],
   "source": [
    "X2_train[14]"
   ]
  },
  {
   "cell_type": "markdown",
   "id": "47f5c826-e0c8-4c18-bd51-7c03640a53c7",
   "metadata": {},
   "source": [
    "## Create y_train"
   ]
  },
  {
   "cell_type": "code",
   "execution_count": null,
   "id": "9acdeede-181f-4908-bb6d-bb28548b571c",
   "metadata": {},
   "outputs": [],
   "source": []
  },
  {
   "cell_type": "code",
   "execution_count": 126,
   "id": "d50453b7-8de0-48a7-8a93-210098513491",
   "metadata": {},
   "outputs": [
    {
     "data": {
      "text/plain": [
       "array([ 33,   2,  69, ..., 503,  24, 182])"
      ]
     },
     "execution_count": 126,
     "metadata": {},
     "output_type": "execute_result"
    }
   ],
   "source": [
    "y_train = np.array([el[0] if len(el)>0 else vocab_size+1 for el in x2_captions[2][:10000]])\n",
    "y_train"
   ]
  },
  {
   "cell_type": "code",
   "execution_count": 127,
   "id": "62f37ca2-6131-426e-956b-4e716e0f296c",
   "metadata": {},
   "outputs": [],
   "source": [
    "x2_captions=None\n",
    "del x2_captions"
   ]
  },
  {
   "cell_type": "markdown",
   "id": "d2e2c5e2-af12-46f2-85c3-8a2d839e728c",
   "metadata": {},
   "source": [
    "#  LSTM sequence model"
   ]
  },
  {
   "cell_type": "markdown",
   "id": "ce7bcb6c-d2fa-49c9-ba94-d55be4a5956c",
   "metadata": {},
   "source": [
    "## LSTM Model layers"
   ]
  },
  {
   "cell_type": "code",
   "execution_count": 128,
   "id": "62bec15c-562f-428c-b220-0554940a11e0",
   "metadata": {},
   "outputs": [],
   "source": [
    "max_caption_length = 32+1\n",
    "vocab_size = 8763+2"
   ]
  },
  {
   "cell_type": "code",
   "execution_count": 129,
   "id": "ace54d92-1f9b-4d6d-95fc-59038b208f98",
   "metadata": {},
   "outputs": [],
   "source": [
    "\n",
    "inputs2  = Input(shape=(max_caption_length,),name=\"captions\")\n",
    "embed_layer = Embedding(vocab_size, 256, mask_zero=True)(inputs2)\n",
    "\n",
    "inputs1 = Input(shape=(256,),name=\"images\")\n",
    "combine = Add()([embed_layer,inputs1])\n"
   ]
  },
  {
   "cell_type": "code",
   "execution_count": 130,
   "id": "daae1b71-946c-4931-b216-fe3d4542b9e4",
   "metadata": {},
   "outputs": [],
   "source": [
    "lstm_layer = LSTM(256)(combine)\n",
    "decoder = Dense(1000, activation='relu')(lstm_layer)\n",
    "outputs = Dense(vocab_size+2, activation='softmax')(decoder)"
   ]
  },
  {
   "cell_type": "markdown",
   "id": "8d140bef-f0bf-49ce-9496-dead3a2ea4ce",
   "metadata": {},
   "source": [
    "##### Model summary Model summary"
   ]
  },
  {
   "cell_type": "code",
   "execution_count": 131,
   "id": "06a09af6-da5e-4f0f-a856-344962929586",
   "metadata": {},
   "outputs": [],
   "source": [
    "\n",
    "model = Model(inputs=[inputs1, inputs2], outputs=outputs)\n",
    "model.compile(loss='categorical_crossentropy' , optimizer='adam',\n",
    "             metrics = 'accuracy')"
   ]
  },
  {
   "cell_type": "code",
   "execution_count": 132,
   "id": "daa5cf19-5eb3-44c7-9d29-516aa8b9cc03",
   "metadata": {},
   "outputs": [
    {
     "name": "stdout",
     "output_type": "stream",
     "text": [
      "Model: \"model_5\"\n",
      "__________________________________________________________________________________________________\n",
      " Layer (type)                   Output Shape         Param #     Connected to                     \n",
      "==================================================================================================\n",
      " captions (InputLayer)          [(None, 33)]         0           []                               \n",
      "                                                                                                  \n",
      " embedding_5 (Embedding)        (None, 33, 256)      2243840     ['captions[0][0]']               \n",
      "                                                                                                  \n",
      " images (InputLayer)            [(None, 256)]        0           []                               \n",
      "                                                                                                  \n",
      " add_5 (Add)                    (None, 33, 256)      0           ['embedding_5[0][0]',            \n",
      "                                                                  'images[0][0]']                 \n",
      "                                                                                                  \n",
      " lstm_5 (LSTM)                  (None, 256)          525312      ['add_5[0][0]']                  \n",
      "                                                                                                  \n",
      " dense_10 (Dense)               (None, 1000)         257000      ['lstm_5[0][0]']                 \n",
      "                                                                                                  \n",
      " dense_11 (Dense)               (None, 8767)         8775767     ['dense_10[0][0]']               \n",
      "                                                                                                  \n",
      "==================================================================================================\n",
      "Total params: 11,801,919\n",
      "Trainable params: 11,801,919\n",
      "Non-trainable params: 0\n",
      "__________________________________________________________________________________________________\n"
     ]
    }
   ],
   "source": [
    "model.summary()"
   ]
  },
  {
   "cell_type": "code",
   "execution_count": 133,
   "id": "cb7aeb0f-2505-49d6-bcf8-799a198f31f4",
   "metadata": {},
   "outputs": [
    {
     "data": {
      "image/png": "[encoded data removed]",
      "text/plain": [
       "<IPython.core.display.Image object>"
      ]
     },
     "execution_count": 133,
     "metadata": {},
     "output_type": "execute_result"
    }
   ],
   "source": [
    "plot_model(model,show_shapes=True)"
   ]
  },
  {
   "cell_type": "markdown",
   "id": "71e27c13-835c-4cfa-bf4b-ba1ccf0b0edb",
   "metadata": {},
   "source": [
    "# Fit and train model "
   ]
  },
  {
   "cell_type": "code",
   "execution_count": 135,
   "id": "7e92206b-155a-48e7-9f6f-8f30aa853a60",
   "metadata": {},
   "outputs": [],
   "source": [
    "import tensorflow as tf"
   ]
  },
  {
   "cell_type": "code",
   "execution_count": 136,
   "id": "10dd7cd0-6b57-460a-869c-a0c89d1449b7",
   "metadata": {},
   "outputs": [],
   "source": [
    "y_train = tf.keras.utils.to_categorical(y_train, num_classes=8765+2)"
   ]
  },
  {
   "cell_type": "code",
   "execution_count": 137,
   "id": "92f5cc5d-4f7c-42f8-b595-b1fd114d2228",
   "metadata": {},
   "outputs": [
    {
     "data": {
      "text/plain": [
       "(10000, 8767)"
      ]
     },
     "execution_count": 137,
     "metadata": {},
     "output_type": "execute_result"
    }
   ],
   "source": [
    "y_train.shape"
   ]
  },
  {
   "cell_type": "code",
   "execution_count": null,
   "id": "c0320717-4fc1-4df6-9860-801b0248b909",
   "metadata": {},
   "outputs": [],
   "source": [
    "# The fit\n",
    "model.fit(\n",
    "x=(X1_train,X2_train),\n",
    "    y=y_train,\n",
    "    batch_size=32,\n",
    "    epochs=10, \n",
    "    verbose=1\n",
    ")"
   ]
  },
  {
   "cell_type": "markdown",
   "id": "d12f2de3-7bf9-4b8d-adeb-2a1f8a6025a6",
   "metadata": {},
   "source": []
  },
  {
   "cell_type": "code",
   "execution_count": null,
   "id": "8a920558-35f7-4b64-b2bb-2ca29708433b",
   "metadata": {},
   "outputs": [],
   "source": []
  },
  {
   "cell_type": "code",
   "execution_count": null,
   "id": "39a6ee31-0415-43bc-abbc-cec8ad1b441c",
   "metadata": {},
   "outputs": [],
   "source": []
  },
  {
   "cell_type": "code",
   "execution_count": null,
   "id": "e73c0308-dcbb-4d3c-9edf-305d1d034c4d",
   "metadata": {},
   "outputs": [],
   "source": []
  },
  {
   "cell_type": "code",
   "execution_count": null,
   "id": "617d1cca-d055-4470-9d3e-7ba87f77067b",
   "metadata": {},
   "outputs": [],
   "source": []
  },
  {
   "cell_type": "code",
   "execution_count": null,
   "id": "7fb61352-461d-4092-9a32-d830a8433f4c",
   "metadata": {},
   "outputs": [],
   "source": []
  },
  {
   "cell_type": "code",
   "execution_count": null,
   "id": "8121d31e-f5f4-4106-b36d-ffe9e51f4bf7",
   "metadata": {},
   "outputs": [],
   "source": []
  },
  {
   "cell_type": "markdown",
   "id": "aa5b3670-e040-412b-9587-812561d2b643",
   "metadata": {},
   "source": [
    "# Predict the results"
   ]
  },
  {
   "cell_type": "code",
   "execution_count": null,
   "id": "5c8a73ea-b75e-452e-af36-161a1bbf1833",
   "metadata": {},
   "outputs": [],
   "source": [
    "# The prediction (one per sequence/city)\n",
    "model.predict(X)"
   ]
  },
  {
   "cell_type": "code",
   "execution_count": 142,
   "id": "69b92d2a-17bb-40f7-9f24-9c949aae0749",
   "metadata": {},
   "outputs": [
    {
     "data": {
      "text/plain": [
       "(256,)"
      ]
     },
     "execution_count": 142,
     "metadata": {},
     "output_type": "execute_result"
    }
   ],
   "source": [
    "img_encoded.shape"
   ]
  },
  {
   "cell_type": "code",
   "execution_count": 143,
   "id": "858e0bc3-176a-48bf-8563-25f225e21ba2",
   "metadata": {},
   "outputs": [
    {
     "data": {
      "text/plain": [
       "(1,)"
      ]
     },
     "execution_count": 143,
     "metadata": {},
     "output_type": "execute_result"
    }
   ],
   "source": [
    "inputs_seq.shape"
   ]
  },
  {
   "cell_type": "code",
   "execution_count": 163,
   "id": "9b1fabca-a3a9-42d5-aa72-6b00675066aa",
   "metadata": {},
   "outputs": [
    {
     "data": {
      "text/plain": [
       "(1, 33)"
      ]
     },
     "execution_count": 163,
     "metadata": {},
     "output_type": "execute_result"
    }
   ],
   "source": [
    "pad_sequences([inputs_seq],padding='post',maxlen=33).shape"
   ]
  },
  {
   "cell_type": "code",
   "execution_count": 167,
   "id": "5fce059e-d188-43de-a751-48f50a1be708",
   "metadata": {},
   "outputs": [],
   "source": [
    "from tensorflow.keras.preprocessing.sequence import pad_sequences\n",
    "inputs_seq='startsequence'\n",
    "img_encoded=X1_train[0:1]\n",
    "inputs_seq = [2]\n",
    "# seq = \n",
    "for i in range(33):\n",
    "    inputs_seq_model = pad_sequences([inputs_seq],padding='post',maxlen=33)\n",
    "    y_pre = model.predict([img_encoded,inputs_seq_model])\n",
    "    next_word = y_pre.argmax()\n",
    "    if next_word == 8766:\n",
    "        break\n",
    "    inputs_seq.append(next_word)"
   ]
  },
  {
   "cell_type": "code",
   "execution_count": 168,
   "id": "5a5f8ef6-4016-4101-a9de-f06b2da9fb02",
   "metadata": {},
   "outputs": [
    {
     "data": {
      "text/plain": [
       "[2, 10, 46, 18, 42, 29, 243, 4954]"
      ]
     },
     "execution_count": 168,
     "metadata": {},
     "output_type": "execute_result"
    }
   ],
   "source": [
    "inputs_seq"
   ]
  },
  {
   "cell_type": "code",
   "execution_count": 158,
   "id": "d290ae72-9869-452b-89ae-ce7530bc3e99",
   "metadata": {},
   "outputs": [
    {
     "data": {
      "text/plain": [
       "(1, 33)"
      ]
     },
     "execution_count": 158,
     "metadata": {},
     "output_type": "execute_result"
    }
   ],
   "source": [
    "inputs_seq.shape"
   ]
  },
  {
   "cell_type": "code",
   "execution_count": 155,
   "id": "b6230eaf-c90c-42b1-98b3-711f536b8649",
   "metadata": {},
   "outputs": [
    {
     "data": {
      "text/plain": [
       "23"
      ]
     },
     "execution_count": 155,
     "metadata": {},
     "output_type": "execute_result"
    }
   ],
   "source": [
    "y_pre.argmax()"
   ]
  },
  {
   "cell_type": "code",
   "execution_count": null,
   "id": "1a8bb980-443a-4944-97fe-3f39ccd57e48",
   "metadata": {},
   "outputs": [],
   "source": []
  },
  {
   "cell_type": "code",
   "execution_count": null,
   "id": "ab4325fd-6855-403c-94a6-2120305631e1",
   "metadata": {},
   "outputs": [],
   "source": []
  },
  {
   "cell_type": "code",
   "execution_count": null,
   "id": "21094aad-61eb-4b21-93c5-4cafbe612db9",
   "metadata": {},
   "outputs": [],
   "source": []
  },
  {
   "cell_type": "code",
   "execution_count": null,
   "id": "1704913c-65c5-47ce-b4d7-10ef7ae443ae",
   "metadata": {},
   "outputs": [],
   "source": []
  },
  {
   "cell_type": "code",
   "execution_count": null,
   "id": "a3a5e542-73ae-4f24-81d9-c4b0ca6e8088",
   "metadata": {},
   "outputs": [],
   "source": []
  }
 ],
 "metadata": {
  "environment": {
   "kernel": "python3",
   "name": "tf2-gpu.2-8.m93",
   "type": "gcloud",
   "uri": "gcr.io/deeplearning-platform-release/tf2-gpu.2-8:m93"
  },
  "kernelspec": {
   "display_name": "Python 3 (ipykernel)",
   "language": "python",
   "name": "python3"
  },
  "language_info": {
   "codemirror_mode": {
    "name": "ipython",
    "version": 3
   },
   "file_extension": ".py",
   "mimetype": "text/x-python",
   "name": "python",
   "nbconvert_exporter": "python",
   "pygments_lexer": "ipython3",
   "version": "3.8.12"
  },
  "toc": {
   "base_numbering": 1,
   "nav_menu": {},
   "number_sections": true,
   "sideBar": true,
   "skip_h1_title": false,
   "title_cell": "Table of Contents",
   "title_sidebar": "Contents",
   "toc_cell": false,
   "toc_position": {},
   "toc_section_display": true,
   "toc_window_display": false
  }
 },
 "nbformat": 4,
 "nbformat_minor": 5
}
