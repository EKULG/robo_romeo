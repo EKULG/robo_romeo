{
 "cells": [
  {
   "cell_type": "code",
   "execution_count": 1,
   "id": "05561507",
   "metadata": {},
   "outputs": [],
   "source": [
    "import pickle\n",
    "import numpy as np\n",
    "from IPython import display\n",
    "from tensorflow.keras.applications.efficientnet import EfficientNetB0\n",
    "from tensorflow.keras.preprocessing import image\n",
    "from tensorflow.image import resize, resize_with_pad\n",
    "from tensorflow.keras.applications.vgg16 import preprocess_input\n",
    "from tensorflow.keras.layers import Input, GlobalAveragePooling2D, Dense\n",
    "from tensorflow.keras.models import Model\n"
   ]
  },
  {
   "cell_type": "code",
   "execution_count": 2,
   "id": "3250e119",
   "metadata": {},
   "outputs": [
    {
     "name": "stderr",
     "output_type": "stream",
     "text": [
      "2022-06-09 15:25:23.519417: I tensorflow/core/platform/cpu_feature_guard.cc:142] This TensorFlow binary is optimized with oneAPI Deep Neural Network Library (oneDNN) to use the following CPU instructions in performance-critical operations:  SSE4.2\n",
      "To enable them in other operations, rebuild TensorFlow with the appropriate compiler flags.\n"
     ]
    }
   ],
   "source": [
    "CNN_model = EfficientNetB0(\n",
    "    include_top=False, # Whether to include the fully-connected layer at the top of the network\n",
    "    weights='imagenet', # pre-trained weights on ImageNet\n",
    "    input_tensor=None,\n",
    "    input_shape= (256,256,3), # It should have exactly 3 inputs channels\n",
    "    pooling=None # Optional pooling mode for feature extraction when include_top is False\n",
    ")"
   ]
  },
  {
   "cell_type": "code",
   "execution_count": 18,
   "id": "e6cd3f10",
   "metadata": {},
   "outputs": [],
   "source": [
    "img_list_file = '../raw_data/Flickr8k_text/Flickr_8k.trainImages.txt'"
   ]
  },
  {
   "cell_type": "code",
   "execution_count": 19,
   "id": "263cbd24",
   "metadata": {},
   "outputs": [],
   "source": [
    "img_folder_path = '../raw_data/Flicker8k_Dataset/'"
   ]
  },
  {
   "cell_type": "code",
   "execution_count": 20,
   "id": "20784cc5",
   "metadata": {},
   "outputs": [],
   "source": [
    "features_file = '../raw_data/encoded_images_6k.pkl'"
   ]
  },
  {
   "cell_type": "code",
   "execution_count": 21,
   "id": "b59014bc",
   "metadata": {},
   "outputs": [],
   "source": [
    "def extract_features_to_file(img_list_file, img_folder_path, features_file):\n",
    "    \n",
    "    features_dict = {}\n",
    "    img_list = np.loadtxt(img_list_file, dtype=str)\n",
    "    \n",
    "    for image_name in img_list:\n",
    "        img_path = img_folder_path+image_name\n",
    "        img = image.load_img(img_path, target_size=(256,256,3))\n",
    "        x = image.img_to_array(img)\n",
    "        x = np.expand_dims(x, axis=0)\n",
    "        features = CNN_model.predict(x)\n",
    "        image_title = image_name.split('.')[0]\n",
    "        features_dict[image_title] = features\n",
    "        \n",
    "    file = open(features_file,\"wb\")\n",
    "    pickle.dump(features_dict, file) \n",
    "    file.close()"
   ]
  },
  {
   "cell_type": "code",
   "execution_count": 22,
   "id": "5cbfaafd",
   "metadata": {},
   "outputs": [],
   "source": [
    "extract_features_to_file(img_list_file, img_folder_path, features_file)"
   ]
  },
  {
   "cell_type": "code",
   "execution_count": null,
   "id": "716d6813",
   "metadata": {},
   "outputs": [],
   "source": [
    "file = open(features_file, \"rb\")\n",
    "file_contents = pickle.load(file)\n",
    "len(file_contents)"
   ]
  },
  {
   "cell_type": "code",
   "execution_count": 29,
   "id": "c4c3751e",
   "metadata": {},
   "outputs": [],
   "source": [
    "test_img_path = \"../raw_data/Flicker8k_Dataset/1167669558_87a8a467d6.jpg\""
   ]
  },
  {
   "cell_type": "code",
   "execution_count": 30,
   "id": "346eba8f",
   "metadata": {},
   "outputs": [],
   "source": [
    "test_img= image.load_img(test_img_path, target_size=(256,256,3))\n",
    "x_test = image.img_to_array(test_img)\n",
    "x_test = np.expand_dims(x_test, axis=0)"
   ]
  },
  {
   "cell_type": "code",
   "execution_count": null,
   "id": "4dcdc351",
   "metadata": {},
   "outputs": [],
   "source": []
  },
  {
   "cell_type": "code",
   "execution_count": 31,
   "id": "941ef4cd",
   "metadata": {},
   "outputs": [],
   "source": [
    "test = CNN_model.predict(x_test)"
   ]
  },
  {
   "cell_type": "code",
   "execution_count": 34,
   "id": "429b086d",
   "metadata": {},
   "outputs": [
    {
     "data": {
      "text/plain": [
       "array([[[[-0.12541448, -0.21394826, -0.2631178 , ..., -0.2082671 ,\n",
       "          -0.08203711, -0.2542027 ],\n",
       "         [-0.27266937, -0.09323365,  0.4750498 , ..., -0.2727327 ,\n",
       "          -0.06712157, -0.27796254],\n",
       "         [-0.24569215, -0.05117594,  1.9053649 , ...,  0.5102652 ,\n",
       "          -0.03745488, -0.26845193],\n",
       "         ...,\n",
       "         [-0.08695214, -0.22472906,  0.08017866, ...,  0.36251536,\n",
       "          -0.20520154, -0.20374955],\n",
       "         [-0.14829452, -0.26261923,  0.01137365, ...,  0.26655966,\n",
       "          -0.146901  , -0.12917554],\n",
       "         [-0.27819276, -0.23612145, -0.09242275, ..., -0.08092576,\n",
       "          -0.10080756, -0.15579376]],\n",
       "\n",
       "        [[-0.02935796, -0.16191275, -0.2686516 , ..., -0.27485695,\n",
       "          -0.10885184, -0.19108525],\n",
       "         [-0.27005216, -0.1827928 , -0.19170015, ..., -0.2553952 ,\n",
       "          -0.1337339 ,  0.13910343],\n",
       "         [-0.18846013, -0.16830793,  0.53187394, ...,  1.0403317 ,\n",
       "          -0.01998307,  0.20898044],\n",
       "         ...,\n",
       "         [-0.02013289, -0.2033366 ,  0.65966845, ..., -0.21586134,\n",
       "          -0.2728566 , -0.1640209 ],\n",
       "         [-0.01643255, -0.27804744,  0.28617007, ..., -0.27422026,\n",
       "          -0.2190994 , -0.06338856],\n",
       "         [-0.10966072, -0.27247903, -0.12169889, ..., -0.0589155 ,\n",
       "          -0.13051301, -0.11302133]],\n",
       "\n",
       "        [[-0.01891829, -0.27575824, -0.2675601 , ..., -0.19894406,\n",
       "          -0.11048368, -0.25230676],\n",
       "         [-0.18335867, -0.18197706, -0.19656792, ..., -0.1853224 ,\n",
       "          -0.05706669, -0.17163958],\n",
       "         [-0.21035072, -0.19706067, -0.16652595, ..., -0.24597646,\n",
       "          -0.00287392, -0.02152874],\n",
       "         ...,\n",
       "         [-0.03473151, -0.24646358,  0.00882373, ..., -0.26810312,\n",
       "          -0.262535  , -0.22661   ],\n",
       "         [-0.02164317, -0.2779605 , -0.2663842 , ..., -0.14366502,\n",
       "          -0.17847547, -0.03957066],\n",
       "         [-0.1045505 , -0.20254111, -0.27269137, ...,  0.08788785,\n",
       "          -0.15318257, -0.09095699]],\n",
       "\n",
       "        ...,\n",
       "\n",
       "        [[-0.2170096 , -0.21376035, -0.27439672, ..., -0.17818768,\n",
       "          -0.22379698, -0.20916249],\n",
       "         [-0.26055887, -0.25483882, -0.24829489, ..., -0.23741554,\n",
       "          -0.27843618,  0.65274495],\n",
       "         [-0.2574258 , -0.26564538, -0.20663989, ..., -0.2696184 ,\n",
       "          -0.2683008 ,  1.2135844 ],\n",
       "         ...,\n",
       "         [-0.21851005, -0.08371969, -0.25228527, ..., -0.00875455,\n",
       "          -0.26810557,  0.66767067],\n",
       "         [-0.1017218 , -0.27829292, -0.11430102, ..., -0.05135033,\n",
       "          -0.21588084, -0.27477533],\n",
       "         [-0.05777106, -0.24944596,  0.26303297, ..., -0.15964639,\n",
       "          -0.15277131, -0.0928705 ]],\n",
       "\n",
       "        [[-0.20868719, -0.26721853, -0.27839205, ..., -0.16768757,\n",
       "          -0.26293465, -0.1411466 ],\n",
       "         [-0.27335316, -0.2714952 , -0.24417432, ..., -0.08194532,\n",
       "          -0.27825174,  0.1238431 ],\n",
       "         [-0.25899115, -0.19978003, -0.20422812, ..., -0.02470948,\n",
       "          -0.21157482, -0.26329535],\n",
       "         ...,\n",
       "         [-0.1270163 , -0.20741701, -0.2471348 , ..., -0.01470495,\n",
       "          -0.06681819, -0.25610155],\n",
       "         [-0.10892419, -0.2774224 , -0.24060011, ..., -0.01723974,\n",
       "          -0.06951689, -0.2296293 ],\n",
       "         [-0.07869941, -0.2762545 ,  0.13711834, ..., -0.09338417,\n",
       "          -0.15601942, -0.1126435 ]],\n",
       "\n",
       "        [[-0.2244489 , -0.27162108, -0.27744958, ..., -0.07802989,\n",
       "          -0.18278739, -0.17159966],\n",
       "         [-0.27013484, -0.26099724, -0.2762386 , ..., -0.04200155,\n",
       "          -0.19338696, -0.20458914],\n",
       "         [-0.26654863, -0.10569157, -0.22343096, ..., -0.02487027,\n",
       "          -0.09468702, -0.12058651],\n",
       "         ...,\n",
       "         [-0.10090701, -0.07394622, -0.18828465, ..., -0.0347419 ,\n",
       "          -0.01545857, -0.08764441],\n",
       "         [-0.10462918, -0.16148737,  0.10194748, ..., -0.01779214,\n",
       "          -0.03212891, -0.20263658],\n",
       "         [-0.11219034, -0.19499509,  0.18565486, ..., -0.06011415,\n",
       "          -0.10775163, -0.20896351]]]], dtype=float32)"
      ]
     },
     "execution_count": 34,
     "metadata": {},
     "output_type": "execute_result"
    }
   ],
   "source": []
  },
  {
   "cell_type": "code",
   "execution_count": null,
   "id": "cdc1003e",
   "metadata": {},
   "outputs": [],
   "source": []
  }
 ],
 "metadata": {
  "kernelspec": {
   "display_name": "Python 3 (ipykernel)",
   "language": "python",
   "name": "python3"
  },
  "language_info": {
   "codemirror_mode": {
    "name": "ipython",
    "version": 3
   },
   "file_extension": ".py",
   "mimetype": "text/x-python",
   "name": "python",
   "nbconvert_exporter": "python",
   "pygments_lexer": "ipython3",
   "version": "3.8.12"
  },
  "toc": {
   "base_numbering": 1,
   "nav_menu": {},
   "number_sections": true,
   "sideBar": true,
   "skip_h1_title": false,
   "title_cell": "Table of Contents",
   "title_sidebar": "Contents",
   "toc_cell": false,
   "toc_position": {},
   "toc_section_display": true,
   "toc_window_display": false
  }
 },
 "nbformat": 4,
 "nbformat_minor": 5
}
