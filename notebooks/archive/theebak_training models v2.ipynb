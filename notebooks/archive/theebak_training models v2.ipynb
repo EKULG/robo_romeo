{
 "cells": [
  {
   "cell_type": "code",
   "execution_count": null,
   "id": "9bb41293",
   "metadata": {},
   "outputs": [],
   "source": [
    "import pickle\n",
    "import os\n",
    "import numpy as np\n",
    "import tensorflow as tf\n",
    "import matplotlib.pyplot as plt\n",
    "from tensorflow.keras.preprocessing.sequence import pad_sequences\n",
    "from IPython import display\n",
    "from tensorflow.keras.applications.efficientnet import EfficientNetB0\n",
    "from tensorflow.keras.preprocessing import image\n",
    "from tensorflow.image import resize, resize_with_pad\n",
    "from tensorflow.keras.applications.vgg16 import preprocess_input\n",
    "from tensorflow.keras.layers import Input, GlobalAveragePooling2D, Dense, Embedding, Add, LSTM\n",
    "from tensorflow.keras.models import Model, save_model, load_model\n",
    "from tensorflow.keras.preprocessing.text import Tokenizer\n",
    "from tqdm.notebook import tqdm\n",
    "import pandas as pd"
   ]
  },
  {
   "cell_type": "markdown",
   "id": "a8da7bf2",
   "metadata": {},
   "source": [
    "## Preparing test images and captions"
   ]
  },
  {
   "cell_type": "code",
   "execution_count": null,
   "id": "8d0d4a82",
   "metadata": {},
   "outputs": [],
   "source": [
    "df_test = df_test.reset_index()"
   ]
  },
  {
   "cell_type": "code",
   "execution_count": null,
   "id": "eff9022a",
   "metadata": {},
   "outputs": [],
   "source": [
    "images_index = np.random.randint(len(df_test.id.unique()), size=5)"
   ]
  },
  {
   "cell_type": "code",
   "execution_count": null,
   "id": "3d619c5c",
   "metadata": {},
   "outputs": [],
   "source": [
    "test_images = [df_test.id.unique()[i] for i in images_index]\n",
    "test_images"
   ]
  },
  {
   "cell_type": "code",
   "execution_count": null,
   "id": "559cf29c",
   "metadata": {},
   "outputs": [],
   "source": [
    "true_captions = []\n",
    "for imgs in test_images:\n",
    "    image_captions = []\n",
    "    for index, row in df_test.iterrows():\n",
    "        if imgs in row['id']:\n",
    "            image_captions.append(row['value'].split('startsequence ')[1])\n",
    "    true_captions.append(image_captions)"
   ]
  },
  {
   "cell_type": "code",
   "execution_count": null,
   "id": "2184a603",
   "metadata": {},
   "outputs": [],
   "source": [
    "index_file ='/home/jupyter/robo_romeo//raw_data/word_index'\n",
    "with open(index_file,'rb') as dictionary:\n",
    "    word_index = pickle.load(dictionary)"
   ]
  },
  {
   "cell_type": "code",
   "execution_count": null,
   "id": "a81d9363",
   "metadata": {},
   "outputs": [],
   "source": [
    "model_file = '/home/jupyter/robo_romeo/saved_models/model_run_20220611_1000'\n",
    "predict_model = load_model(model_file)"
   ]
  },
  {
   "cell_type": "code",
   "execution_count": null,
   "id": "76401c2c",
   "metadata": {},
   "outputs": [],
   "source": [
    "predictions = []\n",
    "for imgs in test_images:\n",
    "    test_img_path = '/home/jupyter/robo_romeo/raw_data/images/images/'+imgs+'.jpg'\n",
    "    test_img = image.load_img(test_img_path, target_size=(256,256,3))\n",
    "    x_test = image.img_to_array(test_img)\n",
    "    x_test = np.expand_dims(x_test, axis=0)\n",
    "    test = cnn_model.predict(x_test)\n",
    "\n",
    "    inputs_seq = 'startsequence'\n",
    "    img_encoded = test\n",
    "    inputs_seq = [2]\n",
    "    for i in range(36):\n",
    "        inputs_seq_model = pad_sequences([inputs_seq],padding='post',maxlen=36)\n",
    "        y_pre = predict_model.predict([img_encoded,inputs_seq_model])\n",
    "        next_word = y_pre.argmax()\n",
    "        if next_word == 13:\n",
    "            break\n",
    "        inputs_seq.append(next_word)\n",
    "\n",
    "    sentence = []\n",
    "    for number in inputs_seq:\n",
    "        sentence.append(list(word_index.keys())[list(word_index.values()).index(number)])\n",
    "    sentence = sentence [1:]\n",
    "    prediction = ' '.join(word for word in sentence)\n",
    "    predictions.append(prediction)"
   ]
  },
  {
   "cell_type": "code",
   "execution_count": null,
   "id": "6a6dad64",
   "metadata": {},
   "outputs": [],
   "source": [
    "fig = plt.figure(figsize=(16,12))\n",
    "for i, images in enumerate(test_images):\n",
    "    plt.subplot(5,5,i+1)\n",
    "    img = plt.imread(f'/home/jupyter/robo_romeo/raw_data/images/images/{images}.jpg')\n",
    "    plt.imshow(img)"
   ]
  },
  {
   "cell_type": "code",
   "execution_count": null,
   "id": "9445bd0d",
   "metadata": {},
   "outputs": [],
   "source": []
  },
  {
   "cell_type": "code",
   "execution_count": null,
   "id": "e4ccd9a7",
   "metadata": {},
   "outputs": [],
   "source": []
  },
  {
   "cell_type": "code",
   "execution_count": null,
   "id": "4adc1f29",
   "metadata": {},
   "outputs": [],
   "source": []
  },
  {
   "cell_type": "code",
   "execution_count": null,
   "id": "d9076acf",
   "metadata": {},
   "outputs": [],
   "source": []
  }
 ],
 "metadata": {
  "kernelspec": {
   "display_name": "Python 3 (ipykernel)",
   "language": "python",
   "name": "python3"
  },
  "language_info": {
   "codemirror_mode": {
    "name": "ipython",
    "version": 3
   },
   "file_extension": ".py",
   "mimetype": "text/x-python",
   "name": "python",
   "nbconvert_exporter": "python",
   "pygments_lexer": "ipython3",
   "version": "3.8.12"
  },
  "toc": {
   "base_numbering": 1,
   "nav_menu": {},
   "number_sections": true,
   "sideBar": true,
   "skip_h1_title": false,
   "title_cell": "Table of Contents",
   "title_sidebar": "Contents",
   "toc_cell": false,
   "toc_position": {},
   "toc_section_display": true,
   "toc_window_display": false
  }
 },
 "nbformat": 4,
 "nbformat_minor": 5
}
