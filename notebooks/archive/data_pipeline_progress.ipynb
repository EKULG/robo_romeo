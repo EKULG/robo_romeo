{
 "cells": [
  {
   "cell_type": "code",
   "execution_count": 110,
   "id": "49f67563",
   "metadata": {},
   "outputs": [
    {
     "name": "stdout",
     "output_type": "stream",
     "text": [
      "Requirement already satisfied: tqdm in /Users/ChrisKarg/.pyenv/versions/3.8.13/envs/lewagon/lib/python3.8/site-packages (4.62.3)\n",
      "\u001b[33mWARNING: There was an error checking the latest version of pip.\u001b[0m\u001b[33m\n",
      "\u001b[0m"
     ]
    }
   ],
   "source": [
    "!pip install tqdm"
   ]
  },
  {
   "cell_type": "code",
   "execution_count": 111,
   "id": "f4d9d699",
   "metadata": {},
   "outputs": [],
   "source": [
    "import pickle\n",
    "import numpy as np\n",
    "import tensorflow as tf\n",
    "from tensorflow.keras.preprocessing.sequence import pad_sequences\n",
    "from IPython import display\n",
    "from tensorflow.keras.applications.efficientnet import EfficientNetB0\n",
    "from tensorflow.keras.preprocessing import image\n",
    "from tensorflow.image import resize, resize_with_pad\n",
    "from tensorflow.keras.applications.vgg16 import preprocess_input\n",
    "from tensorflow.keras.layers import Input, GlobalAveragePooling2D, Dense\n",
    "from tensorflow.keras.models import Model\n",
    "from tqdm.notebook import tqdm"
   ]
  },
  {
   "cell_type": "code",
   "execution_count": 3,
   "id": "eead69be",
   "metadata": {},
   "outputs": [],
   "source": [
    "# Load the document file into memory\n",
    "def load_doc(filename):\n",
    "    # Open file to read\n",
    "    file = open(filename, 'r')\n",
    "    text = file.read()\n",
    "    file.close()\n",
    "    return text"
   ]
  },
  {
   "cell_type": "code",
   "execution_count": 4,
   "id": "3851b949",
   "metadata": {},
   "outputs": [
    {
     "name": "stdout",
     "output_type": "stream",
     "text": [
      "/Users/ChrisKarg/code/CMaxK/robo_romeo/notebooks\r\n"
     ]
    }
   ],
   "source": [
    "!pwd"
   ]
  },
  {
   "cell_type": "code",
   "execution_count": 5,
   "id": "5db76287",
   "metadata": {},
   "outputs": [],
   "source": [
    "dataframe = load_doc(\"../raw_data/descriptions.txt\")"
   ]
  },
  {
   "cell_type": "code",
   "execution_count": 6,
   "id": "917051de",
   "metadata": {},
   "outputs": [],
   "source": [
    "dataframe = dataframe.split('\\n')"
   ]
  },
  {
   "cell_type": "code",
   "execution_count": 7,
   "id": "2956c9b5",
   "metadata": {},
   "outputs": [
    {
     "data": {
      "text/plain": [
       "40460"
      ]
     },
     "execution_count": 7,
     "metadata": {},
     "output_type": "execute_result"
    }
   ],
   "source": [
    "len(dataframe)"
   ]
  },
  {
   "cell_type": "code",
   "execution_count": 8,
   "id": "be83389c",
   "metadata": {},
   "outputs": [
    {
     "data": {
      "text/plain": [
       "['1000268201_693b08cb0e a child in a pink dress is climbing up a set of stairs in an entry way',\n",
       " '1000268201_693b08cb0e a girl going into a wooden building']"
      ]
     },
     "execution_count": 8,
     "metadata": {},
     "output_type": "execute_result"
    }
   ],
   "source": [
    "dataframe[:2]"
   ]
  },
  {
   "cell_type": "code",
   "execution_count": 9,
   "id": "b41e20bd",
   "metadata": {},
   "outputs": [],
   "source": [
    "l_all =[]\n",
    "for n in dataframe:\n",
    "    line = {\"id\": n.split(\" \")[0],\n",
    "        'value': \"startsequence \" + \" \".join(n.split(\" \")[1:]) + \" endsequence\"}\n",
    "    l_all.append(line)\n",
    "    "
   ]
  },
  {
   "cell_type": "code",
   "execution_count": 10,
   "id": "37333e78",
   "metadata": {},
   "outputs": [
    {
     "name": "stderr",
     "output_type": "stream",
     "text": [
      "/Users/ChrisKarg/.pyenv/versions/3.8.13/envs/lewagon/lib/python3.8/site-packages/pandas/compat/__init__.py:124: UserWarning: Could not import the lzma module. Your installed Python is incomplete. Attempting to use lzma compression will result in a RuntimeError.\n",
      "  warnings.warn(msg)\n"
     ]
    }
   ],
   "source": [
    "import pandas as pd\n",
    "df_all = pd.DataFrame(l_all)"
   ]
  },
  {
   "cell_type": "code",
   "execution_count": 11,
   "id": "b619b696",
   "metadata": {},
   "outputs": [],
   "source": [
    "from tensorflow.keras.preprocessing.text import Tokenizer"
   ]
  },
  {
   "cell_type": "code",
   "execution_count": 12,
   "id": "0c56cc59",
   "metadata": {},
   "outputs": [],
   "source": [
    "t = Tokenizer()\n",
    "t.fit_on_texts(df_all.value)"
   ]
  },
  {
   "cell_type": "code",
   "execution_count": 13,
   "id": "9b5420b9",
   "metadata": {},
   "outputs": [],
   "source": [
    "df_all[\"value_tokenized\"] = t.texts_to_sequences(df_all.value)"
   ]
  },
  {
   "cell_type": "code",
   "execution_count": null,
   "id": "d5177f94",
   "metadata": {},
   "outputs": [],
   "source": []
  },
  {
   "cell_type": "code",
   "execution_count": 127,
   "id": "3a50811f",
   "metadata": {},
   "outputs": [],
   "source": [
    "train_ids = np.unique(df_all.id)[:int(0.8*len(np.unique(df_all.id)))]\n",
    "test_ids = np.unique(df_all.id)[int(0.8*len(np.unique(df_all.id))):]"
   ]
  },
  {
   "cell_type": "code",
   "execution_count": 129,
   "id": "5ec5d7d4",
   "metadata": {},
   "outputs": [
    {
     "data": {
      "text/plain": [
       "1619"
      ]
     },
     "execution_count": 129,
     "metadata": {},
     "output_type": "execute_result"
    }
   ],
   "source": [
    "len(test_ids)"
   ]
  },
  {
   "cell_type": "code",
   "execution_count": 131,
   "id": "99adae75",
   "metadata": {},
   "outputs": [],
   "source": [
    "df_train = df_all[df_all.id.isin(train_ids)]\n",
    "df_test = df_all[df_all.id.isin(test_ids)]"
   ]
  },
  {
   "cell_type": "code",
   "execution_count": 45,
   "id": "fe08ff70",
   "metadata": {},
   "outputs": [],
   "source": [
    "final_array = np.array(list(imgs_to_load.ravel()))"
   ]
  },
  {
   "cell_type": "code",
   "execution_count": 47,
   "id": "bea6ec96",
   "metadata": {},
   "outputs": [
    {
     "data": {
      "text/plain": [
       "(16,)"
      ]
     },
     "execution_count": 47,
     "metadata": {},
     "output_type": "execute_result"
    }
   ],
   "source": [
    "final_array.shape"
   ]
  },
  {
   "cell_type": "code",
   "execution_count": 48,
   "id": "9c864a1a",
   "metadata": {
    "scrolled": true
   },
   "outputs": [
    {
     "data": {
      "text/plain": [
       "array(['1000268201_693b08cb0e', '1000268201_693b08cb0e',\n",
       "       '1000268201_693b08cb0e', '1000268201_693b08cb0e',\n",
       "       '1000268201_693b08cb0e', '1001773457_577c3a7d70',\n",
       "       '1001773457_577c3a7d70', '1001773457_577c3a7d70',\n",
       "       '1001773457_577c3a7d70', '1001773457_577c3a7d70',\n",
       "       '1002674143_1b742ab4b8', '1002674143_1b742ab4b8',\n",
       "       '1002674143_1b742ab4b8', '1002674143_1b742ab4b8',\n",
       "       '1002674143_1b742ab4b8', '1003163366_44323f5815'], dtype='<U21')"
      ]
     },
     "execution_count": 48,
     "metadata": {},
     "output_type": "execute_result"
    }
   ],
   "source": [
    "final_array"
   ]
  },
  {
   "cell_type": "code",
   "execution_count": null,
   "id": "4e69fd86",
   "metadata": {},
   "outputs": [],
   "source": [
    "#output -> arry shape (16,225,225,3)\n",
    "#stacked images \n",
    "#for loop to load each image store it in list and transform all list into arry"
   ]
  },
  {
   "cell_type": "code",
   "execution_count": 138,
   "id": "2f156081",
   "metadata": {},
   "outputs": [],
   "source": [
    "class DataPipeline:\n",
    "    \n",
    "    def __init__(self,df,batch_size, vocab_size, img_folder_path,model):\n",
    "        self.df = df\n",
    "        self.batch_size = batch_size\n",
    "        self.vocab_size = vocab_size\n",
    "        self.img_folder_path = img_folder_path\n",
    "        self.prepare_dataset()\n",
    "        self.encoder_model = model\n",
    "\n",
    "    def prepare_dataset(self):\n",
    "\n",
    "\n",
    "        # for loop to append X1,X2,y\n",
    "        X1,X2,y = [],[],[]\n",
    "\n",
    "        for idx, data in self.df.iterrows():\n",
    "\n",
    "            seq = data[\"value_tokenized\"]\n",
    "            for i in range(1,len(seq)):\n",
    "                X1.append(data[\"id\"])\n",
    "                X2.append(seq[0:i])\n",
    "                y.append(seq[i])\n",
    "\n",
    "        self.X1,self.X2,self.y = X1,X2,y\n",
    "    \n",
    "    def encode_all_images(self):\n",
    "        \n",
    "       \n",
    "        \n",
    "        l_toencode = np.unique(self.X1)\n",
    "        dic_encoded={}\n",
    "        for image_name in tqdm(l_toencode):\n",
    "            img_path = self.img_folder_path+image_name + \".jpg\"\n",
    "            arr_path = self.img_folder_path+image_name + \".npy\"\n",
    "            if os.path.exist(img_path):\n",
    "                img = image.load_img(img_path, target_size=(256,256,3))\n",
    "                x = image.img_to_array(img)\n",
    "                x = np.expand_dims(x, axis=0)\n",
    "                arr= self.encoder_model.predict(x)[0]\n",
    "                np.save(open(arr_path, 'wb'),arr)\n",
    "        \n",
    "\n",
    "        \n",
    "        \n",
    "    def load_images_encoded(self, imgs_to_load):\n",
    "        \n",
    "        \n",
    "        l_toencode = np.unique(imgs_to_load)\n",
    "        dic_encoded={}\n",
    "        for image_name in l_toencode:\n",
    "            arr_path = self.img_folder_path+image_name + \".npy\"\n",
    "            dic_encoded[image_name] = np.load(open(arr_path, 'rb'))\n",
    "        \n",
    "        features = []\n",
    "        for image_name in imgs_to_load:\n",
    "            features.append(dic_encoded[image_name])\n",
    "            \n",
    "        \n",
    "        final_array = np.array(features)\n",
    "        return final_array\n",
    "        \n",
    "\n",
    "    def seq_to_padded(self,seq_to_pad):\n",
    "        inputs_seq_model = pad_sequences(seq_to_pad,padding='post',maxlen=36)\n",
    "            \n",
    "        return inputs_seq_model\n",
    "\n",
    "    \n",
    "    def to_cat(self, y_to_cat):\n",
    "        # function to categorical\n",
    "        y = tf.keras.utils.to_categorical(y_to_cat, num_classes=self.vocab_size+2)\n",
    "        return y\n",
    "\n",
    "    def __getitem__(self,idx):\n",
    "        \n",
    "\n",
    "        imgs_to_load = self.X1[idx * self.batch_size : (idx +1) * self.batch_size]\n",
    "        x1_batch = self.load_images_encoded(imgs_to_load)\n",
    "        \n",
    "        seq_to_pad = self.X2[idx * self.batch_size : (idx +1) * self.batch_size]\n",
    "        x2_batch = self.seq_to_padded(seq_to_pad)\n",
    "        \n",
    "        y_to_cat = self.y[idx * self.batch_size : (idx +1) * self.batch_size]\n",
    "        y_batch = self.to_cat(y_to_cat)\n",
    "        \n",
    "        return ([x1_batch,\n",
    "                x2_batch],\n",
    "                y_batch)\n",
    "                \n",
    "    def __len__(self):\n",
    "        return len(self.X1)// self.batch_size"
   ]
  },
  {
   "cell_type": "code",
   "execution_count": 113,
   "id": "a3306513",
   "metadata": {},
   "outputs": [
    {
     "ename": "TypeError",
     "evalue": "__init__() missing 1 required positional argument: 'img_folder_path'",
     "output_type": "error",
     "traceback": [
      "\u001b[0;31m---------------------------------------------------------------------------\u001b[0m",
      "\u001b[0;31mTypeError\u001b[0m                                 Traceback (most recent call last)",
      "\u001b[0;32m/var/folders/zb/g5x4lcv10b16pnz1jhn6gx340000gn/T/ipykernel_72359/3296831592.py\u001b[0m in \u001b[0;36m<module>\u001b[0;34m\u001b[0m\n\u001b[0;32m----> 1\u001b[0;31m \u001b[0mdl\u001b[0m \u001b[0;34m=\u001b[0m \u001b[0mDataPipeline\u001b[0m\u001b[0;34m(\u001b[0m\u001b[0mdf_all\u001b[0m\u001b[0;34m,\u001b[0m\u001b[0;36m16\u001b[0m\u001b[0;34m,\u001b[0m \u001b[0;36m8765\u001b[0m\u001b[0;34m,\u001b[0m\u001b[0;34m)\u001b[0m\u001b[0;34m\u001b[0m\u001b[0;34m\u001b[0m\u001b[0m\n\u001b[0m",
      "\u001b[0;31mTypeError\u001b[0m: __init__() missing 1 required positional argument: 'img_folder_path'"
     ]
    }
   ],
   "source": [
    "dl = DataPipeline(df_all,16, 8765,)"
   ]
  },
  {
   "cell_type": "code",
   "execution_count": 114,
   "id": "79c2bf68",
   "metadata": {},
   "outputs": [],
   "source": [
    "dl.batch_size = 64"
   ]
  },
  {
   "cell_type": "code",
   "execution_count": 115,
   "id": "104310f3",
   "metadata": {},
   "outputs": [
    {
     "data": {
      "text/plain": [
       "7450"
      ]
     },
     "execution_count": 115,
     "metadata": {},
     "output_type": "execute_result"
    }
   ],
   "source": [
    "len(dl)"
   ]
  },
  {
   "cell_type": "code",
   "execution_count": 116,
   "id": "e0d59407",
   "metadata": {},
   "outputs": [
    {
     "data": {
      "text/plain": [
       "__main__.DataPipeline"
      ]
     },
     "execution_count": 116,
     "metadata": {},
     "output_type": "execute_result"
    }
   ],
   "source": [
    "type(dl)"
   ]
  },
  {
   "cell_type": "code",
   "execution_count": 117,
   "id": "93b882a6",
   "metadata": {},
   "outputs": [
    {
     "name": "stdout",
     "output_type": "stream",
     "text": [
      "/Users/ChrisKarg/code/CMaxK/robo_romeo/notebooks\r\n"
     ]
    }
   ],
   "source": [
    "!pwd"
   ]
  },
  {
   "cell_type": "code",
   "execution_count": 139,
   "id": "3ee8f3df",
   "metadata": {},
   "outputs": [],
   "source": [
    " #run CNN model to encode X1\n",
    "CNN_model = EfficientNetB0(\n",
    "include_top=False, \n",
    "weights='imagenet', \n",
    "input_tensor=None,\n",
    "input_shape= (256,256,3),\n",
    "pooling=None)"
   ]
  },
  {
   "cell_type": "code",
   "execution_count": 140,
   "id": "bdef6a54",
   "metadata": {},
   "outputs": [],
   "source": [
    "test = DataPipeline(df_all,16,8765, \"../raw_data/Flicker8k_Dataset/\",CNN_model)"
   ]
  },
  {
   "cell_type": "code",
   "execution_count": 141,
   "id": "514a73fc",
   "metadata": {},
   "outputs": [
    {
     "data": {
      "text/plain": [
       "222090"
      ]
     },
     "execution_count": 141,
     "metadata": {},
     "output_type": "execute_result"
    }
   ],
   "source": [
    "1346*5*33"
   ]
  },
  {
   "cell_type": "code",
   "execution_count": 125,
   "id": "a993640b",
   "metadata": {},
   "outputs": [
    {
     "data": {
      "application/vnd.jupyter.widget-view+json": {
       "model_id": "96a5e4edf5f14779af2c086b2754611f",
       "version_major": 2,
       "version_minor": 0
      },
      "text/plain": [
       "  0%|          | 0/8092 [00:00<?, ?it/s]"
      ]
     },
     "metadata": {},
     "output_type": "display_data"
    },
    {
     "ename": "FileNotFoundError",
     "evalue": "[Errno 2] No such file or directory: '../raw_data/Flicker8k_Dataset/2258277193_586949ec62.jpg'",
     "output_type": "error",
     "traceback": [
      "\u001b[0;31m---------------------------------------------------------------------------\u001b[0m",
      "\u001b[0;31mFileNotFoundError\u001b[0m                         Traceback (most recent call last)",
      "\u001b[0;32m/var/folders/zb/g5x4lcv10b16pnz1jhn6gx340000gn/T/ipykernel_72359/3355481840.py\u001b[0m in \u001b[0;36m<module>\u001b[0;34m\u001b[0m\n\u001b[0;32m----> 1\u001b[0;31m \u001b[0mtest\u001b[0m\u001b[0;34m.\u001b[0m\u001b[0mencode_all_images\u001b[0m\u001b[0;34m(\u001b[0m\u001b[0;34m)\u001b[0m\u001b[0;34m\u001b[0m\u001b[0;34m\u001b[0m\u001b[0m\n\u001b[0m",
      "\u001b[0;32m/var/folders/zb/g5x4lcv10b16pnz1jhn6gx340000gn/T/ipykernel_72359/888738455.py\u001b[0m in \u001b[0;36mencode_all_images\u001b[0;34m(self)\u001b[0m\n\u001b[1;32m     39\u001b[0m             \u001b[0mimg_path\u001b[0m \u001b[0;34m=\u001b[0m \u001b[0mself\u001b[0m\u001b[0;34m.\u001b[0m\u001b[0mimg_folder_path\u001b[0m\u001b[0;34m+\u001b[0m\u001b[0mimage_name\u001b[0m \u001b[0;34m+\u001b[0m \u001b[0;34m\".jpg\"\u001b[0m\u001b[0;34m\u001b[0m\u001b[0;34m\u001b[0m\u001b[0m\n\u001b[1;32m     40\u001b[0m             \u001b[0marr_path\u001b[0m \u001b[0;34m=\u001b[0m \u001b[0mself\u001b[0m\u001b[0;34m.\u001b[0m\u001b[0mimg_folder_path\u001b[0m\u001b[0;34m+\u001b[0m\u001b[0mimage_name\u001b[0m \u001b[0;34m+\u001b[0m \u001b[0;34m\".npy\"\u001b[0m\u001b[0;34m\u001b[0m\u001b[0;34m\u001b[0m\u001b[0m\n\u001b[0;32m---> 41\u001b[0;31m             \u001b[0mimg\u001b[0m \u001b[0;34m=\u001b[0m \u001b[0mimage\u001b[0m\u001b[0;34m.\u001b[0m\u001b[0mload_img\u001b[0m\u001b[0;34m(\u001b[0m\u001b[0mimg_path\u001b[0m\u001b[0;34m,\u001b[0m \u001b[0mtarget_size\u001b[0m\u001b[0;34m=\u001b[0m\u001b[0;34m(\u001b[0m\u001b[0;36m256\u001b[0m\u001b[0;34m,\u001b[0m\u001b[0;36m256\u001b[0m\u001b[0;34m,\u001b[0m\u001b[0;36m3\u001b[0m\u001b[0;34m)\u001b[0m\u001b[0;34m)\u001b[0m\u001b[0;34m\u001b[0m\u001b[0;34m\u001b[0m\u001b[0m\n\u001b[0m\u001b[1;32m     42\u001b[0m             \u001b[0mx\u001b[0m \u001b[0;34m=\u001b[0m \u001b[0mimage\u001b[0m\u001b[0;34m.\u001b[0m\u001b[0mimg_to_array\u001b[0m\u001b[0;34m(\u001b[0m\u001b[0mimg\u001b[0m\u001b[0;34m)\u001b[0m\u001b[0;34m\u001b[0m\u001b[0;34m\u001b[0m\u001b[0m\n\u001b[1;32m     43\u001b[0m             \u001b[0mx\u001b[0m \u001b[0;34m=\u001b[0m \u001b[0mnp\u001b[0m\u001b[0;34m.\u001b[0m\u001b[0mexpand_dims\u001b[0m\u001b[0;34m(\u001b[0m\u001b[0mx\u001b[0m\u001b[0;34m,\u001b[0m \u001b[0maxis\u001b[0m\u001b[0;34m=\u001b[0m\u001b[0;36m0\u001b[0m\u001b[0;34m)\u001b[0m\u001b[0;34m\u001b[0m\u001b[0;34m\u001b[0m\u001b[0m\n",
      "\u001b[0;32m~/.pyenv/versions/3.8.13/envs/lewagon/lib/python3.8/site-packages/keras/preprocessing/image.py\u001b[0m in \u001b[0;36mload_img\u001b[0;34m(path, grayscale, color_mode, target_size, interpolation)\u001b[0m\n\u001b[1;32m    311\u001b[0m       \u001b[0mValueError\u001b[0m\u001b[0;34m:\u001b[0m \u001b[0;32mif\u001b[0m \u001b[0minterpolation\u001b[0m \u001b[0mmethod\u001b[0m \u001b[0;32mis\u001b[0m \u001b[0;32mnot\u001b[0m \u001b[0msupported\u001b[0m\u001b[0;34m.\u001b[0m\u001b[0;34m\u001b[0m\u001b[0;34m\u001b[0m\u001b[0m\n\u001b[1;32m    312\u001b[0m   \"\"\"\n\u001b[0;32m--> 313\u001b[0;31m   return image.load_img(path, grayscale=grayscale, color_mode=color_mode,\n\u001b[0m\u001b[1;32m    314\u001b[0m                         target_size=target_size, interpolation=interpolation)\n\u001b[1;32m    315\u001b[0m \u001b[0;34m\u001b[0m\u001b[0m\n",
      "\u001b[0;32m~/.pyenv/versions/3.8.13/envs/lewagon/lib/python3.8/site-packages/keras_preprocessing/image/utils.py\u001b[0m in \u001b[0;36mload_img\u001b[0;34m(path, grayscale, color_mode, target_size, interpolation)\u001b[0m\n\u001b[1;32m    111\u001b[0m         raise ImportError('Could not import PIL.Image. '\n\u001b[1;32m    112\u001b[0m                           'The use of `load_img` requires PIL.')\n\u001b[0;32m--> 113\u001b[0;31m     \u001b[0;32mwith\u001b[0m \u001b[0mopen\u001b[0m\u001b[0;34m(\u001b[0m\u001b[0mpath\u001b[0m\u001b[0;34m,\u001b[0m \u001b[0;34m'rb'\u001b[0m\u001b[0;34m)\u001b[0m \u001b[0;32mas\u001b[0m \u001b[0mf\u001b[0m\u001b[0;34m:\u001b[0m\u001b[0;34m\u001b[0m\u001b[0;34m\u001b[0m\u001b[0m\n\u001b[0m\u001b[1;32m    114\u001b[0m         \u001b[0mimg\u001b[0m \u001b[0;34m=\u001b[0m \u001b[0mpil_image\u001b[0m\u001b[0;34m.\u001b[0m\u001b[0mopen\u001b[0m\u001b[0;34m(\u001b[0m\u001b[0mio\u001b[0m\u001b[0;34m.\u001b[0m\u001b[0mBytesIO\u001b[0m\u001b[0;34m(\u001b[0m\u001b[0mf\u001b[0m\u001b[0;34m.\u001b[0m\u001b[0mread\u001b[0m\u001b[0;34m(\u001b[0m\u001b[0;34m)\u001b[0m\u001b[0;34m)\u001b[0m\u001b[0;34m)\u001b[0m\u001b[0;34m\u001b[0m\u001b[0;34m\u001b[0m\u001b[0m\n\u001b[1;32m    115\u001b[0m         \u001b[0;32mif\u001b[0m \u001b[0mcolor_mode\u001b[0m \u001b[0;34m==\u001b[0m \u001b[0;34m'grayscale'\u001b[0m\u001b[0;34m:\u001b[0m\u001b[0;34m\u001b[0m\u001b[0;34m\u001b[0m\u001b[0m\n",
      "\u001b[0;31mFileNotFoundError\u001b[0m: [Errno 2] No such file or directory: '../raw_data/Flicker8k_Dataset/2258277193_586949ec62.jpg'"
     ]
    }
   ],
   "source": [
    "test.encode_all_images()"
   ]
  },
  {
   "cell_type": "code",
   "execution_count": 122,
   "id": "f60926bf",
   "metadata": {},
   "outputs": [
    {
     "data": {
      "text/plain": [
       "(8, 8, 1280)"
      ]
     },
     "execution_count": 122,
     "metadata": {},
     "output_type": "execute_result"
    }
   ],
   "source": [
    "np.load(open('../raw_data/Flicker8k_Dataset/1000268201_693b08cb0e.npy','rb')).shape"
   ]
  },
  {
   "cell_type": "code",
   "execution_count": 136,
   "id": "b4562245",
   "metadata": {},
   "outputs": [
    {
     "name": "stdout",
     "output_type": "stream",
     "text": [
      "1\n",
      "0:00:00.010115\n",
      "0:00:00.000283\n",
      "0:00:00.000446\n"
     ]
    }
   ],
   "source": [
    "(X1,X2),y = test[1]"
   ]
  },
  {
   "cell_type": "code",
   "execution_count": null,
   "id": "b3fa2b2c",
   "metadata": {},
   "outputs": [],
   "source": []
  }
 ],
 "metadata": {
  "kernelspec": {
   "display_name": "Python 3 (ipykernel)",
   "language": "python",
   "name": "python3"
  },
  "language_info": {
   "codemirror_mode": {
    "name": "ipython",
    "version": 3
   },
   "file_extension": ".py",
   "mimetype": "text/x-python",
   "name": "python",
   "nbconvert_exporter": "python",
   "pygments_lexer": "ipython3",
   "version": "3.8.13"
  },
  "toc": {
   "base_numbering": 1,
   "nav_menu": {},
   "number_sections": true,
   "sideBar": true,
   "skip_h1_title": false,
   "title_cell": "Table of Contents",
   "title_sidebar": "Contents",
   "toc_cell": false,
   "toc_position": {},
   "toc_section_display": true,
   "toc_window_display": false
  }
 },
 "nbformat": 4,
 "nbformat_minor": 5
}
