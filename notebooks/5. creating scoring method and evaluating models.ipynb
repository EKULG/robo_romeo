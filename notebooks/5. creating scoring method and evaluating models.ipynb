{
 "cells": [
  {
   "cell_type": "code",
   "execution_count": 1,
   "id": "2a5a686a-ba4c-46a3-9823-d562a29364c4",
   "metadata": {},
   "outputs": [],
   "source": [
    "import numpy as np\n",
    "import pydot\n",
    "import graphviz\n",
    "from tensorflow.keras.applications.efficientnet import EfficientNetB0\n",
    "from tensorflow.keras.preprocessing import image\n",
    "from tensorflow.keras.utils import plot_model\n",
    "from tensorflow.keras.models import Model\n",
    "from tensorflow.keras.layers import AveragePooling2D, GlobalAveragePooling2D, Dense, Input\n",
    "from tensorflow.keras.layers import Embedding, LSTM, Add\n",
    "from tensorflow.keras.losses import SparseCategoricalCrossentropy\n",
    "from sentence_transformers import SentenceTransformer\n",
    "from sklearn.metrics.pairwise import cosine_similarity\n",
    "import sentence_transformers \n",
    "import joblib\n",
    "import pickle\n",
    "import numpy as np\n",
    "import tensorflow as tf\n",
    "from tensorflow.keras.preprocessing.sequence import pad_sequences\n",
    "from IPython import display\n",
    "from tensorflow.keras.applications.efficientnet import EfficientNetB0\n",
    "from tensorflow.keras.preprocessing import image\n",
    "from tensorflow.keras.applications.vgg16 import preprocess_input\n",
    "from tensorflow.keras.layers import Input, GlobalAveragePooling2D, Dense\n",
    "from tensorflow.keras.models import Model\n",
    "from tqdm.notebook import tqdm\n",
    "import pandas as pd\n",
    "from tensorflow.keras.preprocessing.text import Tokenizer\n",
    "import os"
   ]
  },
  {
   "cell_type": "code",
   "execution_count": 2,
   "id": "5640f0b3-db07-4295-ade1-4cf04d614799",
   "metadata": {},
   "outputs": [
    {
     "name": "stdout",
     "output_type": "stream",
     "text": [
      "Requirement already satisfied: sentence-transformers in /opt/conda/lib/python3.7/site-packages (2.2.0)\n",
      "Requirement already satisfied: transformers<5.0.0,>=4.6.0 in /opt/conda/lib/python3.7/site-packages (from sentence-transformers) (4.19.4)\n",
      "Requirement already satisfied: scikit-learn in /opt/conda/lib/python3.7/site-packages (from sentence-transformers) (1.0.2)\n",
      "Requirement already satisfied: numpy in /opt/conda/lib/python3.7/site-packages (from sentence-transformers) (1.21.6)\n",
      "Requirement already satisfied: scipy in /opt/conda/lib/python3.7/site-packages (from sentence-transformers) (1.7.3)\n",
      "Requirement already satisfied: huggingface-hub in /opt/conda/lib/python3.7/site-packages (from sentence-transformers) (0.7.0)\n",
      "Requirement already satisfied: torchvision in /opt/conda/lib/python3.7/site-packages (from sentence-transformers) (0.12.0)\n",
      "Requirement already satisfied: tqdm in /opt/conda/lib/python3.7/site-packages (from sentence-transformers) (4.64.0)\n",
      "Requirement already satisfied: nltk in /opt/conda/lib/python3.7/site-packages (from sentence-transformers) (3.7)\n",
      "Requirement already satisfied: torch>=1.6.0 in /opt/conda/lib/python3.7/site-packages (from sentence-transformers) (1.11.0)\n",
      "Requirement already satisfied: sentencepiece in /opt/conda/lib/python3.7/site-packages (from sentence-transformers) (0.1.96)\n",
      "Requirement already satisfied: typing-extensions in /opt/conda/lib/python3.7/site-packages (from torch>=1.6.0->sentence-transformers) (4.2.0)\n",
      "Requirement already satisfied: filelock in /opt/conda/lib/python3.7/site-packages (from transformers<5.0.0,>=4.6.0->sentence-transformers) (3.7.1)\n",
      "Requirement already satisfied: packaging>=20.0 in /opt/conda/lib/python3.7/site-packages (from transformers<5.0.0,>=4.6.0->sentence-transformers) (21.3)\n",
      "Requirement already satisfied: tokenizers!=0.11.3,<0.13,>=0.11.1 in /opt/conda/lib/python3.7/site-packages (from transformers<5.0.0,>=4.6.0->sentence-transformers) (0.12.1)\n",
      "Requirement already satisfied: regex!=2019.12.17 in /opt/conda/lib/python3.7/site-packages (from transformers<5.0.0,>=4.6.0->sentence-transformers) (2022.6.2)\n",
      "Requirement already satisfied: importlib-metadata in /opt/conda/lib/python3.7/site-packages (from transformers<5.0.0,>=4.6.0->sentence-transformers) (4.11.4)\n",
      "Requirement already satisfied: requests in /opt/conda/lib/python3.7/site-packages (from transformers<5.0.0,>=4.6.0->sentence-transformers) (2.27.1)\n",
      "Requirement already satisfied: pyyaml>=5.1 in /opt/conda/lib/python3.7/site-packages (from transformers<5.0.0,>=4.6.0->sentence-transformers) (6.0)\n",
      "Requirement already satisfied: joblib in /opt/conda/lib/python3.7/site-packages (from nltk->sentence-transformers) (1.1.0)\n",
      "Requirement already satisfied: click in /opt/conda/lib/python3.7/site-packages (from nltk->sentence-transformers) (8.1.3)\n",
      "Requirement already satisfied: threadpoolctl>=2.0.0 in /opt/conda/lib/python3.7/site-packages (from scikit-learn->sentence-transformers) (3.1.0)\n",
      "Requirement already satisfied: pillow!=8.3.*,>=5.3.0 in /opt/conda/lib/python3.7/site-packages (from torchvision->sentence-transformers) (9.1.1)\n",
      "Requirement already satisfied: pyparsing!=3.0.5,>=2.0.2 in /opt/conda/lib/python3.7/site-packages (from packaging>=20.0->transformers<5.0.0,>=4.6.0->sentence-transformers) (3.0.9)\n",
      "Requirement already satisfied: zipp>=0.5 in /opt/conda/lib/python3.7/site-packages (from importlib-metadata->transformers<5.0.0,>=4.6.0->sentence-transformers) (3.8.0)\n",
      "Requirement already satisfied: urllib3<1.27,>=1.21.1 in /opt/conda/lib/python3.7/site-packages (from requests->transformers<5.0.0,>=4.6.0->sentence-transformers) (1.26.9)\n",
      "Requirement already satisfied: idna<4,>=2.5 in /opt/conda/lib/python3.7/site-packages (from requests->transformers<5.0.0,>=4.6.0->sentence-transformers) (3.3)\n",
      "Requirement already satisfied: certifi>=2017.4.17 in /opt/conda/lib/python3.7/site-packages (from requests->transformers<5.0.0,>=4.6.0->sentence-transformers) (2022.5.18.1)\n",
      "Requirement already satisfied: charset-normalizer~=2.0.0 in /opt/conda/lib/python3.7/site-packages (from requests->transformers<5.0.0,>=4.6.0->sentence-transformers) (2.0.12)\n",
      "Note: you may need to restart the kernel to use updated packages.\n"
     ]
    }
   ],
   "source": [
    "pip install -U sentence-transformers"
   ]
  },
  {
   "cell_type": "markdown",
   "id": "1a5f1109-bedc-4a0f-8cc3-edcfcc29522c",
   "metadata": {},
   "source": [
    "# Create the dataframe for train and test"
   ]
  },
  {
   "cell_type": "code",
   "execution_count": 5,
   "id": "471be655-9c46-4934-bad4-a1aeecbdae03",
   "metadata": {},
   "outputs": [],
   "source": [
    "# function to load documents into memory\n",
    "def load_doc(filename):\n",
    "    # Open file to read\n",
    "    file = open(filename, 'r')\n",
    "    text = file.read()\n",
    "    file.close()\n",
    "    return text"
   ]
  },
  {
   "cell_type": "code",
   "execution_count": 6,
   "id": "ce86c882-f536-489e-bc89-ceacbd0a69ac",
   "metadata": {},
   "outputs": [],
   "source": [
    "# create dataframe from cleaned descriptions.txt file. pass file path to function to create\n",
    "def get_dataframe(folder_path):\n",
    "    dataframe = load_doc(folder_path)\n",
    "    dataframe = dataframe.split('\\n')\n",
    "\n",
    "    l_all =[]\n",
    "    for n in dataframe:\n",
    "        line = {\"id\": n.split(\" \")[0],\n",
    "            'value': \"startsequence \" + \" \".join(n.split(\" \")[1:]) + \" endsequence\"}\n",
    "        l_all.append(line)\n",
    "\n",
    "    df_all = pd.DataFrame(l_all)\n",
    "\n",
    "    t = Tokenizer()\n",
    "    t.fit_on_texts(df_all.value)\n",
    "\n",
    "    df_all[\"value_tokenized\"] = t.texts_to_sequences(df_all.value)\n",
    "\n",
    "    train_ids = np.unique(df_all.id)[:int(0.8*len(np.unique(df_all.id)))]\n",
    "    test_ids = np.unique(df_all.id)[int(0.8*len(np.unique(df_all.id))):]\n",
    "\n",
    "    df_train = df_all[df_all.id.isin(train_ids)]\n",
    "    df_test = df_all[df_all.id.isin(test_ids)]\n",
    "\n",
    "    return df_train,df_test,t"
   ]
  },
  {
   "cell_type": "code",
   "execution_count": 7,
   "id": "988a9128-0863-4001-80f0-d1cf3166aad1",
   "metadata": {},
   "outputs": [],
   "source": [
    "X_train,X_test,t = get_dataframe(\"../raw_data/descriptions.txt\")"
   ]
  },
  {
   "cell_type": "markdown",
   "id": "fd437f5c-210a-40d5-af43-bea82e04d9d8",
   "metadata": {},
   "source": [
    "# CNN model"
   ]
  },
  {
   "cell_type": "code",
   "execution_count": 8,
   "id": "9c78a2d0-0b49-4f02-a678-7976cd1a1f75",
   "metadata": {},
   "outputs": [
    {
     "name": "stderr",
     "output_type": "stream",
     "text": [
      "2022-06-16 13:31:25.811100: I tensorflow/stream_executor/cuda/cuda_gpu_executor.cc:936] successful NUMA node read from SysFS had negative value (-1), but there must be at least one NUMA node, so returning NUMA node zero\n",
      "2022-06-16 13:31:25.819980: I tensorflow/stream_executor/cuda/cuda_gpu_executor.cc:936] successful NUMA node read from SysFS had negative value (-1), but there must be at least one NUMA node, so returning NUMA node zero\n",
      "2022-06-16 13:31:25.820339: I tensorflow/stream_executor/cuda/cuda_gpu_executor.cc:936] successful NUMA node read from SysFS had negative value (-1), but there must be at least one NUMA node, so returning NUMA node zero\n",
      "2022-06-16 13:31:25.821463: I tensorflow/core/platform/cpu_feature_guard.cc:151] This TensorFlow binary is optimized with oneAPI Deep Neural Network Library (oneDNN) to use the following CPU instructions in performance-critical operations:  AVX2 AVX512F FMA\n",
      "To enable them in other operations, rebuild TensorFlow with the appropriate compiler flags.\n",
      "2022-06-16 13:31:25.821860: I tensorflow/stream_executor/cuda/cuda_gpu_executor.cc:936] successful NUMA node read from SysFS had negative value (-1), but there must be at least one NUMA node, so returning NUMA node zero\n",
      "2022-06-16 13:31:25.822251: I tensorflow/stream_executor/cuda/cuda_gpu_executor.cc:936] successful NUMA node read from SysFS had negative value (-1), but there must be at least one NUMA node, so returning NUMA node zero\n",
      "2022-06-16 13:31:25.822554: I tensorflow/stream_executor/cuda/cuda_gpu_executor.cc:936] successful NUMA node read from SysFS had negative value (-1), but there must be at least one NUMA node, so returning NUMA node zero\n",
      "2022-06-16 13:31:26.237399: I tensorflow/stream_executor/cuda/cuda_gpu_executor.cc:936] successful NUMA node read from SysFS had negative value (-1), but there must be at least one NUMA node, so returning NUMA node zero\n",
      "2022-06-16 13:31:26.237737: I tensorflow/stream_executor/cuda/cuda_gpu_executor.cc:936] successful NUMA node read from SysFS had negative value (-1), but there must be at least one NUMA node, so returning NUMA node zero\n",
      "2022-06-16 13:31:26.237990: I tensorflow/stream_executor/cuda/cuda_gpu_executor.cc:936] successful NUMA node read from SysFS had negative value (-1), but there must be at least one NUMA node, so returning NUMA node zero\n",
      "2022-06-16 13:31:26.238243: I tensorflow/core/common_runtime/gpu/gpu_device.cc:1525] Created device /job:localhost/replica:0/task:0/device:GPU:0 with 89 MB memory:  -> device: 0, name: Tesla T4, pci bus id: 0000:00:04.0, compute capability: 7.5\n"
     ]
    }
   ],
   "source": [
    "CNN_model = EfficientNetB0(\n",
    "    include_top=False, # Whether to include the fully-connected layer at the top of the network\n",
    "    weights='imagenet', # pre-trained weights on ImageNet\n",
    "    input_tensor=None,\n",
    "    input_shape= (256,256,3), # It should have exactly 3 inputs channels\n",
    "    pooling=None # Optional pooling mode for feature extraction when include_top is False\n",
    ")"
   ]
  },
  {
   "cell_type": "markdown",
   "id": "9a67e167-595a-4476-bf4a-b381d45fbc99",
   "metadata": {},
   "source": [
    "# Load the model"
   ]
  },
  {
   "cell_type": "code",
   "execution_count": 10,
   "id": "7fbc86b8-00d8-48cc-a605-2b43475f174c",
   "metadata": {},
   "outputs": [
    {
     "name": "stderr",
     "output_type": "stream",
     "text": [
      "2022-06-14 18:12:04.336867: W tensorflow/core/common_runtime/graph_constructor.cc:803] Node 'cond/while' has 13 outputs but the _output_shapes attribute specifies shapes for 46 outputs. Output shapes may be inaccurate.\n",
      "2022-06-14 18:12:04.350811: W tensorflow/core/common_runtime/graph_constructor.cc:803] Node 'cond' has 5 outputs but the _output_shapes attribute specifies shapes for 46 outputs. Output shapes may be inaccurate.\n",
      "2022-06-14 18:12:04.865927: W tensorflow/core/common_runtime/graph_constructor.cc:803] Node 'cond/while' has 13 outputs but the _output_shapes attribute specifies shapes for 46 outputs. Output shapes may be inaccurate.\n",
      "2022-06-14 18:12:04.879401: W tensorflow/core/common_runtime/graph_constructor.cc:803] Node 'cond' has 5 outputs but the _output_shapes attribute specifies shapes for 46 outputs. Output shapes may be inaccurate.\n",
      "2022-06-14 18:12:05.270698: W tensorflow/core/common_runtime/graph_constructor.cc:803] Node 'cond/while' has 13 outputs but the _output_shapes attribute specifies shapes for 46 outputs. Output shapes may be inaccurate.\n",
      "2022-06-14 18:12:05.285337: W tensorflow/core/common_runtime/graph_constructor.cc:803] Node 'cond' has 5 outputs but the _output_shapes attribute specifies shapes for 46 outputs. Output shapes may be inaccurate.\n",
      "2022-06-14 18:12:05.540795: W tensorflow/core/common_runtime/graph_constructor.cc:803] Node 'cond/while' has 13 outputs but the _output_shapes attribute specifies shapes for 46 outputs. Output shapes may be inaccurate.\n",
      "2022-06-14 18:12:05.768533: W tensorflow/core/common_runtime/graph_constructor.cc:803] Node 'cond' has 5 outputs but the _output_shapes attribute specifies shapes for 46 outputs. Output shapes may be inaccurate.\n",
      "2022-06-14 18:12:05.791055: W tensorflow/core/common_runtime/graph_constructor.cc:803] Node 'cond/while' has 13 outputs but the _output_shapes attribute specifies shapes for 46 outputs. Output shapes may be inaccurate.\n",
      "2022-06-14 18:12:05.803515: W tensorflow/core/common_runtime/graph_constructor.cc:803] Node 'cond' has 5 outputs but the _output_shapes attribute specifies shapes for 46 outputs. Output shapes may be inaccurate.\n",
      "2022-06-14 18:12:06.144887: W tensorflow/core/common_runtime/graph_constructor.cc:803] Node 'cond/while' has 13 outputs but the _output_shapes attribute specifies shapes for 46 outputs. Output shapes may be inaccurate.\n",
      "2022-06-14 18:12:06.158397: W tensorflow/core/common_runtime/graph_constructor.cc:803] Node 'cond' has 5 outputs but the _output_shapes attribute specifies shapes for 46 outputs. Output shapes may be inaccurate.\n",
      "2022-06-14 18:12:06.273638: W tensorflow/core/common_runtime/graph_constructor.cc:803] Node 'cond/while' has 13 outputs but the _output_shapes attribute specifies shapes for 46 outputs. Output shapes may be inaccurate.\n",
      "2022-06-14 18:12:06.553195: W tensorflow/core/common_runtime/graph_constructor.cc:803] Node 'cond' has 5 outputs but the _output_shapes attribute specifies shapes for 46 outputs. Output shapes may be inaccurate.\n"
     ]
    }
   ],
   "source": [
    "model = joblib.load('../output/model04_jlib')"
   ]
  },
  {
   "cell_type": "code",
   "execution_count": 72,
   "id": "343a5aa1-8a2c-424d-b887-daecfddbed14",
   "metadata": {},
   "outputs": [
    {
     "name": "stderr",
     "output_type": "stream",
     "text": [
      "2022-06-14 18:57:26.436858: W tensorflow/core/common_runtime/graph_constructor.cc:803] Node 'cond/while' has 13 outputs but the _output_shapes attribute specifies shapes for 46 outputs. Output shapes may be inaccurate.\n",
      "2022-06-14 18:57:26.449077: W tensorflow/core/common_runtime/graph_constructor.cc:803] Node 'cond' has 5 outputs but the _output_shapes attribute specifies shapes for 46 outputs. Output shapes may be inaccurate.\n",
      "2022-06-14 18:57:26.910428: W tensorflow/core/common_runtime/graph_constructor.cc:803] Node 'cond/while' has 13 outputs but the _output_shapes attribute specifies shapes for 46 outputs. Output shapes may be inaccurate.\n",
      "2022-06-14 18:57:26.922686: W tensorflow/core/common_runtime/graph_constructor.cc:803] Node 'cond' has 5 outputs but the _output_shapes attribute specifies shapes for 46 outputs. Output shapes may be inaccurate.\n",
      "2022-06-14 18:57:26.978988: W tensorflow/core/common_runtime/graph_constructor.cc:803] Node 'cond/while' has 13 outputs but the _output_shapes attribute specifies shapes for 46 outputs. Output shapes may be inaccurate.\n",
      "2022-06-14 18:57:26.990894: W tensorflow/core/common_runtime/graph_constructor.cc:803] Node 'cond' has 5 outputs but the _output_shapes attribute specifies shapes for 46 outputs. Output shapes may be inaccurate.\n",
      "2022-06-14 18:57:27.556534: W tensorflow/core/common_runtime/graph_constructor.cc:803] Node 'cond/while' has 13 outputs but the _output_shapes attribute specifies shapes for 46 outputs. Output shapes may be inaccurate.\n",
      "2022-06-14 18:57:27.569187: W tensorflow/core/common_runtime/graph_constructor.cc:803] Node 'cond' has 5 outputs but the _output_shapes attribute specifies shapes for 46 outputs. Output shapes may be inaccurate.\n",
      "2022-06-14 18:57:27.879604: W tensorflow/core/common_runtime/graph_constructor.cc:803] Node 'cond/while' has 13 outputs but the _output_shapes attribute specifies shapes for 46 outputs. Output shapes may be inaccurate.\n",
      "2022-06-14 18:57:27.892460: W tensorflow/core/common_runtime/graph_constructor.cc:803] Node 'cond' has 5 outputs but the _output_shapes attribute specifies shapes for 46 outputs. Output shapes may be inaccurate.\n",
      "2022-06-14 18:57:27.978831: W tensorflow/core/common_runtime/graph_constructor.cc:803] Node 'cond/while' has 13 outputs but the _output_shapes attribute specifies shapes for 46 outputs. Output shapes may be inaccurate.\n",
      "2022-06-14 18:57:27.991088: W tensorflow/core/common_runtime/graph_constructor.cc:803] Node 'cond' has 5 outputs but the _output_shapes attribute specifies shapes for 46 outputs. Output shapes may be inaccurate.\n",
      "2022-06-14 18:57:28.042859: W tensorflow/core/common_runtime/graph_constructor.cc:803] Node 'cond/while' has 13 outputs but the _output_shapes attribute specifies shapes for 46 outputs. Output shapes may be inaccurate.\n",
      "2022-06-14 18:57:28.054969: W tensorflow/core/common_runtime/graph_constructor.cc:803] Node 'cond' has 5 outputs but the _output_shapes attribute specifies shapes for 46 outputs. Output shapes may be inaccurate.\n"
     ]
    }
   ],
   "source": [
    "model01 = joblib.load('../output/model01_jlib')"
   ]
  },
  {
   "cell_type": "code",
   "execution_count": 85,
   "id": "b73c71d0-f0c6-416d-af6a-709e1e67e3b3",
   "metadata": {},
   "outputs": [
    {
     "name": "stderr",
     "output_type": "stream",
     "text": [
      "2022-06-14 19:07:32.228374: W tensorflow/core/common_runtime/graph_constructor.cc:803] Node 'cond/while' has 13 outputs but the _output_shapes attribute specifies shapes for 46 outputs. Output shapes may be inaccurate.\n",
      "2022-06-14 19:07:32.855926: W tensorflow/core/common_runtime/graph_constructor.cc:803] Node 'cond/while' has 13 outputs but the _output_shapes attribute specifies shapes for 46 outputs. Output shapes may be inaccurate.\n",
      "2022-06-14 19:07:32.868278: W tensorflow/core/common_runtime/graph_constructor.cc:803] Node 'cond' has 5 outputs but the _output_shapes attribute specifies shapes for 46 outputs. Output shapes may be inaccurate.\n",
      "2022-06-14 19:07:33.550699: W tensorflow/core/common_runtime/graph_constructor.cc:803] Node 'cond/while' has 13 outputs but the _output_shapes attribute specifies shapes for 46 outputs. Output shapes may be inaccurate.\n",
      "2022-06-14 19:07:33.563611: W tensorflow/core/common_runtime/graph_constructor.cc:803] Node 'cond' has 5 outputs but the _output_shapes attribute specifies shapes for 46 outputs. Output shapes may be inaccurate.\n",
      "2022-06-14 19:07:33.644107: W tensorflow/core/common_runtime/graph_constructor.cc:803] Node 'cond/while' has 13 outputs but the _output_shapes attribute specifies shapes for 46 outputs. Output shapes may be inaccurate.\n",
      "2022-06-14 19:07:33.655951: W tensorflow/core/common_runtime/graph_constructor.cc:803] Node 'cond' has 5 outputs but the _output_shapes attribute specifies shapes for 46 outputs. Output shapes may be inaccurate.\n",
      "2022-06-14 19:07:33.809980: W tensorflow/core/common_runtime/graph_constructor.cc:803] Node 'cond' has 5 outputs but the _output_shapes attribute specifies shapes for 46 outputs. Output shapes may be inaccurate.\n",
      "2022-06-14 19:07:33.884331: W tensorflow/core/common_runtime/graph_constructor.cc:803] Node 'cond/while' has 13 outputs but the _output_shapes attribute specifies shapes for 46 outputs. Output shapes may be inaccurate.\n",
      "2022-06-14 19:07:33.896300: W tensorflow/core/common_runtime/graph_constructor.cc:803] Node 'cond' has 5 outputs but the _output_shapes attribute specifies shapes for 46 outputs. Output shapes may be inaccurate.\n",
      "2022-06-14 19:07:33.966732: W tensorflow/core/common_runtime/graph_constructor.cc:803] Node 'cond/while' has 13 outputs but the _output_shapes attribute specifies shapes for 46 outputs. Output shapes may be inaccurate.\n",
      "2022-06-14 19:07:33.978675: W tensorflow/core/common_runtime/graph_constructor.cc:803] Node 'cond' has 5 outputs but the _output_shapes attribute specifies shapes for 46 outputs. Output shapes may be inaccurate.\n",
      "2022-06-14 19:07:34.135953: W tensorflow/core/common_runtime/graph_constructor.cc:803] Node 'cond/while' has 13 outputs but the _output_shapes attribute specifies shapes for 46 outputs. Output shapes may be inaccurate.\n",
      "2022-06-14 19:07:34.148669: W tensorflow/core/common_runtime/graph_constructor.cc:803] Node 'cond' has 5 outputs but the _output_shapes attribute specifies shapes for 46 outputs. Output shapes may be inaccurate.\n"
     ]
    }
   ],
   "source": [
    "model02 = joblib.load('../output/model02_jlib')"
   ]
  },
  {
   "cell_type": "markdown",
   "id": "a2997bdb-c372-4e3e-85b8-c8dade4d0cd4",
   "metadata": {},
   "source": [
    "# Predict the results"
   ]
  },
  {
   "cell_type": "code",
   "execution_count": 9,
   "id": "322c00ca-f17b-47f0-af0c-33a752dc8754",
   "metadata": {},
   "outputs": [],
   "source": [
    "def CNN_output(file_id):\n",
    "    \n",
    "    CNN_model = EfficientNetB0(\n",
    "    include_top=False, # Whether to include the fully-connected layer at the top of the network\n",
    "    weights='imagenet', # pre-trained weights on ImageNet\n",
    "    input_tensor=None,\n",
    "    input_shape= (256,256,3), # It should have exactly 3 inputs channels\n",
    "    pooling=None # Optional pooling mode for feature extraction when include_top is False\n",
    "    )\n",
    "    test_img_path = f\"../raw_data/pics/Flicker8k_Dataset/{file_id}\"\n",
    "    \n",
    "    test_img= image.load_img(test_img_path, target_size=(256,256,3))\n",
    "    x_test = image.img_to_array(test_img)\n",
    "    x_test = np.expand_dims(x_test, axis=0)\n",
    "    test = CNN_model.predict(x_test)\n",
    "    return test"
   ]
  },
  {
   "cell_type": "code",
   "execution_count": 10,
   "id": "95acd0d6-c6a7-466f-8b5d-d8484eb8268e",
   "metadata": {},
   "outputs": [],
   "source": [
    "def predic_seq(img_encoded,model):   \n",
    "    inputs_seq='startsequence'\n",
    "    inputs_seq = [2]\n",
    "    for i in range(36):\n",
    "        inputs_seq_model = pad_sequences([inputs_seq],padding='post',maxlen=36)\n",
    "        y_pre = model.predict([img_encoded,inputs_seq_model])\n",
    "        next_word = y_pre.argmax()\n",
    "        if next_word == 3:\n",
    "            break\n",
    "        inputs_seq.append(next_word)\n",
    "    return inputs_seq"
   ]
  },
  {
   "cell_type": "code",
   "execution_count": 11,
   "id": "a9aafdd6-dd13-49b1-bbcf-c5f4923d42dc",
   "metadata": {},
   "outputs": [],
   "source": [
    "def output_sentence(inputs_seq):\n",
    "    sentence  = []\n",
    "    b = t.word_index\n",
    "    for number in inputs_seq:     \n",
    "        sentence.append(list(b.keys())[list(b.values()).index(number)])\n",
    "        final_sentence  = ' '.join(word for word in sentence[1:])\n",
    "    return final_sentence\n",
    "    # return test_img"
   ]
  },
  {
   "cell_type": "markdown",
   "id": "6cd59b6d-3a0b-402e-bf46-22cb8e6f82b4",
   "metadata": {},
   "source": [
    "# Get the score"
   ]
  },
  {
   "cell_type": "code",
   "execution_count": 2,
   "id": "8962c5ef-430a-474e-a1f1-a60317797142",
   "metadata": {},
   "outputs": [],
   "source": [
    "model_doc2vec= SentenceTransformer('sentence-transformers/distiluse-base-multilingual-cased-v2')\n"
   ]
  },
  {
   "cell_type": "code",
   "execution_count": 3,
   "id": "4855f296-83d6-4cc2-9543-15f24a8ab3a1",
   "metadata": {},
   "outputs": [],
   "source": [
    "sentence = ['i am very good']"
   ]
  },
  {
   "cell_type": "code",
   "execution_count": 4,
   "id": "3b0cf724-4563-469a-8283-f7715d751e3e",
   "metadata": {},
   "outputs": [],
   "source": [
    "aaa= model_doc2vec.encode(sentence)"
   ]
  },
  {
   "cell_type": "code",
   "execution_count": 12,
   "id": "185384c0-3ad9-4c89-accb-060deaea4d24",
   "metadata": {},
   "outputs": [],
   "source": [
    "def rand_sequ(X_test,numbers,model):\n",
    "    X_test.value = X_test.value.str.replace('startsequence ','')\n",
    "    X_test.value = X_test.value.str.replace(' endsequence','')\n",
    "    X_test =  X_test.drop(['value_tokenized'], axis=1)\n",
    "    id_list = X_test.id.tolist()\n",
    "    cap_list =X_test.value.tolist()\n",
    "    img_list = id_list \n",
    "    capt_list = cap_list\n",
    "    total_sentence = []\n",
    "    image_id =[]\n",
    "    rand_img_index = np.random.randint(1619, size=numbers)\n",
    "    for i in rand_img_index:\n",
    "        cnn_out = CNN_output(img_list[i]+'.jpg')\n",
    "        seq_out = predic_seq(cnn_out,model)\n",
    "        sent_out = output_sentence(seq_out)\n",
    "        total_sentence.append(sent_out)\n",
    "        image_id.append(img_list[i])\n",
    "    captions = []\n",
    "    for imgs in image_id:\n",
    "        for index, row in X_test.iterrows():\n",
    "            if row['id'] in imgs:\n",
    "                captions.append(row['value'])\n",
    "    predict_m = np.repeat(total_sentence,5)\n",
    "    return captions, predict_m"
   ]
  },
  {
   "cell_type": "code",
   "execution_count": 86,
   "id": "22b10c67-cf51-414f-8268-7514741f8378",
   "metadata": {},
   "outputs": [],
   "source": [
    "captions, predict_m =rand_sequ(X_test,100,model02)"
   ]
  },
  {
   "cell_type": "code",
   "execution_count": 88,
   "id": "7f2eea23-f43b-4a63-94e5-33f236e397a5",
   "metadata": {},
   "outputs": [
    {
     "data": {
      "text/plain": [
       "500"
      ]
     },
     "execution_count": 88,
     "metadata": {},
     "output_type": "execute_result"
    }
   ],
   "source": [
    "len(captions)"
   ]
  },
  {
   "cell_type": "code",
   "execution_count": 89,
   "id": "cf631797-4a2f-466e-a1f7-7e32669e4414",
   "metadata": {},
   "outputs": [],
   "source": [
    "c= model_doc2vec.encode(captions)"
   ]
  },
  {
   "cell_type": "code",
   "execution_count": 90,
   "id": "60e402f2-ecf3-4903-869b-8119e54d13da",
   "metadata": {},
   "outputs": [],
   "source": [
    "d =model_doc2vec.encode(predict_m)"
   ]
  },
  {
   "cell_type": "code",
   "execution_count": 91,
   "id": "c952e5fa-1f00-4944-8929-ca9cca351718",
   "metadata": {},
   "outputs": [
    {
     "data": {
      "text/plain": [
       "(500, 512)"
      ]
     },
     "execution_count": 91,
     "metadata": {},
     "output_type": "execute_result"
    }
   ],
   "source": [
    "c.shape"
   ]
  },
  {
   "cell_type": "code",
   "execution_count": 13,
   "id": "bb56edb2-eba7-464f-b502-1cd58662708e",
   "metadata": {},
   "outputs": [],
   "source": [
    "def score_ave(c,d,shape):\n",
    "   \n",
    "    score_total =[]\n",
    "\n",
    "    for i in range(len(c)):\n",
    "        score = sentence_transformers.util.cos_sim(c[i],d[i])\n",
    "        score_total.append(score)\n",
    "    score_total_np = np.array(score_total)\n",
    "    score_total_final = score_total_np.reshape(5,shape)\n",
    "        \n",
    "    score_avr = []\n",
    "    for i in range(len(score_total_final)):\n",
    "        score_avr.append(score_total_final[i].mean())\n",
    "    score_overall = np.array(score_avr)\n",
    "    return score_overall.mean()"
   ]
  },
  {
   "cell_type": "code",
   "execution_count": 93,
   "id": "bd316a85-cc66-4a95-a041-a724bba66961",
   "metadata": {},
   "outputs": [
    {
     "data": {
      "text/plain": [
       "0.41559735"
      ]
     },
     "execution_count": 93,
     "metadata": {},
     "output_type": "execute_result"
    }
   ],
   "source": [
    "score_ave(c,d,100)\n"
   ]
  },
  {
   "cell_type": "code",
   "execution_count": 83,
   "id": "338f01ad-5695-4b84-86c1-3cc8cdaee53c",
   "metadata": {},
   "outputs": [],
   "source": [
    "model_6k = 0.4247114"
   ]
  },
  {
   "cell_type": "code",
   "execution_count": 94,
   "id": "95de590b-7307-4524-91e4-5a4c4d66c139",
   "metadata": {},
   "outputs": [],
   "source": [
    "model_6k01 = 0.41559735"
   ]
  },
  {
   "cell_type": "code",
   "execution_count": 96,
   "id": "11be75d0-616d-4d6c-8f01-985cac875f9d",
   "metadata": {},
   "outputs": [],
   "source": [
    "baseline_model = 0.13634846"
   ]
  },
  {
   "cell_type": "markdown",
   "id": "43021947-f5a4-41b7-abbb-e6233b8a35fd",
   "metadata": {},
   "source": [
    "# Try 30k model"
   ]
  },
  {
   "cell_type": "code",
   "execution_count": 13,
   "id": "765d7872-e25a-4d6b-9a06-fe924efd9e32",
   "metadata": {},
   "outputs": [],
   "source": [
    "import numpy as np\n",
    "import pickle\n",
    "from tensorflow.keras.applications.efficientnet import EfficientNetB0\n",
    "from tensorflow.keras.layers import Input, GlobalAveragePooling2D, Dense, Embedding, Add, LSTM\n",
    "from tensorflow.keras.models import Model\n",
    "from tensorflow.keras.preprocessing import image\n",
    "from tensorflow.keras.preprocessing.sequence import pad_sequences"
   ]
  },
  {
   "cell_type": "code",
   "execution_count": 14,
   "id": "2b4a9414-cbad-4a8c-b59c-4737c061da82",
   "metadata": {},
   "outputs": [],
   "source": [
    "def model_builder():\n",
    "    cap_len = 25\n",
    "    vocab_size = 19758\n",
    "    embed_dim = 1024\n",
    "    inputs2  = Input(shape=(cap_len,),name=\"captions\")\n",
    "    embed_layer = Embedding(vocab_size+3, embed_dim, mask_zero=True)(inputs2)\n",
    "    input_encoded = Input(shape=(8,8,1280),name=\"images_encoded\")\n",
    "    pooling = GlobalAveragePooling2D()(input_encoded)\n",
    "    cnn_dense = Dense(embed_dim, activation='relu')(pooling)\n",
    "    combine = Add()([embed_layer,cnn_dense])\n",
    "    lstm_layer = LSTM(embed_dim)(combine)\n",
    "    decoder = Dense(2048, activation='relu')(lstm_layer)\n",
    "    outputs = Dense(vocab_size+1, activation='softmax')(decoder)\n",
    "    lstm_model = Model(inputs=[input_encoded, inputs2], outputs=outputs)\n",
    "    lstm_model.compile(loss='categorical_crossentropy', optimizer='adam', metrics='accuracy')\n",
    "    return lstm_model"
   ]
  },
  {
   "cell_type": "code",
   "execution_count": 15,
   "id": "8a2a064f-0e70-47de-a495-f18fc62ce4bd",
   "metadata": {},
   "outputs": [],
   "source": [
    "def load_model_cache():\n",
    "\n",
    "    model = model_builder() #build empty model with the right architecure\n",
    "\n",
    "    #Get Current directory Path File\n",
    "    model.load_weights(\"model_run_30k_weights.h5\") #load weights only from h5 file\n",
    "\n",
    "    return model"
   ]
  },
  {
   "cell_type": "code",
   "execution_count": 16,
   "id": "c051a3ed-c1c7-4027-983f-1c613c5a0dd3",
   "metadata": {},
   "outputs": [
    {
     "name": "stderr",
     "output_type": "stream",
     "text": [
      "2022-06-16 13:32:25.582098: W tensorflow/core/common_runtime/bfc_allocator.cc:462] Allocator (GPU_0_bfc) ran out of memory trying to allocate 77.19MiB (rounded to 80941056)requested by op RandomUniform\n",
      "If the cause is memory fragmentation maybe the environment variable 'TF_GPU_ALLOCATOR=cuda_malloc_async' will improve the situation. \n",
      "Current allocation summary follows.\n",
      "Current allocation summary follows.\n",
      "2022-06-16 13:32:25.582159: I tensorflow/core/common_runtime/bfc_allocator.cc:1010] BFCAllocator dump for GPU_0_bfc\n",
      "2022-06-16 13:32:25.582173: I tensorflow/core/common_runtime/bfc_allocator.cc:1017] Bin (256): \tTotal Chunks: 79, Chunks in use: 79. 19.8KiB allocated for chunks. 19.8KiB in use in bin. 5.0KiB client-requested in use in bin.\n",
      "2022-06-16 13:32:25.582181: I tensorflow/core/common_runtime/bfc_allocator.cc:1017] Bin (512): \tTotal Chunks: 65, Chunks in use: 65. 41.2KiB allocated for chunks. 41.2KiB in use in bin. 33.4KiB client-requested in use in bin.\n",
      "2022-06-16 13:32:25.582187: I tensorflow/core/common_runtime/bfc_allocator.cc:1017] Bin (1024): \tTotal Chunks: 30, Chunks in use: 29. 33.5KiB allocated for chunks. 32.2KiB in use in bin. 28.6KiB client-requested in use in bin.\n",
      "2022-06-16 13:32:25.582196: I tensorflow/core/common_runtime/bfc_allocator.cc:1017] Bin (2048): \tTotal Chunks: 57, Chunks in use: 56. 142.2KiB allocated for chunks. 139.8KiB in use in bin. 128.0KiB client-requested in use in bin.\n",
      "2022-06-16 13:32:25.582202: I tensorflow/core/common_runtime/bfc_allocator.cc:1017] Bin (4096): \tTotal Chunks: 48, Chunks in use: 47. 229.2KiB allocated for chunks. 223.5KiB in use in bin. 205.8KiB client-requested in use in bin.\n",
      "2022-06-16 13:32:25.582209: I tensorflow/core/common_runtime/bfc_allocator.cc:1017] Bin (8192): \tTotal Chunks: 12, Chunks in use: 11. 138.0KiB allocated for chunks. 128.8KiB in use in bin. 114.0KiB client-requested in use in bin.\n",
      "2022-06-16 13:32:25.582215: I tensorflow/core/common_runtime/bfc_allocator.cc:1017] Bin (16384): \tTotal Chunks: 2, Chunks in use: 2. 42.0KiB allocated for chunks. 42.0KiB in use in bin. 39.4KiB client-requested in use in bin.\n",
      "2022-06-16 13:32:25.582222: I tensorflow/core/common_runtime/bfc_allocator.cc:1017] Bin (32768): \tTotal Chunks: 14, Chunks in use: 13. 548.2KiB allocated for chunks. 507.8KiB in use in bin. 465.2KiB client-requested in use in bin.\n",
      "2022-06-16 13:32:25.582228: I tensorflow/core/common_runtime/bfc_allocator.cc:1017] Bin (65536): \tTotal Chunks: 12, Chunks in use: 11. 942.8KiB allocated for chunks. 866.0KiB in use in bin. 825.4KiB client-requested in use in bin.\n",
      "2022-06-16 13:32:25.582235: I tensorflow/core/common_runtime/bfc_allocator.cc:1017] Bin (131072): \tTotal Chunks: 15, Chunks in use: 14. 2.91MiB allocated for chunks. 2.70MiB in use in bin. 2.43MiB client-requested in use in bin.\n",
      "2022-06-16 13:32:25.582240: I tensorflow/core/common_runtime/bfc_allocator.cc:1017] Bin (262144): \tTotal Chunks: 7, Chunks in use: 7. 2.18MiB allocated for chunks. 2.18MiB in use in bin. 1.85MiB client-requested in use in bin.\n",
      "2022-06-16 13:32:25.582246: I tensorflow/core/common_runtime/bfc_allocator.cc:1017] Bin (524288): \tTotal Chunks: 8, Chunks in use: 7. 6.54MiB allocated for chunks. 5.62MiB in use in bin. 5.55MiB client-requested in use in bin.\n",
      "2022-06-16 13:32:25.582252: I tensorflow/core/common_runtime/bfc_allocator.cc:1017] Bin (1048576): \tTotal Chunks: 3, Chunks in use: 3. 4.53MiB allocated for chunks. 4.53MiB in use in bin. 3.81MiB client-requested in use in bin.\n",
      "2022-06-16 13:32:25.582258: I tensorflow/core/common_runtime/bfc_allocator.cc:1017] Bin (2097152): \tTotal Chunks: 1, Chunks in use: 0. 2.94MiB allocated for chunks. 0B in use in bin. 0B client-requested in use in bin.\n",
      "2022-06-16 13:32:25.582264: I tensorflow/core/common_runtime/bfc_allocator.cc:1017] Bin (4194304): \tTotal Chunks: 0, Chunks in use: 0. 0B allocated for chunks. 0B in use in bin. 0B client-requested in use in bin.\n",
      "2022-06-16 13:32:25.582269: I tensorflow/core/common_runtime/bfc_allocator.cc:1017] Bin (8388608): \tTotal Chunks: 0, Chunks in use: 0. 0B allocated for chunks. 0B in use in bin. 0B client-requested in use in bin.\n",
      "2022-06-16 13:32:25.582279: I tensorflow/core/common_runtime/bfc_allocator.cc:1017] Bin (16777216): \tTotal Chunks: 0, Chunks in use: 0. 0B allocated for chunks. 0B in use in bin. 0B client-requested in use in bin.\n",
      "2022-06-16 13:32:25.582285: I tensorflow/core/common_runtime/bfc_allocator.cc:1017] Bin (33554432): \tTotal Chunks: 0, Chunks in use: 0. 0B allocated for chunks. 0B in use in bin. 0B client-requested in use in bin.\n",
      "2022-06-16 13:32:25.582291: I tensorflow/core/common_runtime/bfc_allocator.cc:1017] Bin (67108864): \tTotal Chunks: 1, Chunks in use: 0. 68.57MiB allocated for chunks. 0B in use in bin. 0B client-requested in use in bin.\n",
      "2022-06-16 13:32:25.582296: I tensorflow/core/common_runtime/bfc_allocator.cc:1017] Bin (134217728): \tTotal Chunks: 0, Chunks in use: 0. 0B allocated for chunks. 0B in use in bin. 0B client-requested in use in bin.\n",
      "2022-06-16 13:32:25.582302: I tensorflow/core/common_runtime/bfc_allocator.cc:1017] Bin (268435456): \tTotal Chunks: 0, Chunks in use: 0. 0B allocated for chunks. 0B in use in bin. 0B client-requested in use in bin.\n",
      "2022-06-16 13:32:25.582309: I tensorflow/core/common_runtime/bfc_allocator.cc:1033] Bin for 77.19MiB was 64.00MiB, Chunk State: \n",
      "2022-06-16 13:32:25.582320: I tensorflow/core/common_runtime/bfc_allocator.cc:1039]   Size: 68.57MiB | Requested Size: 1.56MiB | in_use: 0 | bin_num: 18, prev:   Size: 1.56MiB | Requested Size: 864.0KiB | in_use: 1 | bin_num: -1\n",
      "2022-06-16 13:32:25.582325: I tensorflow/core/common_runtime/bfc_allocator.cc:1046] Next region of size 94109696\n",
      "2022-06-16 13:32:25.582333: I tensorflow/core/common_runtime/bfc_allocator.cc:1066] InUse at 7f17a2000000 of size 1280 next 1\n",
      "2022-06-16 13:32:25.582338: I tensorflow/core/common_runtime/bfc_allocator.cc:1066] InUse at 7f17a2000500 of size 256 next 2\n",
      "2022-06-16 13:32:25.582343: I tensorflow/core/common_runtime/bfc_allocator.cc:1066] InUse at 7f17a2000600 of size 256 next 3\n",
      "2022-06-16 13:32:25.582347: I tensorflow/core/common_runtime/bfc_allocator.cc:1066] InUse at 7f17a2000700 of size 256 next 4\n",
      "2022-06-16 13:32:25.582352: I tensorflow/core/common_runtime/bfc_allocator.cc:1066] InUse at 7f17a2000800 of size 256 next 5\n",
      "2022-06-16 13:32:25.582357: I tensorflow/core/common_runtime/bfc_allocator.cc:1066] InUse at 7f17a2000900 of size 256 next 6\n",
      "2022-06-16 13:32:25.582371: I tensorflow/core/common_runtime/bfc_allocator.cc:1066] InUse at 7f17a2000a00 of size 256 next 7\n",
      "2022-06-16 13:32:25.582378: I tensorflow/core/common_runtime/bfc_allocator.cc:1066] InUse at 7f17a2000b00 of size 256 next 8\n",
      "2022-06-16 13:32:25.582384: I tensorflow/core/common_runtime/bfc_allocator.cc:1066] InUse at 7f17a2000c00 of size 256 next 9\n",
      "2022-06-16 13:32:25.582391: I tensorflow/core/common_runtime/bfc_allocator.cc:1066] InUse at 7f17a2000d00 of size 256 next 10\n",
      "2022-06-16 13:32:25.582398: I tensorflow/core/common_runtime/bfc_allocator.cc:1066] InUse at 7f17a2000e00 of size 256 next 13\n",
      "2022-06-16 13:32:25.582409: I tensorflow/core/common_runtime/bfc_allocator.cc:1066] InUse at 7f17a2000f00 of size 256 next 14\n",
      "2022-06-16 13:32:25.582416: I tensorflow/core/common_runtime/bfc_allocator.cc:1066] InUse at 7f17a2001000 of size 256 next 15\n",
      "2022-06-16 13:32:25.582423: I tensorflow/core/common_runtime/bfc_allocator.cc:1066] InUse at 7f17a2001100 of size 256 next 16\n",
      "2022-06-16 13:32:25.582430: I tensorflow/core/common_runtime/bfc_allocator.cc:1066] InUse at 7f17a2001200 of size 256 next 27\n",
      "2022-06-16 13:32:25.582439: I tensorflow/core/common_runtime/bfc_allocator.cc:1066] InUse at 7f17a2001300 of size 512 next 36\n",
      "2022-06-16 13:32:25.582465: I tensorflow/core/common_runtime/bfc_allocator.cc:1066] InUse at 7f17a2001500 of size 512 next 39\n",
      "2022-06-16 13:32:25.582473: I tensorflow/core/common_runtime/bfc_allocator.cc:1066] InUse at 7f17a2001700 of size 512 next 40\n",
      "2022-06-16 13:32:25.582480: I tensorflow/core/common_runtime/bfc_allocator.cc:1066] InUse at 7f17a2001900 of size 768 next 18\n",
      "2022-06-16 13:32:25.582490: I tensorflow/core/common_runtime/bfc_allocator.cc:1066] InUse at 7f17a2001c00 of size 256 next 19\n",
      "2022-06-16 13:32:25.582498: I tensorflow/core/common_runtime/bfc_allocator.cc:1066] InUse at 7f17a2001d00 of size 256 next 17\n",
      "2022-06-16 13:32:25.582506: I tensorflow/core/common_runtime/bfc_allocator.cc:1066] InUse at 7f17a2001e00 of size 256 next 20\n",
      "2022-06-16 13:32:25.582515: I tensorflow/core/common_runtime/bfc_allocator.cc:1066] InUse at 7f17a2001f00 of size 1536 next 22\n",
      "2022-06-16 13:32:25.582522: I tensorflow/core/common_runtime/bfc_allocator.cc:1066] InUse at 7f17a2002500 of size 256 next 23\n",
      "2022-06-16 13:32:25.582529: I tensorflow/core/common_runtime/bfc_allocator.cc:1066] InUse at 7f17a2002600 of size 256 next 24\n",
      "2022-06-16 13:32:25.582536: I tensorflow/core/common_runtime/bfc_allocator.cc:1066] InUse at 7f17a2002700 of size 256 next 26\n",
      "2022-06-16 13:32:25.582544: I tensorflow/core/common_runtime/bfc_allocator.cc:1066] InUse at 7f17a2002800 of size 256 next 11\n",
      "2022-06-16 13:32:25.582551: I tensorflow/core/common_runtime/bfc_allocator.cc:1066] InUse at 7f17a2002900 of size 1280 next 356\n",
      "2022-06-16 13:32:25.582558: I tensorflow/core/common_runtime/bfc_allocator.cc:1066] InUse at 7f17a2002e00 of size 256 next 12\n",
      "2022-06-16 13:32:25.582566: I tensorflow/core/common_runtime/bfc_allocator.cc:1066] InUse at 7f17a2002f00 of size 1024 next 21\n",
      "2022-06-16 13:32:25.582574: I tensorflow/core/common_runtime/bfc_allocator.cc:1066] InUse at 7f17a2003300 of size 3072 next 28\n",
      "2022-06-16 13:32:25.582580: I tensorflow/core/common_runtime/bfc_allocator.cc:1066] InUse at 7f17a2003f00 of size 256 next 31\n",
      "2022-06-16 13:32:25.582588: I tensorflow/core/common_runtime/bfc_allocator.cc:1066] InUse at 7f17a2004000 of size 256 next 32\n",
      "2022-06-16 13:32:25.582594: I tensorflow/core/common_runtime/bfc_allocator.cc:1066] InUse at 7f17a2004100 of size 256 next 33\n",
      "2022-06-16 13:32:25.582601: I tensorflow/core/common_runtime/bfc_allocator.cc:1066] InUse at 7f17a2004200 of size 256 next 34\n",
      "2022-06-16 13:32:25.582609: I tensorflow/core/common_runtime/bfc_allocator.cc:1066] InUse at 7f17a2004300 of size 256 next 35\n",
      "2022-06-16 13:32:25.582616: I tensorflow/core/common_runtime/bfc_allocator.cc:1066] InUse at 7f17a2004400 of size 768 next 29\n",
      "2022-06-16 13:32:25.582623: I tensorflow/core/common_runtime/bfc_allocator.cc:1066] InUse at 7f17a2004700 of size 512 next 357\n",
      "2022-06-16 13:32:25.582630: I tensorflow/core/common_runtime/bfc_allocator.cc:1066] InUse at 7f17a2004900 of size 512 next 30\n",
      "2022-06-16 13:32:25.582637: I tensorflow/core/common_runtime/bfc_allocator.cc:1066] InUse at 7f17a2004b00 of size 512 next 41\n",
      "2022-06-16 13:32:25.582645: I tensorflow/core/common_runtime/bfc_allocator.cc:1066] InUse at 7f17a2004d00 of size 2048 next 44\n",
      "2022-06-16 13:32:25.582653: I tensorflow/core/common_runtime/bfc_allocator.cc:1066] InUse at 7f17a2005500 of size 256 next 45\n",
      "2022-06-16 13:32:25.582661: I tensorflow/core/common_runtime/bfc_allocator.cc:1066] InUse at 7f17a2005600 of size 256 next 46\n",
      "2022-06-16 13:32:25.582668: I tensorflow/core/common_runtime/bfc_allocator.cc:1066] InUse at 7f17a2005700 of size 256 next 56\n",
      "2022-06-16 13:32:25.582676: I tensorflow/core/common_runtime/bfc_allocator.cc:1066] InUse at 7f17a2005800 of size 256 next 57\n",
      "2022-06-16 13:32:25.582684: I tensorflow/core/common_runtime/bfc_allocator.cc:1066] InUse at 7f17a2005900 of size 768 next 60\n",
      "2022-06-16 13:32:25.582691: I tensorflow/core/common_runtime/bfc_allocator.cc:1066] InUse at 7f17a2005c00 of size 768 next 61\n",
      "2022-06-16 13:32:25.582698: I tensorflow/core/common_runtime/bfc_allocator.cc:1066] InUse at 7f17a2005f00 of size 768 next 47\n",
      "2022-06-16 13:32:25.582706: I tensorflow/core/common_runtime/bfc_allocator.cc:1066] InUse at 7f17a2006200 of size 1536 next 42\n",
      "2022-06-16 13:32:25.582713: I tensorflow/core/common_runtime/bfc_allocator.cc:1066] InUse at 7f17a2006800 of size 5888 next 37\n",
      "2022-06-16 13:32:25.582722: I tensorflow/core/common_runtime/bfc_allocator.cc:1066] InUse at 7f17a2007f00 of size 6144 next 38\n",
      "2022-06-16 13:32:25.582729: I tensorflow/core/common_runtime/bfc_allocator.cc:1066] InUse at 7f17a2009700 of size 256 next 72\n",
      "2022-06-16 13:32:25.582737: I tensorflow/core/common_runtime/bfc_allocator.cc:1066] InUse at 7f17a2009800 of size 256 next 50\n",
      "2022-06-16 13:32:25.582744: I tensorflow/core/common_runtime/bfc_allocator.cc:1066] InUse at 7f17a2009900 of size 256 next 51\n",
      "2022-06-16 13:32:25.582751: I tensorflow/core/common_runtime/bfc_allocator.cc:1066] InUse at 7f17a2009a00 of size 256 next 52\n",
      "2022-06-16 13:32:25.582758: I tensorflow/core/common_runtime/bfc_allocator.cc:1066] InUse at 7f17a2009b00 of size 256 next 55\n",
      "2022-06-16 13:32:25.582766: I tensorflow/core/common_runtime/bfc_allocator.cc:1066] InUse at 7f17a2009c00 of size 256 next 48\n",
      "2022-06-16 13:32:25.582773: I tensorflow/core/common_runtime/bfc_allocator.cc:1066] InUse at 7f17a2009d00 of size 512 next 43\n",
      "2022-06-16 13:32:25.582780: I tensorflow/core/common_runtime/bfc_allocator.cc:1066] InUse at 7f17a2009f00 of size 1024 next 49\n",
      "2022-06-16 13:32:25.582787: I tensorflow/core/common_runtime/bfc_allocator.cc:1066] InUse at 7f17a200a300 of size 768 next 54\n",
      "2022-06-16 13:32:25.582794: I tensorflow/core/common_runtime/bfc_allocator.cc:1066] InUse at 7f17a200a600 of size 768 next 64\n",
      "2022-06-16 13:32:25.582801: I tensorflow/core/common_runtime/bfc_allocator.cc:1066] InUse at 7f17a200a900 of size 768 next 63\n",
      "2022-06-16 13:32:25.582808: I tensorflow/core/common_runtime/bfc_allocator.cc:1066] InUse at 7f17a200ac00 of size 768 next 65\n",
      "2022-06-16 13:32:25.582816: I tensorflow/core/common_runtime/bfc_allocator.cc:1066] InUse at 7f17a200af00 of size 5376 next 67\n",
      "2022-06-16 13:32:25.582824: I tensorflow/core/common_runtime/bfc_allocator.cc:1066] InUse at 7f17a200c400 of size 256 next 68\n",
      "2022-06-16 13:32:25.582831: I tensorflow/core/common_runtime/bfc_allocator.cc:1066] InUse at 7f17a200c500 of size 768 next 62\n",
      "2022-06-16 13:32:25.582838: I tensorflow/core/common_runtime/bfc_allocator.cc:1066] InUse at 7f17a200c800 of size 256 next 73\n",
      "2022-06-16 13:32:25.582846: I tensorflow/core/common_runtime/bfc_allocator.cc:1066] InUse at 7f17a200c900 of size 256 next 76\n",
      "2022-06-16 13:32:25.582854: I tensorflow/core/common_runtime/bfc_allocator.cc:1066] InUse at 7f17a200ca00 of size 768 next 77\n",
      "2022-06-16 13:32:25.582863: I tensorflow/core/common_runtime/bfc_allocator.cc:1066] InUse at 7f17a200cd00 of size 768 next 78\n",
      "2022-06-16 13:32:25.582870: I tensorflow/core/common_runtime/bfc_allocator.cc:1066] InUse at 7f17a200d000 of size 768 next 79\n",
      "2022-06-16 13:32:25.582878: I tensorflow/core/common_runtime/bfc_allocator.cc:1066] InUse at 7f17a200d300 of size 768 next 81\n",
      "2022-06-16 13:32:25.582885: I tensorflow/core/common_runtime/bfc_allocator.cc:1066] InUse at 7f17a200d600 of size 768 next 71\n",
      "2022-06-16 13:32:25.582892: I tensorflow/core/common_runtime/bfc_allocator.cc:1066] InUse at 7f17a200d900 of size 768 next 69\n",
      "2022-06-16 13:32:25.582899: I tensorflow/core/common_runtime/bfc_allocator.cc:1066] InUse at 7f17a200dc00 of size 768 next 87\n",
      "2022-06-16 13:32:25.582907: I tensorflow/core/common_runtime/bfc_allocator.cc:1066] InUse at 7f17a200df00 of size 256 next 66\n",
      "2022-06-16 13:32:25.582914: I tensorflow/core/common_runtime/bfc_allocator.cc:1066] InUse at 7f17a200e000 of size 768 next 85\n",
      "2022-06-16 13:32:25.582922: I tensorflow/core/common_runtime/bfc_allocator.cc:1066] InUse at 7f17a200e300 of size 256 next 92\n",
      "2022-06-16 13:32:25.582930: I tensorflow/core/common_runtime/bfc_allocator.cc:1066] InUse at 7f17a200e400 of size 256 next 114\n",
      "2022-06-16 13:32:25.582937: I tensorflow/core/common_runtime/bfc_allocator.cc:1066] InUse at 7f17a200e500 of size 256 next 83\n",
      "2022-06-16 13:32:25.582945: I tensorflow/core/common_runtime/bfc_allocator.cc:1066] InUse at 7f17a200e600 of size 256 next 84\n",
      "2022-06-16 13:32:25.582950: I tensorflow/core/common_runtime/bfc_allocator.cc:1066] InUse at 7f17a200e700 of size 1024 next 53\n",
      "2022-06-16 13:32:25.582957: I tensorflow/core/common_runtime/bfc_allocator.cc:1066] InUse at 7f17a200eb00 of size 3584 next 70\n",
      "2022-06-16 13:32:25.582964: I tensorflow/core/common_runtime/bfc_allocator.cc:1066] InUse at 7f17a200f900 of size 3584 next 88\n",
      "2022-06-16 13:32:25.582969: I tensorflow/core/common_runtime/bfc_allocator.cc:1066] InUse at 7f17a2010700 of size 1024 next 360\n",
      "2022-06-16 13:32:25.582975: I tensorflow/core/common_runtime/bfc_allocator.cc:1066] InUse at 7f17a2010b00 of size 1024 next 93\n",
      "2022-06-16 13:32:25.582987: I tensorflow/core/common_runtime/bfc_allocator.cc:1066] InUse at 7f17a2010f00 of size 1024 next 89\n",
      "2022-06-16 13:32:25.582993: I tensorflow/core/common_runtime/bfc_allocator.cc:1066] InUse at 7f17a2011300 of size 1024 next 109\n",
      "2022-06-16 13:32:25.582998: I tensorflow/core/common_runtime/bfc_allocator.cc:1066] InUse at 7f17a2011700 of size 1024 next 110\n",
      "2022-06-16 13:32:25.583003: I tensorflow/core/common_runtime/bfc_allocator.cc:1066] InUse at 7f17a2011b00 of size 1024 next 96\n",
      "2022-06-16 13:32:25.583009: I tensorflow/core/common_runtime/bfc_allocator.cc:1066] InUse at 7f17a2011f00 of size 1024 next 86\n",
      "2022-06-16 13:32:25.583014: I tensorflow/core/common_runtime/bfc_allocator.cc:1066] InUse at 7f17a2012300 of size 1024 next 124\n",
      "2022-06-16 13:32:25.583019: I tensorflow/core/common_runtime/bfc_allocator.cc:1066] InUse at 7f17a2012700 of size 1024 next 126\n",
      "2022-06-16 13:32:25.583024: I tensorflow/core/common_runtime/bfc_allocator.cc:1066] InUse at 7f17a2012b00 of size 1024 next 127\n",
      "2022-06-16 13:32:25.583029: I tensorflow/core/common_runtime/bfc_allocator.cc:1066] InUse at 7f17a2012f00 of size 1024 next 135\n",
      "2022-06-16 13:32:25.583034: I tensorflow/core/common_runtime/bfc_allocator.cc:1066] InUse at 7f17a2013300 of size 512 next 116\n",
      "2022-06-16 13:32:25.583040: I tensorflow/core/common_runtime/bfc_allocator.cc:1066] InUse at 7f17a2013500 of size 512 next 157\n",
      "2022-06-16 13:32:25.583045: I tensorflow/core/common_runtime/bfc_allocator.cc:1066] InUse at 7f17a2013700 of size 768 next 112\n",
      "2022-06-16 13:32:25.583050: I tensorflow/core/common_runtime/bfc_allocator.cc:1066] InUse at 7f17a2013a00 of size 256 next 113\n",
      "2022-06-16 13:32:25.583055: I tensorflow/core/common_runtime/bfc_allocator.cc:1066] InUse at 7f17a2013b00 of size 256 next 118\n",
      "2022-06-16 13:32:25.583062: I tensorflow/core/common_runtime/bfc_allocator.cc:1066] InUse at 7f17a2013c00 of size 256 next 121\n",
      "2022-06-16 13:32:25.583067: I tensorflow/core/common_runtime/bfc_allocator.cc:1066] InUse at 7f17a2013d00 of size 1792 next 123\n",
      "2022-06-16 13:32:25.583073: I tensorflow/core/common_runtime/bfc_allocator.cc:1066] InUse at 7f17a2014400 of size 256 next 58\n",
      "2022-06-16 13:32:25.583078: I tensorflow/core/common_runtime/bfc_allocator.cc:1066] InUse at 7f17a2014500 of size 13824 next 59\n",
      "2022-06-16 13:32:25.583083: I tensorflow/core/common_runtime/bfc_allocator.cc:1066] InUse at 7f17a2017b00 of size 256 next 136\n",
      "2022-06-16 13:32:25.583088: I tensorflow/core/common_runtime/bfc_allocator.cc:1066] InUse at 7f17a2017c00 of size 512 next 139\n",
      "2022-06-16 13:32:25.583093: I tensorflow/core/common_runtime/bfc_allocator.cc:1066] InUse at 7f17a2017e00 of size 512 next 140\n",
      "2022-06-16 13:32:25.583098: I tensorflow/core/common_runtime/bfc_allocator.cc:1066] InUse at 7f17a2018000 of size 512 next 141\n",
      "2022-06-16 13:32:25.583103: I tensorflow/core/common_runtime/bfc_allocator.cc:1066] InUse at 7f17a2018200 of size 512 next 142\n",
      "2022-06-16 13:32:25.583108: I tensorflow/core/common_runtime/bfc_allocator.cc:1066] InUse at 7f17a2018400 of size 256 next 143\n",
      "2022-06-16 13:32:25.583114: I tensorflow/core/common_runtime/bfc_allocator.cc:1066] InUse at 7f17a2018500 of size 2048 next 144\n",
      "2022-06-16 13:32:25.583120: I tensorflow/core/common_runtime/bfc_allocator.cc:1066] InUse at 7f17a2018d00 of size 2048 next 147\n",
      "2022-06-16 13:32:25.583125: I tensorflow/core/common_runtime/bfc_allocator.cc:1066] InUse at 7f17a2019500 of size 2048 next 129\n",
      "2022-06-16 13:32:25.583130: I tensorflow/core/common_runtime/bfc_allocator.cc:1066] InUse at 7f17a2019d00 of size 2048 next 111\n",
      "2022-06-16 13:32:25.583135: I tensorflow/core/common_runtime/bfc_allocator.cc:1066] InUse at 7f17a201a500 of size 2048 next 130\n",
      "2022-06-16 13:32:25.583140: I tensorflow/core/common_runtime/bfc_allocator.cc:1066] InUse at 7f17a201ad00 of size 2048 next 148\n",
      "2022-06-16 13:32:25.583146: I tensorflow/core/common_runtime/bfc_allocator.cc:1066] InUse at 7f17a201b500 of size 2048 next 149\n",
      "2022-06-16 13:32:25.583151: I tensorflow/core/common_runtime/bfc_allocator.cc:1066] InUse at 7f17a201bd00 of size 2048 next 152\n",
      "2022-06-16 13:32:25.583156: I tensorflow/core/common_runtime/bfc_allocator.cc:1066] InUse at 7f17a201c500 of size 2048 next 156\n",
      "2022-06-16 13:32:25.583161: I tensorflow/core/common_runtime/bfc_allocator.cc:1066] InUse at 7f17a201cd00 of size 2048 next 169\n",
      "2022-06-16 13:32:25.583167: I tensorflow/core/common_runtime/bfc_allocator.cc:1066] InUse at 7f17a201d500 of size 4608 next 74\n",
      "2022-06-16 13:32:25.583173: I tensorflow/core/common_runtime/bfc_allocator.cc:1066] InUse at 7f17a201e700 of size 13824 next 75\n",
      "2022-06-16 13:32:25.583179: I tensorflow/core/common_runtime/bfc_allocator.cc:1066] InUse at 7f17a2021d00 of size 14848 next 94\n",
      "2022-06-16 13:32:25.583184: I tensorflow/core/common_runtime/bfc_allocator.cc:1066] InUse at 7f17a2025700 of size 256 next 95\n",
      "2022-06-16 13:32:25.583189: I tensorflow/core/common_runtime/bfc_allocator.cc:1066] InUse at 7f17a2025800 of size 256 next 98\n",
      "2022-06-16 13:32:25.583194: I tensorflow/core/common_runtime/bfc_allocator.cc:1066] InUse at 7f17a2025900 of size 256 next 99\n",
      "2022-06-16 13:32:25.583199: I tensorflow/core/common_runtime/bfc_allocator.cc:1066] InUse at 7f17a2025a00 of size 256 next 100\n",
      "2022-06-16 13:32:25.583204: I tensorflow/core/common_runtime/bfc_allocator.cc:1066] InUse at 7f17a2025b00 of size 256 next 101\n",
      "2022-06-16 13:32:25.583209: I tensorflow/core/common_runtime/bfc_allocator.cc:1066] InUse at 7f17a2025c00 of size 256 next 102\n",
      "2022-06-16 13:32:25.583215: I tensorflow/core/common_runtime/bfc_allocator.cc:1066] InUse at 7f17a2025d00 of size 1024 next 90\n",
      "2022-06-16 13:32:25.583220: I tensorflow/core/common_runtime/bfc_allocator.cc:1066] InUse at 7f17a2026100 of size 3584 next 91\n",
      "2022-06-16 13:32:25.583225: I tensorflow/core/common_runtime/bfc_allocator.cc:1066] InUse at 7f17a2026f00 of size 1024 next 103\n",
      "2022-06-16 13:32:25.583230: I tensorflow/core/common_runtime/bfc_allocator.cc:1066] InUse at 7f17a2027300 of size 1024 next 106\n",
      "2022-06-16 13:32:25.583236: I tensorflow/core/common_runtime/bfc_allocator.cc:1066] InUse at 7f17a2027700 of size 9728 next 97\n",
      "2022-06-16 13:32:25.583241: I tensorflow/core/common_runtime/bfc_allocator.cc:1066] InUse at 7f17a2029d00 of size 14336 next 128\n",
      "2022-06-16 13:32:25.583246: I tensorflow/core/common_runtime/bfc_allocator.cc:1066] InUse at 7f17a202d500 of size 1024 next 131\n",
      "2022-06-16 13:32:25.583251: I tensorflow/core/common_runtime/bfc_allocator.cc:1066] InUse at 7f17a202d900 of size 1024 next 132\n",
      "2022-06-16 13:32:25.583256: I tensorflow/core/common_runtime/bfc_allocator.cc:1066] InUse at 7f17a202dd00 of size 1024 next 133\n",
      "2022-06-16 13:32:25.583264: I tensorflow/core/common_runtime/bfc_allocator.cc:1066] InUse at 7f17a202e100 of size 256 next 108\n",
      "2022-06-16 13:32:25.583273: I tensorflow/core/common_runtime/bfc_allocator.cc:1066] InUse at 7f17a202e200 of size 48384 next 115\n",
      "2022-06-16 13:32:25.583280: I tensorflow/core/common_runtime/bfc_allocator.cc:1066] InUse at 7f17a2039f00 of size 256 next 154\n",
      "2022-06-16 13:32:25.583288: I tensorflow/core/common_runtime/bfc_allocator.cc:1066] InUse at 7f17a203a000 of size 512 next 162\n",
      "2022-06-16 13:32:25.583296: I tensorflow/core/common_runtime/bfc_allocator.cc:1066] InUse at 7f17a203a200 of size 3840 next 164\n",
      "2022-06-16 13:32:25.583303: I tensorflow/core/common_runtime/bfc_allocator.cc:1066] InUse at 7f17a203b100 of size 2048 next 166\n",
      "2022-06-16 13:32:25.583310: I tensorflow/core/common_runtime/bfc_allocator.cc:1066] InUse at 7f17a203b900 of size 2048 next 167\n",
      "2022-06-16 13:32:25.583317: I tensorflow/core/common_runtime/bfc_allocator.cc:1066] InUse at 7f17a203c100 of size 2048 next 168\n",
      "2022-06-16 13:32:25.583324: I tensorflow/core/common_runtime/bfc_allocator.cc:1066] InUse at 7f17a203c900 of size 3584 next 107\n",
      "2022-06-16 13:32:25.583332: I tensorflow/core/common_runtime/bfc_allocator.cc:1066] InUse at 7f17a203d700 of size 9728 next 122\n",
      "2022-06-16 13:32:25.583340: I tensorflow/core/common_runtime/bfc_allocator.cc:1066] InUse at 7f17a203fd00 of size 9728 next 117\n",
      "2022-06-16 13:32:25.583348: I tensorflow/core/common_runtime/bfc_allocator.cc:1066] InUse at 7f17a2042300 of size 33280 next 104\n",
      "2022-06-16 13:32:25.583356: I tensorflow/core/common_runtime/bfc_allocator.cc:1066] InUse at 7f17a204a500 of size 38400 next 105\n",
      "2022-06-16 13:32:25.583363: I tensorflow/core/common_runtime/bfc_allocator.cc:1066] InUse at 7f17a2053b00 of size 2048 next 170\n",
      "2022-06-16 13:32:25.583370: I tensorflow/core/common_runtime/bfc_allocator.cc:1066] InUse at 7f17a2054300 of size 2048 next 171\n",
      "2022-06-16 13:32:25.583377: I tensorflow/core/common_runtime/bfc_allocator.cc:1066] InUse at 7f17a2054b00 of size 2048 next 172\n",
      "2022-06-16 13:32:25.583385: I tensorflow/core/common_runtime/bfc_allocator.cc:1066] InUse at 7f17a2055300 of size 256 next 163\n",
      "2022-06-16 13:32:25.583392: I tensorflow/core/common_runtime/bfc_allocator.cc:1066] InUse at 7f17a2055400 of size 2048 next 174\n",
      "2022-06-16 13:32:25.583516: I tensorflow/core/common_runtime/bfc_allocator.cc:1066] InUse at 7f17a2055c00 of size 512 next 173\n",
      "2022-06-16 13:32:25.583537: I tensorflow/core/common_runtime/bfc_allocator.cc:1066] InUse at 7f17a2055e00 of size 512 next 176\n",
      "2022-06-16 13:32:25.583545: I tensorflow/core/common_runtime/bfc_allocator.cc:1066] InUse at 7f17a2056000 of size 512 next 180\n",
      "2022-06-16 13:32:25.583553: I tensorflow/core/common_runtime/bfc_allocator.cc:1066] InUse at 7f17a2056200 of size 512 next 181\n",
      "2022-06-16 13:32:25.583561: I tensorflow/core/common_runtime/bfc_allocator.cc:1066] InUse at 7f17a2056400 of size 2048 next 183\n",
      "2022-06-16 13:32:25.583568: I tensorflow/core/common_runtime/bfc_allocator.cc:1066] InUse at 7f17a2056c00 of size 2048 next 185\n",
      "2022-06-16 13:32:25.583576: I tensorflow/core/common_runtime/bfc_allocator.cc:1066] InUse at 7f17a2057400 of size 2816 next 195\n",
      "2022-06-16 13:32:25.583584: I tensorflow/core/common_runtime/bfc_allocator.cc:1066] InUse at 7f17a2057f00 of size 4608 next 254\n",
      "2022-06-16 13:32:25.583592: I tensorflow/core/common_runtime/bfc_allocator.cc:1066] InUse at 7f17a2059100 of size 4608 next 320\n",
      "2022-06-16 13:32:25.583601: I tensorflow/core/common_runtime/bfc_allocator.cc:1066] InUse at 7f17a205a300 of size 8192 next 150\n",
      "2022-06-16 13:32:25.583611: I tensorflow/core/common_runtime/bfc_allocator.cc:1066] InUse at 7f17a205c300 of size 17408 next 151\n",
      "2022-06-16 13:32:25.583620: I tensorflow/core/common_runtime/bfc_allocator.cc:1066] InUse at 7f17a2060700 of size 2048 next 186\n",
      "2022-06-16 13:32:25.583640: I tensorflow/core/common_runtime/bfc_allocator.cc:1066] InUse at 7f17a2060f00 of size 2048 next 187\n",
      "2022-06-16 13:32:25.583648: I tensorflow/core/common_runtime/bfc_allocator.cc:1066] InUse at 7f17a2061700 of size 2048 next 189\n",
      "2022-06-16 13:32:25.583656: I tensorflow/core/common_runtime/bfc_allocator.cc:1066] InUse at 7f17a2061f00 of size 2048 next 190\n",
      "2022-06-16 13:32:25.583675: I tensorflow/core/common_runtime/bfc_allocator.cc:1066] InUse at 7f17a2062700 of size 2048 next 191\n",
      "2022-06-16 13:32:25.583683: I tensorflow/core/common_runtime/bfc_allocator.cc:1066] InUse at 7f17a2062f00 of size 256 next 165\n",
      "2022-06-16 13:32:25.583691: I tensorflow/core/common_runtime/bfc_allocator.cc:1066] InUse at 7f17a2063000 of size 2048 next 193\n",
      "2022-06-16 13:32:25.583698: I tensorflow/core/common_runtime/bfc_allocator.cc:1066] InUse at 7f17a2063800 of size 512 next 192\n",
      "2022-06-16 13:32:25.583706: I tensorflow/core/common_runtime/bfc_allocator.cc:1066] InUse at 7f17a2063a00 of size 512 next 218\n",
      "2022-06-16 13:32:25.583714: I tensorflow/core/common_runtime/bfc_allocator.cc:1066] InUse at 7f17a2063c00 of size 512 next 220\n",
      "2022-06-16 13:32:25.583721: I tensorflow/core/common_runtime/bfc_allocator.cc:1066] InUse at 7f17a2063e00 of size 512 next 196\n",
      "2022-06-16 13:32:25.583729: I tensorflow/core/common_runtime/bfc_allocator.cc:1066] InUse at 7f17a2064000 of size 256 next 197\n",
      "2022-06-16 13:32:25.583737: I tensorflow/core/common_runtime/bfc_allocator.cc:1066] InUse at 7f17a2064100 of size 512 next 200\n",
      "2022-06-16 13:32:25.583745: I tensorflow/core/common_runtime/bfc_allocator.cc:1066] InUse at 7f17a2064300 of size 512 next 201\n",
      "2022-06-16 13:32:25.583753: I tensorflow/core/common_runtime/bfc_allocator.cc:1066] InUse at 7f17a2064500 of size 512 next 202\n",
      "2022-06-16 13:32:25.583760: I tensorflow/core/common_runtime/bfc_allocator.cc:1066] InUse at 7f17a2064700 of size 256 next 138\n",
      "2022-06-16 13:32:25.583768: I tensorflow/core/common_runtime/bfc_allocator.cc:1066] InUse at 7f17a2064800 of size 256 next 203\n",
      "2022-06-16 13:32:25.583776: I tensorflow/core/common_runtime/bfc_allocator.cc:1066] InUse at 7f17a2064900 of size 256 next 204\n",
      "2022-06-16 13:32:25.583783: I tensorflow/core/common_runtime/bfc_allocator.cc:1066] InUse at 7f17a2064a00 of size 2816 next 205\n",
      "2022-06-16 13:32:25.583791: I tensorflow/core/common_runtime/bfc_allocator.cc:1066] InUse at 7f17a2065500 of size 4608 next 119\n",
      "2022-06-16 13:32:25.583799: I tensorflow/core/common_runtime/bfc_allocator.cc:1066] InUse at 7f17a2066700 of size 38400 next 120\n",
      "2022-06-16 13:32:25.583807: I tensorflow/core/common_runtime/bfc_allocator.cc:1066] InUse at 7f17a206fd00 of size 38400 next 125\n",
      "2022-06-16 13:32:25.583814: I tensorflow/core/common_runtime/bfc_allocator.cc:1066] InUse at 7f17a2079300 of size 2816 next 208\n",
      "2022-06-16 13:32:25.583822: I tensorflow/core/common_runtime/bfc_allocator.cc:1066] InUse at 7f17a2079e00 of size 2816 next 209\n",
      "2022-06-16 13:32:25.583830: I tensorflow/core/common_runtime/bfc_allocator.cc:1066] InUse at 7f17a207a900 of size 2816 next 212\n",
      "2022-06-16 13:32:25.583837: I tensorflow/core/common_runtime/bfc_allocator.cc:1066] InUse at 7f17a207b400 of size 2816 next 213\n",
      "2022-06-16 13:32:25.583845: I tensorflow/core/common_runtime/bfc_allocator.cc:1066] InUse at 7f17a207bf00 of size 2816 next 214\n",
      "2022-06-16 13:32:25.583853: I tensorflow/core/common_runtime/bfc_allocator.cc:1066] InUse at 7f17a207ca00 of size 2816 next 215\n",
      "2022-06-16 13:32:25.583861: I tensorflow/core/common_runtime/bfc_allocator.cc:1066] InUse at 7f17a207d500 of size 256 next 216\n",
      "2022-06-16 13:32:25.583869: I tensorflow/core/common_runtime/bfc_allocator.cc:1066] InUse at 7f17a207d600 of size 512 next 223\n",
      "2022-06-16 13:32:25.583876: I tensorflow/core/common_runtime/bfc_allocator.cc:1066] InUse at 7f17a207d800 of size 4608 next 225\n",
      "2022-06-16 13:32:25.583884: I tensorflow/core/common_runtime/bfc_allocator.cc:1066] InUse at 7f17a207ea00 of size 2816 next 226\n",
      "2022-06-16 13:32:25.583891: I tensorflow/core/common_runtime/bfc_allocator.cc:1066] InUse at 7f17a207f500 of size 2816 next 228\n",
      "2022-06-16 13:32:25.583899: I tensorflow/core/common_runtime/bfc_allocator.cc:1066] InUse at 7f17a2080000 of size 2816 next 229\n",
      "2022-06-16 13:32:25.583907: I tensorflow/core/common_runtime/bfc_allocator.cc:1066] InUse at 7f17a2080b00 of size 2816 next 230\n",
      "2022-06-16 13:32:25.583915: I tensorflow/core/common_runtime/bfc_allocator.cc:1066] InUse at 7f17a2081600 of size 4608 next 326\n",
      "2022-06-16 13:32:25.583923: I tensorflow/core/common_runtime/bfc_allocator.cc:1066] InUse at 7f17a2082800 of size 4608 next 327\n",
      "2022-06-16 13:32:25.583930: I tensorflow/core/common_runtime/bfc_allocator.cc:1066] InUse at 7f17a2083a00 of size 4608 next 324\n",
      "2022-06-16 13:32:25.583938: I tensorflow/core/common_runtime/bfc_allocator.cc:1066] InUse at 7f17a2084c00 of size 4608 next 329\n",
      "2022-06-16 13:32:25.583946: I tensorflow/core/common_runtime/bfc_allocator.cc:1066] InUse at 7f17a2085e00 of size 4608 next 331\n",
      "2022-06-16 13:32:25.583953: I tensorflow/core/common_runtime/bfc_allocator.cc:1066] InUse at 7f17a2087000 of size 4608 next 332\n",
      "2022-06-16 13:32:25.583961: I tensorflow/core/common_runtime/bfc_allocator.cc:1066] InUse at 7f17a2088200 of size 4608 next 334\n",
      "2022-06-16 13:32:25.583970: I tensorflow/core/common_runtime/bfc_allocator.cc:1066] InUse at 7f17a2089400 of size 5120 next 348\n",
      "2022-06-16 13:32:25.583978: I tensorflow/core/common_runtime/bfc_allocator.cc:1066] Free  at 7f17a208a800 of size 5888 next 137\n",
      "2022-06-16 13:32:25.583996: I tensorflow/core/common_runtime/bfc_allocator.cc:1066] InUse at 7f17a208bf00 of size 153600 next 158\n",
      "2022-06-16 13:32:25.584005: I tensorflow/core/common_runtime/bfc_allocator.cc:1066] InUse at 7f17a20b1700 of size 75264 next 217\n",
      "2022-06-16 13:32:25.584013: I tensorflow/core/common_runtime/bfc_allocator.cc:1066] InUse at 7f17a20c3d00 of size 75264 next 219\n",
      "2022-06-16 13:32:25.584021: I tensorflow/core/common_runtime/bfc_allocator.cc:1066] InUse at 7f17a20d6300 of size 38400 next 80\n",
      "2022-06-16 13:32:25.584029: I tensorflow/core/common_runtime/bfc_allocator.cc:1066] InUse at 7f17a20df900 of size 41472 next 145\n",
      "2022-06-16 13:32:25.584037: I tensorflow/core/common_runtime/bfc_allocator.cc:1066] InUse at 7f17a20e9b00 of size 153600 next 146\n",
      "2022-06-16 13:32:25.584045: I tensorflow/core/common_runtime/bfc_allocator.cc:1066] InUse at 7f17a210f300 of size 38400 next 175\n",
      "2022-06-16 13:32:25.584053: I tensorflow/core/common_runtime/bfc_allocator.cc:1066] InUse at 7f17a2118900 of size 38400 next 177\n",
      "2022-06-16 13:32:25.584061: I tensorflow/core/common_runtime/bfc_allocator.cc:1066] InUse at 7f17a2121f00 of size 38400 next 194\n",
      "2022-06-16 13:32:25.584069: I tensorflow/core/common_runtime/bfc_allocator.cc:1066] InUse at 7f17a212b500 of size 2816 next 231\n",
      "2022-06-16 13:32:25.584076: I tensorflow/core/common_runtime/bfc_allocator.cc:1066] InUse at 7f17a212c000 of size 2816 next 232\n",
      "2022-06-16 13:32:25.584084: I tensorflow/core/common_runtime/bfc_allocator.cc:1066] InUse at 7f17a212cb00 of size 3072 next 235\n",
      "2022-06-16 13:32:25.584092: I tensorflow/core/common_runtime/bfc_allocator.cc:1066] InUse at 7f17a212d700 of size 512 next 234\n",
      "2022-06-16 13:32:25.584100: I tensorflow/core/common_runtime/bfc_allocator.cc:1066] InUse at 7f17a212d900 of size 512 next 237\n",
      "2022-06-16 13:32:25.584107: I tensorflow/core/common_runtime/bfc_allocator.cc:1066] InUse at 7f17a212db00 of size 512 next 240\n",
      "2022-06-16 13:32:25.584115: I tensorflow/core/common_runtime/bfc_allocator.cc:1066] InUse at 7f17a212dd00 of size 512 next 241\n",
      "2022-06-16 13:32:25.584123: I tensorflow/core/common_runtime/bfc_allocator.cc:1066] InUse at 7f17a212df00 of size 2816 next 243\n",
      "2022-06-16 13:32:25.584131: I tensorflow/core/common_runtime/bfc_allocator.cc:1066] InUse at 7f17a212ea00 of size 2816 next 245\n",
      "2022-06-16 13:32:25.584139: I tensorflow/core/common_runtime/bfc_allocator.cc:1066] InUse at 7f17a212f500 of size 2816 next 246\n",
      "2022-06-16 13:32:25.584146: I tensorflow/core/common_runtime/bfc_allocator.cc:1066] InUse at 7f17a2130000 of size 2816 next 247\n",
      "2022-06-16 13:32:25.584154: I tensorflow/core/common_runtime/bfc_allocator.cc:1066] InUse at 7f17a2130b00 of size 2816 next 248\n",
      "2022-06-16 13:32:25.584162: I tensorflow/core/common_runtime/bfc_allocator.cc:1066] InUse at 7f17a2131600 of size 2816 next 249\n",
      "2022-06-16 13:32:25.584170: I tensorflow/core/common_runtime/bfc_allocator.cc:1066] InUse at 7f17a2132100 of size 2816 next 250\n",
      "2022-06-16 13:32:25.584178: I tensorflow/core/common_runtime/bfc_allocator.cc:1066] InUse at 7f17a2132c00 of size 2816 next 251\n",
      "2022-06-16 13:32:25.584186: I tensorflow/core/common_runtime/bfc_allocator.cc:1066] InUse at 7f17a2133700 of size 256 next 242\n",
      "2022-06-16 13:32:25.584194: I tensorflow/core/common_runtime/bfc_allocator.cc:1066] InUse at 7f17a2133800 of size 4864 next 159\n",
      "2022-06-16 13:32:25.584202: I tensorflow/core/common_runtime/bfc_allocator.cc:1066] InUse at 7f17a2134b00 of size 355328 next 188\n",
      "2022-06-16 13:32:25.584210: I tensorflow/core/common_runtime/bfc_allocator.cc:1066] InUse at 7f17a218b700 of size 105472 next 178\n",
      "2022-06-16 13:32:25.584218: I tensorflow/core/common_runtime/bfc_allocator.cc:1066] InUse at 7f17a21a5300 of size 153600 next 179\n",
      "2022-06-16 13:32:25.584227: I tensorflow/core/common_runtime/bfc_allocator.cc:1066] InUse at 7f17a21cab00 of size 67328 next 155\n",
      "2022-06-16 13:32:25.584235: I tensorflow/core/common_runtime/bfc_allocator.cc:1066] InUse at 7f17a21db200 of size 86272 next 184\n",
      "2022-06-16 13:32:25.584243: I tensorflow/core/common_runtime/bfc_allocator.cc:1066] InUse at 7f17a21f0300 of size 768 next 259\n",
      "2022-06-16 13:32:25.584251: I tensorflow/core/common_runtime/bfc_allocator.cc:1066] InUse at 7f17a21f0600 of size 768 next 279\n",
      "2022-06-16 13:32:25.584259: I tensorflow/core/common_runtime/bfc_allocator.cc:1066] InUse at 7f17a21f0900 of size 768 next 281\n",
      "2022-06-16 13:32:25.584267: I tensorflow/core/common_runtime/bfc_allocator.cc:1066] InUse at 7f17a21f0c00 of size 768 next 256\n",
      "2022-06-16 13:32:25.584274: I tensorflow/core/common_runtime/bfc_allocator.cc:1066] InUse at 7f17a21f0f00 of size 256 next 257\n",
      "2022-06-16 13:32:25.584282: I tensorflow/core/common_runtime/bfc_allocator.cc:1066] InUse at 7f17a21f1000 of size 768 next 258\n",
      "2022-06-16 13:32:25.584290: I tensorflow/core/common_runtime/bfc_allocator.cc:1066] InUse at 7f17a21f1300 of size 768 next 261\n",
      "2022-06-16 13:32:25.584297: I tensorflow/core/common_runtime/bfc_allocator.cc:1066] InUse at 7f17a21f1600 of size 768 next 262\n",
      "2022-06-16 13:32:25.584305: I tensorflow/core/common_runtime/bfc_allocator.cc:1066] InUse at 7f17a21f1900 of size 256 next 277\n",
      "2022-06-16 13:32:25.584313: I tensorflow/core/common_runtime/bfc_allocator.cc:1066] InUse at 7f17a21f1a00 of size 256 next 284\n",
      "2022-06-16 13:32:25.584321: I tensorflow/core/common_runtime/bfc_allocator.cc:1066] InUse at 7f17a21f1b00 of size 256 next 263\n",
      "2022-06-16 13:32:25.584329: I tensorflow/core/common_runtime/bfc_allocator.cc:1066] InUse at 7f17a21f1c00 of size 256 next 264\n",
      "2022-06-16 13:32:25.584336: I tensorflow/core/common_runtime/bfc_allocator.cc:1066] InUse at 7f17a21f1d00 of size 4608 next 267\n",
      "2022-06-16 13:32:25.584344: I tensorflow/core/common_runtime/bfc_allocator.cc:1066] InUse at 7f17a21f2f00 of size 4608 next 268\n",
      "2022-06-16 13:32:25.584352: I tensorflow/core/common_runtime/bfc_allocator.cc:1066] InUse at 7f17a21f4100 of size 4608 next 269\n",
      "2022-06-16 13:32:25.584360: I tensorflow/core/common_runtime/bfc_allocator.cc:1066] InUse at 7f17a21f5300 of size 4608 next 270\n",
      "2022-06-16 13:32:25.584368: I tensorflow/core/common_runtime/bfc_allocator.cc:1066] InUse at 7f17a21f6500 of size 4608 next 271\n",
      "2022-06-16 13:32:25.584376: I tensorflow/core/common_runtime/bfc_allocator.cc:1066] InUse at 7f17a21f7700 of size 4608 next 273\n",
      "2022-06-16 13:32:25.584384: I tensorflow/core/common_runtime/bfc_allocator.cc:1066] InUse at 7f17a21f8900 of size 4608 next 274\n",
      "2022-06-16 13:32:25.584391: I tensorflow/core/common_runtime/bfc_allocator.cc:1066] InUse at 7f17a21f9b00 of size 4608 next 275\n",
      "2022-06-16 13:32:25.584399: I tensorflow/core/common_runtime/bfc_allocator.cc:1066] InUse at 7f17a21fad00 of size 256 next 276\n",
      "2022-06-16 13:32:25.584407: I tensorflow/core/common_runtime/bfc_allocator.cc:1066] InUse at 7f17a21fae00 of size 768 next 285\n",
      "2022-06-16 13:32:25.584415: I tensorflow/core/common_runtime/bfc_allocator.cc:1066] InUse at 7f17a21fb100 of size 7168 next 287\n",
      "2022-06-16 13:32:25.584422: I tensorflow/core/common_runtime/bfc_allocator.cc:1066] InUse at 7f17a21fcd00 of size 4608 next 289\n",
      "2022-06-16 13:32:25.584430: I tensorflow/core/common_runtime/bfc_allocator.cc:1066] InUse at 7f17a21fdf00 of size 4608 next 290\n",
      "2022-06-16 13:32:25.584438: I tensorflow/core/common_runtime/bfc_allocator.cc:1066] InUse at 7f17a21ff100 of size 6400 next 210\n",
      "2022-06-16 13:32:25.584446: I tensorflow/core/common_runtime/bfc_allocator.cc:1066] InUse at 7f17a2200a00 of size 67328 next 211\n",
      "2022-06-16 13:32:25.584454: I tensorflow/core/common_runtime/bfc_allocator.cc:1066] InUse at 7f17a2211100 of size 445952 next 236\n",
      "2022-06-16 13:32:25.584463: I tensorflow/core/common_runtime/bfc_allocator.cc:1066] InUse at 7f17a227df00 of size 115200 next 292\n",
      "2022-06-16 13:32:25.584470: I tensorflow/core/common_runtime/bfc_allocator.cc:1066] Free  at 7f17a229a100 of size 41472 next 330\n",
      "2022-06-16 13:32:25.584478: I tensorflow/core/common_runtime/bfc_allocator.cc:1066] InUse at 7f17a22a4300 of size 256 next 352\n",
      "2022-06-16 13:32:25.584486: I tensorflow/core/common_runtime/bfc_allocator.cc:1066] InUse at 7f17a22a4400 of size 256 next 353\n",
      "2022-06-16 13:32:25.584493: I tensorflow/core/common_runtime/bfc_allocator.cc:1066] InUse at 7f17a22a4500 of size 256 next 354\n",
      "2022-06-16 13:32:25.584501: I tensorflow/core/common_runtime/bfc_allocator.cc:1066] InUse at 7f17a22a4600 of size 3584 next 355\n",
      "2022-06-16 13:32:25.584508: I tensorflow/core/common_runtime/bfc_allocator.cc:1066] InUse at 7f17a22a5400 of size 6144 next 25\n",
      "2022-06-16 13:32:25.584517: I tensorflow/core/common_runtime/bfc_allocator.cc:1066] InUse at 7f17a22a6c00 of size 9216 next 358\n",
      "2022-06-16 13:32:25.584525: I tensorflow/core/common_runtime/bfc_allocator.cc:1066] InUse at 7f17a22a9000 of size 13824 next 359\n",
      "2022-06-16 13:32:25.584533: I tensorflow/core/common_runtime/bfc_allocator.cc:1066] InUse at 7f17a22ac600 of size 14592 next 82\n",
      "2022-06-16 13:32:25.584542: I tensorflow/core/common_runtime/bfc_allocator.cc:1066] InUse at 7f17a22aff00 of size 25600 next 272\n",
      "2022-06-16 13:32:25.584550: I tensorflow/core/common_runtime/bfc_allocator.cc:1066] InUse at 7f17a22b6300 of size 221184 next 206\n",
      "2022-06-16 13:32:25.584559: I tensorflow/core/common_runtime/bfc_allocator.cc:1066] InUse at 7f17a22ec300 of size 301056 next 207\n",
      "2022-06-16 13:32:25.584566: I tensorflow/core/common_runtime/bfc_allocator.cc:1066] InUse at 7f17a2335b00 of size 301056 next 222\n",
      "2022-06-16 13:32:25.584574: I tensorflow/core/common_runtime/bfc_allocator.cc:1066] InUse at 7f17a237f300 of size 75264 next 233\n",
      "2022-06-16 13:32:25.584582: I tensorflow/core/common_runtime/bfc_allocator.cc:1066] InUse at 7f17a2391900 of size 67328 next 244\n",
      "2022-06-16 13:32:25.584590: I tensorflow/core/common_runtime/bfc_allocator.cc:1066] InUse at 7f17a23a2000 of size 158464 next 227\n",
      "2022-06-16 13:32:25.584598: I tensorflow/core/common_runtime/bfc_allocator.cc:1066] InUse at 7f17a23c8b00 of size 4608 next 291\n",
      "2022-06-16 13:32:25.584605: I tensorflow/core/common_runtime/bfc_allocator.cc:1066] InUse at 7f17a23c9d00 of size 4608 next 293\n",
      "2022-06-16 13:32:25.584613: I tensorflow/core/common_runtime/bfc_allocator.cc:1066] InUse at 7f17a23caf00 of size 4608 next 294\n",
      "2022-06-16 13:32:25.584621: I tensorflow/core/common_runtime/bfc_allocator.cc:1066] InUse at 7f17a23cc100 of size 4608 next 295\n",
      "2022-06-16 13:32:25.584629: I tensorflow/core/common_runtime/bfc_allocator.cc:1066] InUse at 7f17a23cd300 of size 4864 next 298\n",
      "2022-06-16 13:32:25.584637: I tensorflow/core/common_runtime/bfc_allocator.cc:1066] InUse at 7f17a23ce600 of size 768 next 199\n",
      "2022-06-16 13:32:25.584645: I tensorflow/core/common_runtime/bfc_allocator.cc:1066] InUse at 7f17a23ce900 of size 768 next 300\n",
      "2022-06-16 13:32:25.584652: I tensorflow/core/common_runtime/bfc_allocator.cc:1066] InUse at 7f17a23cec00 of size 768 next 303\n",
      "2022-06-16 13:32:25.584660: I tensorflow/core/common_runtime/bfc_allocator.cc:1066] InUse at 7f17a23cef00 of size 768 next 304\n",
      "2022-06-16 13:32:25.584668: I tensorflow/core/common_runtime/bfc_allocator.cc:1066] InUse at 7f17a23cf200 of size 4608 next 306\n",
      "2022-06-16 13:32:25.584675: I tensorflow/core/common_runtime/bfc_allocator.cc:1066] InUse at 7f17a23d0400 of size 4608 next 308\n",
      "2022-06-16 13:32:25.584683: I tensorflow/core/common_runtime/bfc_allocator.cc:1066] InUse at 7f17a23d1600 of size 4608 next 309\n",
      "2022-06-16 13:32:25.584691: I tensorflow/core/common_runtime/bfc_allocator.cc:1066] InUse at 7f17a23d2800 of size 4608 next 310\n",
      "2022-06-16 13:32:25.584699: I tensorflow/core/common_runtime/bfc_allocator.cc:1066] InUse at 7f17a23d3a00 of size 4608 next 311\n",
      "2022-06-16 13:32:25.584706: I tensorflow/core/common_runtime/bfc_allocator.cc:1066] InUse at 7f17a23d4c00 of size 4608 next 312\n",
      "2022-06-16 13:32:25.584714: I tensorflow/core/common_runtime/bfc_allocator.cc:1066] InUse at 7f17a23d5e00 of size 4608 next 313\n",
      "2022-06-16 13:32:25.584722: I tensorflow/core/common_runtime/bfc_allocator.cc:1066] InUse at 7f17a23d7000 of size 4608 next 314\n",
      "2022-06-16 13:32:25.584729: I tensorflow/core/common_runtime/bfc_allocator.cc:1066] InUse at 7f17a23d8200 of size 4864 next 317\n",
      "2022-06-16 13:32:25.584737: I tensorflow/core/common_runtime/bfc_allocator.cc:1066] InUse at 7f17a23d9500 of size 768 next 288\n",
      "2022-06-16 13:32:25.584745: I tensorflow/core/common_runtime/bfc_allocator.cc:1066] InUse at 7f17a23d9800 of size 768 next 255\n",
      "2022-06-16 13:32:25.584752: I tensorflow/core/common_runtime/bfc_allocator.cc:1066] InUse at 7f17a23d9b00 of size 768 next 321\n",
      "2022-06-16 13:32:25.584760: I tensorflow/core/common_runtime/bfc_allocator.cc:1066] InUse at 7f17a23d9e00 of size 768 next 322\n",
      "2022-06-16 13:32:25.584768: I tensorflow/core/common_runtime/bfc_allocator.cc:1066] InUse at 7f17a23da100 of size 256 next 333\n",
      "2022-06-16 13:32:25.584776: I tensorflow/core/common_runtime/bfc_allocator.cc:1066] InUse at 7f17a23da200 of size 1280 next 341\n",
      "2022-06-16 13:32:25.584784: I tensorflow/core/common_runtime/bfc_allocator.cc:1066] Free  at 7f17a23da700 of size 2560 next 252\n",
      "2022-06-16 13:32:25.584792: I tensorflow/core/common_runtime/bfc_allocator.cc:1066] InUse at 7f17a23db100 of size 75264 next 253\n",
      "2022-06-16 13:32:25.584800: I tensorflow/core/common_runtime/bfc_allocator.cc:1066] InUse at 7f17a23ed700 of size 41472 next 328\n",
      "2022-06-16 13:32:25.584808: I tensorflow/core/common_runtime/bfc_allocator.cc:1066] Free  at 7f17a23f7900 of size 78592 next 338\n",
      "2022-06-16 13:32:25.584816: I tensorflow/core/common_runtime/bfc_allocator.cc:1066] InUse at 7f17a240ac00 of size 256 next 339\n",
      "2022-06-16 13:32:25.584823: I tensorflow/core/common_runtime/bfc_allocator.cc:1066] InUse at 7f17a240ad00 of size 1280 next 340\n",
      "2022-06-16 13:32:25.584831: I tensorflow/core/common_runtime/bfc_allocator.cc:1066] InUse at 7f17a240b200 of size 1280 next 343\n",
      "2022-06-16 13:32:25.584839: I tensorflow/core/common_runtime/bfc_allocator.cc:1066] InUse at 7f17a240b700 of size 1280 next 344\n",
      "2022-06-16 13:32:25.584847: I tensorflow/core/common_runtime/bfc_allocator.cc:1066] Free  at 7f17a240bc00 of size 1280 next 345\n",
      "2022-06-16 13:32:25.584854: I tensorflow/core/common_runtime/bfc_allocator.cc:1066] InUse at 7f17a240c100 of size 256 next 346\n",
      "2022-06-16 13:32:25.584862: I tensorflow/core/common_runtime/bfc_allocator.cc:1066] InUse at 7f17a240c200 of size 5120 next 349\n",
      "2022-06-16 13:32:25.584869: I tensorflow/core/common_runtime/bfc_allocator.cc:1066] InUse at 7f17a240d600 of size 5120 next 350\n",
      "2022-06-16 13:32:25.584877: I tensorflow/core/common_runtime/bfc_allocator.cc:1066] InUse at 7f17a240ea00 of size 5120 next 351\n",
      "2022-06-16 13:32:25.584885: I tensorflow/core/common_runtime/bfc_allocator.cc:1066] Free  at 7f17a240fe00 of size 9472 next 238\n",
      "2022-06-16 13:32:25.584893: I tensorflow/core/common_runtime/bfc_allocator.cc:1066] InUse at 7f17a2412300 of size 301056 next 239\n",
      "2022-06-16 13:32:25.584901: I tensorflow/core/common_runtime/bfc_allocator.cc:1066] InUse at 7f17a245bb00 of size 884736 next 296\n",
      "2022-06-16 13:32:25.584909: I tensorflow/core/common_runtime/bfc_allocator.cc:1066] Free  at 7f17a2533b00 of size 964608 next 260\n",
      "2022-06-16 13:32:25.584917: I tensorflow/core/common_runtime/bfc_allocator.cc:1066] InUse at 7f17a261f300 of size 76800 next 134\n",
      "2022-06-16 13:32:25.584925: I tensorflow/core/common_runtime/bfc_allocator.cc:1066] InUse at 7f17a2631f00 of size 38400 next 160\n",
      "2022-06-16 13:32:25.585027: I tensorflow/core/common_runtime/bfc_allocator.cc:1066] InUse at 7f17a263b500 of size 48128 next 182\n",
      "2022-06-16 13:32:25.585035: I tensorflow/core/common_runtime/bfc_allocator.cc:1066] InUse at 7f17a2647100 of size 279040 next 278\n",
      "2022-06-16 13:32:25.585042: I tensorflow/core/common_runtime/bfc_allocator.cc:1066] InUse at 7f17a268b300 of size 221184 next 280\n",
      "2022-06-16 13:32:25.585049: I tensorflow/core/common_runtime/bfc_allocator.cc:1066] InUse at 7f17a26c1300 of size 221184 next 265\n",
      "2022-06-16 13:32:25.585057: I tensorflow/core/common_runtime/bfc_allocator.cc:1066] InUse at 7f17a26f7300 of size 884736 next 266\n",
      "2022-06-16 13:32:25.585065: I tensorflow/core/common_runtime/bfc_allocator.cc:1066] InUse at 7f17a27cf300 of size 221184 next 297\n",
      "2022-06-16 13:32:25.585073: I tensorflow/core/common_runtime/bfc_allocator.cc:1066] InUse at 7f17a2805300 of size 221184 next 299\n",
      "2022-06-16 13:32:25.585081: I tensorflow/core/common_runtime/bfc_allocator.cc:1066] InUse at 7f17a283b300 of size 221184 next 316\n",
      "2022-06-16 13:32:25.585088: I tensorflow/core/common_runtime/bfc_allocator.cc:1066] InUse at 7f17a2871300 of size 221184 next 282\n",
      "2022-06-16 13:32:25.585096: I tensorflow/core/common_runtime/bfc_allocator.cc:1066] InUse at 7f17a28a7300 of size 884736 next 283\n",
      "2022-06-16 13:32:25.585104: I tensorflow/core/common_runtime/bfc_allocator.cc:1066] InUse at 7f17a297f300 of size 221184 next 286\n",
      "2022-06-16 13:32:25.585111: I tensorflow/core/common_runtime/bfc_allocator.cc:1066] InUse at 7f17a29b5300 of size 884736 next 318\n",
      "2022-06-16 13:32:25.585119: I tensorflow/core/common_runtime/bfc_allocator.cc:1066] InUse at 7f17a2a8d300 of size 221184 next 335\n",
      "2022-06-16 13:32:25.585126: I tensorflow/core/common_runtime/bfc_allocator.cc:1066] Free  at 7f17a2ac3300 of size 221184 next 337\n",
      "2022-06-16 13:32:25.585165: I tensorflow/core/common_runtime/bfc_allocator.cc:1066] InUse at 7f17a2af9300 of size 221184 next 301\n",
      "2022-06-16 13:32:25.585179: I tensorflow/core/common_runtime/bfc_allocator.cc:1066] InUse at 7f17a2b2f300 of size 884736 next 302\n",
      "2022-06-16 13:32:25.585187: I tensorflow/core/common_runtime/bfc_allocator.cc:1066] InUse at 7f17a2c07300 of size 884736 next 307\n",
      "2022-06-16 13:32:25.585195: I tensorflow/core/common_runtime/bfc_allocator.cc:1066] InUse at 7f17a2cdf300 of size 301056 next 161\n",
      "2022-06-16 13:32:25.585204: I tensorflow/core/common_runtime/bfc_allocator.cc:1066] InUse at 7f17a2d28b00 of size 583680 next 319\n",
      "2022-06-16 13:32:25.585212: I tensorflow/core/common_runtime/bfc_allocator.cc:1066] InUse at 7f17a2db7300 of size 1474560 next 336\n",
      "2022-06-16 13:32:25.585220: I tensorflow/core/common_runtime/bfc_allocator.cc:1066] InUse at 7f17a2f1f300 of size 1638400 next 325\n",
      "2022-06-16 13:32:25.585228: I tensorflow/core/common_runtime/bfc_allocator.cc:1066] Free  at 7f17a30af300 of size 3080192 next 342\n",
      "2022-06-16 13:32:25.585236: I tensorflow/core/common_runtime/bfc_allocator.cc:1066] InUse at 7f17a339f300 of size 1638400 next 347\n",
      "2022-06-16 13:32:25.585244: I tensorflow/core/common_runtime/bfc_allocator.cc:1066] Free  at 7f17a352f300 of size 71896320 next 18446744073709551615\n",
      "2022-06-16 13:32:25.585255: I tensorflow/core/common_runtime/bfc_allocator.cc:1071]      Summary of in-use Chunks by size: \n",
      "2022-06-16 13:32:25.585271: I tensorflow/core/common_runtime/bfc_allocator.cc:1074] 79 Chunks of size 256 totalling 19.8KiB\n",
      "2022-06-16 13:32:25.585283: I tensorflow/core/common_runtime/bfc_allocator.cc:1074] 30 Chunks of size 512 totalling 15.0KiB\n",
      "2022-06-16 13:32:25.585293: I tensorflow/core/common_runtime/bfc_allocator.cc:1074] 35 Chunks of size 768 totalling 26.2KiB\n",
      "2022-06-16 13:32:25.585301: I tensorflow/core/common_runtime/bfc_allocator.cc:1074] 20 Chunks of size 1024 totalling 20.0KiB\n",
      "2022-06-16 13:32:25.585310: I tensorflow/core/common_runtime/bfc_allocator.cc:1074] 6 Chunks of size 1280 totalling 7.5KiB\n",
      "2022-06-16 13:32:25.585318: I tensorflow/core/common_runtime/bfc_allocator.cc:1074] 2 Chunks of size 1536 totalling 3.0KiB\n",
      "2022-06-16 13:32:25.585327: I tensorflow/core/common_runtime/bfc_allocator.cc:1074] 1 Chunks of size 1792 totalling 1.8KiB\n",
      "2022-06-16 13:32:25.585336: I tensorflow/core/common_runtime/bfc_allocator.cc:1074] 26 Chunks of size 2048 totalling 52.0KiB\n",
      "2022-06-16 13:32:25.585345: I tensorflow/core/common_runtime/bfc_allocator.cc:1074] 22 Chunks of size 2816 totalling 60.5KiB\n",
      "2022-06-16 13:32:25.585353: I tensorflow/core/common_runtime/bfc_allocator.cc:1074] 2 Chunks of size 3072 totalling 6.0KiB\n",
      "2022-06-16 13:32:25.585362: I tensorflow/core/common_runtime/bfc_allocator.cc:1074] 5 Chunks of size 3584 totalling 17.5KiB\n",
      "2022-06-16 13:32:25.585371: I tensorflow/core/common_runtime/bfc_allocator.cc:1074] 1 Chunks of size 3840 totalling 3.8KiB\n",
      "2022-06-16 13:32:25.585389: I tensorflow/core/common_runtime/bfc_allocator.cc:1074] 34 Chunks of size 4608 totalling 153.0KiB\n",
      "2022-06-16 13:32:25.585398: I tensorflow/core/common_runtime/bfc_allocator.cc:1074] 3 Chunks of size 4864 totalling 14.2KiB\n",
      "2022-06-16 13:32:25.585407: I tensorflow/core/common_runtime/bfc_allocator.cc:1074] 4 Chunks of size 5120 totalling 20.0KiB\n",
      "2022-06-16 13:32:25.585416: I tensorflow/core/common_runtime/bfc_allocator.cc:1074] 1 Chunks of size 5376 totalling 5.2KiB\n",
      "2022-06-16 13:32:25.585425: I tensorflow/core/common_runtime/bfc_allocator.cc:1074] 1 Chunks of size 5888 totalling 5.8KiB\n",
      "2022-06-16 13:32:25.585433: I tensorflow/core/common_runtime/bfc_allocator.cc:1074] 2 Chunks of size 6144 totalling 12.0KiB\n",
      "2022-06-16 13:32:25.585442: I tensorflow/core/common_runtime/bfc_allocator.cc:1074] 1 Chunks of size 6400 totalling 6.2KiB\n",
      "2022-06-16 13:32:25.585451: I tensorflow/core/common_runtime/bfc_allocator.cc:1074] 1 Chunks of size 7168 totalling 7.0KiB\n",
      "2022-06-16 13:32:25.585459: I tensorflow/core/common_runtime/bfc_allocator.cc:1074] 1 Chunks of size 8192 totalling 8.0KiB\n",
      "2022-06-16 13:32:25.585468: I tensorflow/core/common_runtime/bfc_allocator.cc:1074] 1 Chunks of size 9216 totalling 9.0KiB\n",
      "2022-06-16 13:32:25.585477: I tensorflow/core/common_runtime/bfc_allocator.cc:1074] 3 Chunks of size 9728 totalling 28.5KiB\n",
      "2022-06-16 13:32:25.585485: I tensorflow/core/common_runtime/bfc_allocator.cc:1074] 3 Chunks of size 13824 totalling 40.5KiB\n",
      "2022-06-16 13:32:25.585494: I tensorflow/core/common_runtime/bfc_allocator.cc:1074] 1 Chunks of size 14336 totalling 14.0KiB\n",
      "2022-06-16 13:32:25.585503: I tensorflow/core/common_runtime/bfc_allocator.cc:1074] 1 Chunks of size 14592 totalling 14.2KiB\n",
      "2022-06-16 13:32:25.585511: I tensorflow/core/common_runtime/bfc_allocator.cc:1074] 1 Chunks of size 14848 totalling 14.5KiB\n",
      "2022-06-16 13:32:25.585520: I tensorflow/core/common_runtime/bfc_allocator.cc:1074] 1 Chunks of size 17408 totalling 17.0KiB\n",
      "2022-06-16 13:32:25.585529: I tensorflow/core/common_runtime/bfc_allocator.cc:1074] 1 Chunks of size 25600 totalling 25.0KiB\n",
      "2022-06-16 13:32:25.585538: I tensorflow/core/common_runtime/bfc_allocator.cc:1074] 1 Chunks of size 33280 totalling 32.5KiB\n",
      "2022-06-16 13:32:25.585548: I tensorflow/core/common_runtime/bfc_allocator.cc:1074] 8 Chunks of size 38400 totalling 300.0KiB\n",
      "2022-06-16 13:32:25.585557: I tensorflow/core/common_runtime/bfc_allocator.cc:1074] 2 Chunks of size 41472 totalling 81.0KiB\n",
      "2022-06-16 13:32:25.585568: I tensorflow/core/common_runtime/bfc_allocator.cc:1074] 1 Chunks of size 48128 totalling 47.0KiB\n",
      "2022-06-16 13:32:25.585577: I tensorflow/core/common_runtime/bfc_allocator.cc:1074] 1 Chunks of size 48384 totalling 47.2KiB\n",
      "2022-06-16 13:32:25.585586: I tensorflow/core/common_runtime/bfc_allocator.cc:1074] 3 Chunks of size 67328 totalling 197.2KiB\n",
      "2022-06-16 13:32:25.585595: I tensorflow/core/common_runtime/bfc_allocator.cc:1074] 4 Chunks of size 75264 totalling 294.0KiB\n",
      "2022-06-16 13:32:25.585604: I tensorflow/core/common_runtime/bfc_allocator.cc:1074] 1 Chunks of size 76800 totalling 75.0KiB\n",
      "2022-06-16 13:32:25.585612: I tensorflow/core/common_runtime/bfc_allocator.cc:1074] 1 Chunks of size 86272 totalling 84.2KiB\n",
      "2022-06-16 13:32:25.585621: I tensorflow/core/common_runtime/bfc_allocator.cc:1074] 1 Chunks of size 105472 totalling 103.0KiB\n",
      "2022-06-16 13:32:25.585630: I tensorflow/core/common_runtime/bfc_allocator.cc:1074] 1 Chunks of size 115200 totalling 112.5KiB\n",
      "2022-06-16 13:32:25.585639: I tensorflow/core/common_runtime/bfc_allocator.cc:1074] 3 Chunks of size 153600 totalling 450.0KiB\n",
      "2022-06-16 13:32:25.585648: I tensorflow/core/common_runtime/bfc_allocator.cc:1074] 1 Chunks of size 158464 totalling 154.8KiB\n",
      "2022-06-16 13:32:25.585657: I tensorflow/core/common_runtime/bfc_allocator.cc:1074] 10 Chunks of size 221184 totalling 2.11MiB\n",
      "2022-06-16 13:32:25.585668: I tensorflow/core/common_runtime/bfc_allocator.cc:1074] 1 Chunks of size 279040 totalling 272.5KiB\n",
      "2022-06-16 13:32:25.585677: I tensorflow/core/common_runtime/bfc_allocator.cc:1074] 4 Chunks of size 301056 totalling 1.15MiB\n",
      "2022-06-16 13:32:25.585686: I tensorflow/core/common_runtime/bfc_allocator.cc:1074] 1 Chunks of size 355328 totalling 347.0KiB\n",
      "2022-06-16 13:32:25.585695: I tensorflow/core/common_runtime/bfc_allocator.cc:1074] 1 Chunks of size 445952 totalling 435.5KiB\n",
      "2022-06-16 13:32:25.585704: I tensorflow/core/common_runtime/bfc_allocator.cc:1074] 1 Chunks of size 583680 totalling 570.0KiB\n",
      "2022-06-16 13:32:25.585713: I tensorflow/core/common_runtime/bfc_allocator.cc:1074] 6 Chunks of size 884736 totalling 5.06MiB\n",
      "2022-06-16 13:32:25.585722: I tensorflow/core/common_runtime/bfc_allocator.cc:1074] 1 Chunks of size 1474560 totalling 1.41MiB\n",
      "2022-06-16 13:32:25.585730: I tensorflow/core/common_runtime/bfc_allocator.cc:1074] 2 Chunks of size 1638400 totalling 3.12MiB\n",
      "2022-06-16 13:32:25.585740: I tensorflow/core/common_runtime/bfc_allocator.cc:1078] Sum Total of in-use chunks: 16.98MiB\n",
      "2022-06-16 13:32:25.585749: I tensorflow/core/common_runtime/bfc_allocator.cc:1080] total_region_allocated_bytes_: 94109696 memory_limit_: 94109696 available bytes: 0 curr_region_allocation_bytes_: 188219392\n",
      "2022-06-16 13:32:25.585764: I tensorflow/core/common_runtime/bfc_allocator.cc:1086] Stats: \n",
      "Limit:                        94109696\n",
      "InUse:                        17808128\n",
      "MaxInUse:                     21092864\n",
      "NumAllocs:                         818\n",
      "MaxAllocSize:                  2949120\n",
      "Reserved:                            0\n",
      "PeakReserved:                        0\n",
      "LargestFreeBlock:                    0\n",
      "\n",
      "2022-06-16 13:32:25.585797: W tensorflow/core/common_runtime/bfc_allocator.cc:474] *******************__**x____________________________________________________________________________\n",
      "2022-06-16 13:32:25.585864: W tensorflow/core/framework/op_kernel.cc:1745] OP_REQUIRES failed at random_op.cc:74 : RESOURCE_EXHAUSTED: OOM when allocating tensor with shape[19761,1024] and type float on /job:localhost/replica:0/task:0/device:GPU:0 by allocator GPU_0_bfc\n"
     ]
    },
    {
     "ename": "ResourceExhaustedError",
     "evalue": "OOM when allocating tensor with shape[19761,1024] and type float on /job:localhost/replica:0/task:0/device:GPU:0 by allocator GPU_0_bfc [Op:RandomUniform]",
     "output_type": "error",
     "traceback": [
      "\u001b[0;31m---------------------------------------------------------------------------\u001b[0m",
      "\u001b[0;31mResourceExhaustedError\u001b[0m                    Traceback (most recent call last)",
      "\u001b[0;32m/tmp/ipykernel_848/406754607.py\u001b[0m in \u001b[0;36m<module>\u001b[0;34m\u001b[0m\n\u001b[0;32m----> 1\u001b[0;31m \u001b[0mmodel_30k\u001b[0m \u001b[0;34m=\u001b[0m \u001b[0mload_model_cache\u001b[0m\u001b[0;34m(\u001b[0m\u001b[0;34m)\u001b[0m\u001b[0;34m\u001b[0m\u001b[0;34m\u001b[0m\u001b[0m\n\u001b[0m",
      "\u001b[0;32m/tmp/ipykernel_848/2133646055.py\u001b[0m in \u001b[0;36mload_model_cache\u001b[0;34m()\u001b[0m\n\u001b[1;32m      1\u001b[0m \u001b[0;32mdef\u001b[0m \u001b[0mload_model_cache\u001b[0m\u001b[0;34m(\u001b[0m\u001b[0;34m)\u001b[0m\u001b[0;34m:\u001b[0m\u001b[0;34m\u001b[0m\u001b[0;34m\u001b[0m\u001b[0m\n\u001b[1;32m      2\u001b[0m \u001b[0;34m\u001b[0m\u001b[0m\n\u001b[0;32m----> 3\u001b[0;31m     \u001b[0mmodel\u001b[0m \u001b[0;34m=\u001b[0m \u001b[0mmodel_builder\u001b[0m\u001b[0;34m(\u001b[0m\u001b[0;34m)\u001b[0m \u001b[0;31m#build empty model with the right architecure\u001b[0m\u001b[0;34m\u001b[0m\u001b[0;34m\u001b[0m\u001b[0m\n\u001b[0m\u001b[1;32m      4\u001b[0m \u001b[0;34m\u001b[0m\u001b[0m\n\u001b[1;32m      5\u001b[0m     \u001b[0;31m#Get Current directory Path File\u001b[0m\u001b[0;34m\u001b[0m\u001b[0;34m\u001b[0m\u001b[0;34m\u001b[0m\u001b[0m\n",
      "\u001b[0;32m/tmp/ipykernel_848/990328253.py\u001b[0m in \u001b[0;36mmodel_builder\u001b[0;34m()\u001b[0m\n\u001b[1;32m      4\u001b[0m     \u001b[0membed_dim\u001b[0m \u001b[0;34m=\u001b[0m \u001b[0;36m1024\u001b[0m\u001b[0;34m\u001b[0m\u001b[0;34m\u001b[0m\u001b[0m\n\u001b[1;32m      5\u001b[0m     \u001b[0minputs2\u001b[0m  \u001b[0;34m=\u001b[0m \u001b[0mInput\u001b[0m\u001b[0;34m(\u001b[0m\u001b[0mshape\u001b[0m\u001b[0;34m=\u001b[0m\u001b[0;34m(\u001b[0m\u001b[0mcap_len\u001b[0m\u001b[0;34m,\u001b[0m\u001b[0;34m)\u001b[0m\u001b[0;34m,\u001b[0m\u001b[0mname\u001b[0m\u001b[0;34m=\u001b[0m\u001b[0;34m\"captions\"\u001b[0m\u001b[0;34m)\u001b[0m\u001b[0;34m\u001b[0m\u001b[0;34m\u001b[0m\u001b[0m\n\u001b[0;32m----> 6\u001b[0;31m     \u001b[0membed_layer\u001b[0m \u001b[0;34m=\u001b[0m \u001b[0mEmbedding\u001b[0m\u001b[0;34m(\u001b[0m\u001b[0mvocab_size\u001b[0m\u001b[0;34m+\u001b[0m\u001b[0;36m3\u001b[0m\u001b[0;34m,\u001b[0m \u001b[0membed_dim\u001b[0m\u001b[0;34m,\u001b[0m \u001b[0mmask_zero\u001b[0m\u001b[0;34m=\u001b[0m\u001b[0;32mTrue\u001b[0m\u001b[0;34m)\u001b[0m\u001b[0;34m(\u001b[0m\u001b[0minputs2\u001b[0m\u001b[0;34m)\u001b[0m\u001b[0;34m\u001b[0m\u001b[0;34m\u001b[0m\u001b[0m\n\u001b[0m\u001b[1;32m      7\u001b[0m     \u001b[0minput_encoded\u001b[0m \u001b[0;34m=\u001b[0m \u001b[0mInput\u001b[0m\u001b[0;34m(\u001b[0m\u001b[0mshape\u001b[0m\u001b[0;34m=\u001b[0m\u001b[0;34m(\u001b[0m\u001b[0;36m8\u001b[0m\u001b[0;34m,\u001b[0m\u001b[0;36m8\u001b[0m\u001b[0;34m,\u001b[0m\u001b[0;36m1280\u001b[0m\u001b[0;34m)\u001b[0m\u001b[0;34m,\u001b[0m\u001b[0mname\u001b[0m\u001b[0;34m=\u001b[0m\u001b[0;34m\"images_encoded\"\u001b[0m\u001b[0;34m)\u001b[0m\u001b[0;34m\u001b[0m\u001b[0;34m\u001b[0m\u001b[0m\n\u001b[1;32m      8\u001b[0m     \u001b[0mpooling\u001b[0m \u001b[0;34m=\u001b[0m \u001b[0mGlobalAveragePooling2D\u001b[0m\u001b[0;34m(\u001b[0m\u001b[0;34m)\u001b[0m\u001b[0;34m(\u001b[0m\u001b[0minput_encoded\u001b[0m\u001b[0;34m)\u001b[0m\u001b[0;34m\u001b[0m\u001b[0;34m\u001b[0m\u001b[0m\n",
      "\u001b[0;32m/opt/conda/lib/python3.7/site-packages/keras/utils/traceback_utils.py\u001b[0m in \u001b[0;36merror_handler\u001b[0;34m(*args, **kwargs)\u001b[0m\n\u001b[1;32m     65\u001b[0m     \u001b[0;32mexcept\u001b[0m \u001b[0mException\u001b[0m \u001b[0;32mas\u001b[0m \u001b[0me\u001b[0m\u001b[0;34m:\u001b[0m  \u001b[0;31m# pylint: disable=broad-except\u001b[0m\u001b[0;34m\u001b[0m\u001b[0;34m\u001b[0m\u001b[0m\n\u001b[1;32m     66\u001b[0m       \u001b[0mfiltered_tb\u001b[0m \u001b[0;34m=\u001b[0m \u001b[0m_process_traceback_frames\u001b[0m\u001b[0;34m(\u001b[0m\u001b[0me\u001b[0m\u001b[0;34m.\u001b[0m\u001b[0m__traceback__\u001b[0m\u001b[0;34m)\u001b[0m\u001b[0;34m\u001b[0m\u001b[0;34m\u001b[0m\u001b[0m\n\u001b[0;32m---> 67\u001b[0;31m       \u001b[0;32mraise\u001b[0m \u001b[0me\u001b[0m\u001b[0;34m.\u001b[0m\u001b[0mwith_traceback\u001b[0m\u001b[0;34m(\u001b[0m\u001b[0mfiltered_tb\u001b[0m\u001b[0;34m)\u001b[0m \u001b[0;32mfrom\u001b[0m \u001b[0;32mNone\u001b[0m\u001b[0;34m\u001b[0m\u001b[0;34m\u001b[0m\u001b[0m\n\u001b[0m\u001b[1;32m     68\u001b[0m     \u001b[0;32mfinally\u001b[0m\u001b[0;34m:\u001b[0m\u001b[0;34m\u001b[0m\u001b[0;34m\u001b[0m\u001b[0m\n\u001b[1;32m     69\u001b[0m       \u001b[0;32mdel\u001b[0m \u001b[0mfiltered_tb\u001b[0m\u001b[0;34m\u001b[0m\u001b[0;34m\u001b[0m\u001b[0m\n",
      "\u001b[0;32m/opt/conda/lib/python3.7/site-packages/keras/backend.py\u001b[0m in \u001b[0;36mrandom_uniform\u001b[0;34m(self, shape, minval, maxval, dtype)\u001b[0m\n\u001b[1;32m   1920\u001b[0m     return tf.random.uniform(\n\u001b[1;32m   1921\u001b[0m         \u001b[0mshape\u001b[0m\u001b[0;34m=\u001b[0m\u001b[0mshape\u001b[0m\u001b[0;34m,\u001b[0m \u001b[0mminval\u001b[0m\u001b[0;34m=\u001b[0m\u001b[0mminval\u001b[0m\u001b[0;34m,\u001b[0m \u001b[0mmaxval\u001b[0m\u001b[0;34m=\u001b[0m\u001b[0mmaxval\u001b[0m\u001b[0;34m,\u001b[0m \u001b[0mdtype\u001b[0m\u001b[0;34m=\u001b[0m\u001b[0mdtype\u001b[0m\u001b[0;34m,\u001b[0m\u001b[0;34m\u001b[0m\u001b[0;34m\u001b[0m\u001b[0m\n\u001b[0;32m-> 1922\u001b[0;31m         seed=self.make_legacy_seed())\n\u001b[0m\u001b[1;32m   1923\u001b[0m \u001b[0;34m\u001b[0m\u001b[0m\n\u001b[1;32m   1924\u001b[0m   \u001b[0;32mdef\u001b[0m \u001b[0mtruncated_normal\u001b[0m\u001b[0;34m(\u001b[0m\u001b[0mself\u001b[0m\u001b[0;34m,\u001b[0m \u001b[0mshape\u001b[0m\u001b[0;34m,\u001b[0m \u001b[0mmean\u001b[0m\u001b[0;34m=\u001b[0m\u001b[0;36m0.\u001b[0m\u001b[0;34m,\u001b[0m \u001b[0mstddev\u001b[0m\u001b[0;34m=\u001b[0m\u001b[0;36m1.\u001b[0m\u001b[0;34m,\u001b[0m \u001b[0mdtype\u001b[0m\u001b[0;34m=\u001b[0m\u001b[0;32mNone\u001b[0m\u001b[0;34m)\u001b[0m\u001b[0;34m:\u001b[0m\u001b[0;34m\u001b[0m\u001b[0;34m\u001b[0m\u001b[0m\n",
      "\u001b[0;31mResourceExhaustedError\u001b[0m: OOM when allocating tensor with shape[19761,1024] and type float on /job:localhost/replica:0/task:0/device:GPU:0 by allocator GPU_0_bfc [Op:RandomUniform]"
     ]
    }
   ],
   "source": [
    "model_30k = load_model_cache()"
   ]
  },
  {
   "cell_type": "code",
   "execution_count": 87,
   "id": "da8be222-270c-4bc4-b272-4fb9b0248001",
   "metadata": {},
   "outputs": [],
   "source": [
    "def predict_caption(model,img_encoded):\n",
    "    cap_len = 25\n",
    "    index_file ='word_index.pkl'\n",
    "    with open(index_file,'rb') as handle:\n",
    "        word_index = pickle.load(handle)\n",
    "    inputs_seq = [2]\n",
    "    endsequence_token = word_index['endsequence']\n",
    "    for i in range(cap_len):\n",
    "        inputs_seq_model = pad_sequences([inputs_seq],padding='post',maxlen=25)\n",
    "        y_pre = model.predict([img_encoded,inputs_seq_model])\n",
    "        next_word = y_pre.argmax()\n",
    "        if next_word == endsequence_token:\n",
    "            break\n",
    "        inputs_seq.append(next_word)\n",
    "    sentence = []\n",
    "    for number in inputs_seq:\n",
    "        sentence.append(list(word_index.keys())[list(word_index.values()).index(number)])\n",
    "    sentence = sentence [1:]\n",
    "    prediction = ' '.join(word for word in sentence)\n",
    "    return prediction"
   ]
  },
  {
   "cell_type": "code",
   "execution_count": 88,
   "id": "68b4504e-45f0-4cb9-bc5a-d49c7d85643d",
   "metadata": {},
   "outputs": [],
   "source": [
    "def rand_sequ_model30k(X_test,numbers,model):\n",
    "    X_test.value = X_test.value.str.replace('startsequence ','')\n",
    "    X_test.value = X_test.value.str.replace(' endsequence','')\n",
    "    X_test =  X_test.drop(['value_tokenized'], axis=1)\n",
    "    id_list = X_test.id.tolist()\n",
    "    cap_list =X_test.value.tolist()\n",
    "    img_list = id_list \n",
    "    capt_list = cap_list\n",
    "    total_sentence = []\n",
    "    image_id =[]\n",
    "    rand_img_index = np.random.randint(1619, size=numbers)\n",
    "    for i in rand_img_index:\n",
    "        cnn_out = CNN_output(img_list[i]+'.jpg')\n",
    "        sent_out = predict_caption(model,cnn_out)\n",
    "        total_sentence.append(sent_out)\n",
    "        image_id.append(img_list[i])\n",
    "    captions = []\n",
    "    for imgs in image_id:\n",
    "        for index, row in X_test.iterrows():\n",
    "            if row['id'] in imgs:\n",
    "                captions.append(row['value'])\n",
    "    predict_m = np.repeat(total_sentence,5)\n",
    "    return captions, predict_m"
   ]
  },
  {
   "cell_type": "code",
   "execution_count": 89,
   "id": "db769724-2fdb-42ed-817a-6d4798c6e3a6",
   "metadata": {},
   "outputs": [],
   "source": [
    "captions_30k, predict_m_30k =rand_sequ_model30k(X_test,500,model_30k)"
   ]
  },
  {
   "cell_type": "code",
   "execution_count": 90,
   "id": "892f8b79-0b18-498b-8623-12acd9ba6deb",
   "metadata": {},
   "outputs": [],
   "source": [
    "import pickle\n",
    "pickle.dump(captions_30k,open('caption_30k.pkl','wb'))"
   ]
  },
  {
   "cell_type": "code",
   "execution_count": 91,
   "id": "40058e37-81fa-4f3b-9b03-30090dfeeef6",
   "metadata": {},
   "outputs": [],
   "source": [
    "pickle.dump(predict_m_30k,open('cpredict_m_30k.pkl','wb'))"
   ]
  },
  {
   "cell_type": "code",
   "execution_count": 20,
   "id": "d14d1700-60c2-4f1f-8b52-9654658d237b",
   "metadata": {},
   "outputs": [
    {
     "data": {
      "text/plain": [
       "500"
      ]
     },
     "execution_count": 20,
     "metadata": {},
     "output_type": "execute_result"
    }
   ],
   "source": [
    "len(captions_30k)"
   ]
  },
  {
   "cell_type": "code",
   "execution_count": 1,
   "id": "ddf81bd2-387b-4eaf-9f3e-129ee6374d78",
   "metadata": {},
   "outputs": [
    {
     "ename": "NameError",
     "evalue": "name 'pickle' is not defined",
     "output_type": "error",
     "traceback": [
      "\u001b[0;31m---------------------------------------------------------------------------\u001b[0m",
      "\u001b[0;31mNameError\u001b[0m                                 Traceback (most recent call last)",
      "\u001b[0;32m/tmp/ipykernel_8293/1785017459.py\u001b[0m in \u001b[0;36m<module>\u001b[0;34m\u001b[0m\n\u001b[0;32m----> 1\u001b[0;31m \u001b[0mcaptions_30k\u001b[0m \u001b[0;34m=\u001b[0m \u001b[0mpickle\u001b[0m\u001b[0;34m.\u001b[0m\u001b[0mload\u001b[0m\u001b[0;34m(\u001b[0m\u001b[0;34m'caption_30k.pkl'\u001b[0m\u001b[0;34m)\u001b[0m\u001b[0;34m\u001b[0m\u001b[0;34m\u001b[0m\u001b[0m\n\u001b[0m",
      "\u001b[0;31mNameError\u001b[0m: name 'pickle' is not defined"
     ]
    }
   ],
   "source": [
    "captions_30k = pickle.load('caption_30k.pkl')"
   ]
  },
  {
   "cell_type": "code",
   "execution_count": 21,
   "id": "b4072238-33dc-4a5b-a4d8-63fccc1bf2ed",
   "metadata": {},
   "outputs": [],
   "source": [
    "c_30k= model_doc2vec.encode(captions_30k)"
   ]
  },
  {
   "cell_type": "code",
   "execution_count": 22,
   "id": "79a22dfc-5341-4d0a-aa94-45e373142f3c",
   "metadata": {},
   "outputs": [],
   "source": [
    "d_30k =model_doc2vec.encode(predict_m_30k)"
   ]
  },
  {
   "cell_type": "code",
   "execution_count": 19,
   "id": "4c399fef-6abe-409d-8936-0c17f3ae8825",
   "metadata": {},
   "outputs": [],
   "source": [
    "def score_ave(c,d,shape):\n",
    "   \n",
    "    score_total =[]\n",
    "\n",
    "    for i in range(len(c)):\n",
    "        score = sentence_transformers.util.cos_sim(c[i],d[i])\n",
    "        score_total.append(score)\n",
    "    score_total_np = np.array(score_total)\n",
    "    score_total_final = score_total_np.reshape(5,shape)\n",
    "        \n",
    "    score_avr = []\n",
    "    for i in range(len(score_total_final)):\n",
    "        score_avr.append(score_total_final[i].mean())\n",
    "    score_overall = np.array(score_avr)\n",
    "    return score_overall.mean()"
   ]
  },
  {
   "cell_type": "code",
   "execution_count": 24,
   "id": "0d09c53c-9245-4b9a-8819-b643a1cd364e",
   "metadata": {},
   "outputs": [
    {
     "data": {
      "text/plain": [
       "0.68506813"
      ]
     },
     "execution_count": 24,
     "metadata": {},
     "output_type": "execute_result"
    }
   ],
   "source": [
    "score_ave(c_30k,d_30k,100)\n"
   ]
  },
  {
   "cell_type": "code",
   "execution_count": 25,
   "id": "a8aa11e6-8621-477b-8e90-d9c693e5d35f",
   "metadata": {},
   "outputs": [],
   "source": [
    "model_30k_score = 0.68506813"
   ]
  },
  {
   "cell_type": "markdown",
   "id": "b922b905-f43d-46c7-94b4-0a0bf79411be",
   "metadata": {},
   "source": [
    "# Comparison with OFA and 110kmodel"
   ]
  },
  {
   "cell_type": "code",
   "execution_count": 20,
   "id": "330bc95a-a9cb-4bf0-b9d1-625f2f1671e2",
   "metadata": {},
   "outputs": [],
   "source": [
    "true_captions = ['three men sit in front of laptops on a wooden table in a classroom']"
   ]
  },
  {
   "cell_type": "code",
   "execution_count": 21,
   "id": "f7a4f5f8-c9bb-4aee-a3cb-d9549def4487",
   "metadata": {},
   "outputs": [],
   "source": [
    "OFA_captions = ['three men sittig at a table working on laptops']"
   ]
  },
  {
   "cell_type": "code",
   "execution_count": 22,
   "id": "f1044c57-bccc-4cce-8aa1-224e410529e6",
   "metadata": {},
   "outputs": [],
   "source": [
    "ourmodel_captions = ['a group of people sitting around a wooden table'] "
   ]
  },
  {
   "cell_type": "code",
   "execution_count": 23,
   "id": "154e845c-ca8c-4aba-9eb9-5f48dafb04eb",
   "metadata": {},
   "outputs": [],
   "source": [
    "true_captions_vec = model_doc2vec.encode(true_captions)"
   ]
  },
  {
   "cell_type": "code",
   "execution_count": 24,
   "id": "f7e70bd3-4136-4d60-89bd-3cb1121162a8",
   "metadata": {},
   "outputs": [],
   "source": [
    "OFA_captions_vec =  model_doc2vec.encode(OFA_captions)"
   ]
  },
  {
   "cell_type": "code",
   "execution_count": 25,
   "id": "dd66d124-bbf2-410d-a812-e6de6dfd7ee8",
   "metadata": {},
   "outputs": [],
   "source": [
    "ourmodel_captions_vec = model_doc2vec.encode(ourmodel_captions)"
   ]
  },
  {
   "cell_type": "code",
   "execution_count": 26,
   "id": "26811917-7c24-4c42-8daa-607d08a2068d",
   "metadata": {},
   "outputs": [],
   "source": [
    "score1 = sentence_transformers.util.cos_sim(OFA_captions_vec,true_captions_vec)"
   ]
  },
  {
   "cell_type": "code",
   "execution_count": 27,
   "id": "e3dda08a-30c9-4b45-b62f-d42e785c7790",
   "metadata": {},
   "outputs": [
    {
     "data": {
      "text/plain": [
       "tensor([[0.7566]])"
      ]
     },
     "execution_count": 27,
     "metadata": {},
     "output_type": "execute_result"
    }
   ],
   "source": [
    "score1"
   ]
  },
  {
   "cell_type": "code",
   "execution_count": 28,
   "id": "a7ded276-1290-44bd-86ec-59ddc5ae2e32",
   "metadata": {},
   "outputs": [],
   "source": [
    "score2 = sentence_transformers.util.cos_sim(ourmodel_captions_vec,true_captions_vec)"
   ]
  },
  {
   "cell_type": "code",
   "execution_count": 29,
   "id": "82ba3fcc-645e-409d-9408-7884a52453a1",
   "metadata": {},
   "outputs": [
    {
     "data": {
      "text/plain": [
       "tensor([[0.5955]])"
      ]
     },
     "execution_count": 29,
     "metadata": {},
     "output_type": "execute_result"
    }
   ],
   "source": [
    "score2"
   ]
  },
  {
   "cell_type": "markdown",
   "id": "5c53724c-7f20-4f68-bf33-4ead10304da9",
   "metadata": {},
   "source": [
    "# Try 110k model"
   ]
  },
  {
   "cell_type": "code",
   "execution_count": 14,
   "id": "22eefacc-02fc-41d4-9e0a-54fdbd335b4a",
   "metadata": {},
   "outputs": [],
   "source": [
    "import numpy as np\n",
    "import pickle\n",
    "from tensorflow.keras.applications.efficientnet import EfficientNetB0\n",
    "from tensorflow.keras.layers import Input, GlobalAveragePooling2D, Dense, Embedding, Add, LSTM\n",
    "from tensorflow.keras.models import Model\n",
    "from tensorflow.keras.preprocessing import image\n",
    "from tensorflow.keras.preprocessing.sequence import pad_sequences"
   ]
  },
  {
   "cell_type": "code",
   "execution_count": 17,
   "id": "b7af63b1-c991-4918-bfd1-e220af8f45f6",
   "metadata": {},
   "outputs": [],
   "source": [
    "def model_builder():\n",
    "    cap_len = 25\n",
    "    vocab_size = 28533\n",
    "    embed_dim = 1024\n",
    "    inputs2  = Input(shape=(cap_len,),name=\"captions\")\n",
    "    embed_layer = Embedding(vocab_size+3, embed_dim, mask_zero=True)(inputs2)\n",
    "    input_encoded = Input(shape=(8,8,1280),name=\"images_encoded\")\n",
    "    pooling = GlobalAveragePooling2D()(input_encoded)\n",
    "    cnn_dense = Dense(embed_dim, activation='relu')(pooling)\n",
    "    combine = Add()([embed_layer,cnn_dense])\n",
    "    lstm_layer = LSTM(embed_dim)(combine)\n",
    "    decoder = Dense(2048, activation='relu')(lstm_layer)\n",
    "    outputs = Dense(vocab_size+1, activation='softmax')(decoder)\n",
    "    lstm_model = Model(inputs=[input_encoded, inputs2], outputs=outputs)\n",
    "    lstm_model.compile(loss='categorical_crossentropy', optimizer='adam', metrics='accuracy')\n",
    "    return lstm_model"
   ]
  },
  {
   "cell_type": "code",
   "execution_count": 18,
   "id": "155d9a79-283d-425c-872b-0aca4aa30fe3",
   "metadata": {},
   "outputs": [],
   "source": [
    "def load_model_cache():\n",
    "\n",
    "    model = model_builder() #build empty model with the right architecure\n",
    "\n",
    "    #Get Current directory Path File\n",
    "    model.load_weights(\"20220614_118k_modelweights.h5\") #load weights only from h5 file\n",
    "\n",
    "    return model"
   ]
  },
  {
   "cell_type": "code",
   "execution_count": 19,
   "id": "cfdce1f5-01f6-4580-ba18-5deabd0660ab",
   "metadata": {},
   "outputs": [],
   "source": [
    "model_110k = load_model_cache()"
   ]
  },
  {
   "cell_type": "code",
   "execution_count": 20,
   "id": "e83f49dc-ba15-4842-9848-dc629de86bc7",
   "metadata": {},
   "outputs": [],
   "source": [
    "def predict_caption_big(model,img_encoded):\n",
    "    cap_len = 25\n",
    "    index_file ='word_index_118.pkl'\n",
    "    with open(index_file,'rb') as handle:\n",
    "        word_index = pickle.load(handle)\n",
    "    inputs_seq = [2]\n",
    "    endsequence_token = word_index['endsequence']\n",
    "    for i in range(cap_len):\n",
    "        inputs_seq_model = pad_sequences([inputs_seq],padding='post',maxlen=25)\n",
    "        y_pre = model.predict([img_encoded,inputs_seq_model])\n",
    "        next_word = y_pre.argmax()\n",
    "        if next_word == endsequence_token:\n",
    "            break\n",
    "        inputs_seq.append(next_word)\n",
    "    sentence = []\n",
    "    for number in inputs_seq:\n",
    "        sentence.append(list(word_index.keys())[list(word_index.values()).index(number)])\n",
    "    sentence = sentence [1:]\n",
    "    prediction = ' '.join(word for word in sentence)\n",
    "    return prediction"
   ]
  },
  {
   "cell_type": "code",
   "execution_count": 23,
   "id": "2e8fc1ca-87b1-4d92-8532-2c341549f2c2",
   "metadata": {},
   "outputs": [],
   "source": [
    "def rand_sequ_model30k(X_test,numbers,model):\n",
    "    X_test.value = X_test.value.str.replace('startsequence ','')\n",
    "    X_test.value = X_test.value.str.replace(' endsequence','')\n",
    "    X_test =  X_test.drop(['value_tokenized'], axis=1)\n",
    "    id_list = X_test.id.tolist()\n",
    "    cap_list =X_test.value.tolist()\n",
    "    img_list = id_list \n",
    "    capt_list = cap_list\n",
    "    total_sentence = []\n",
    "    image_id =[]\n",
    "    rand_img_index = np.random.randint(1619, size=numbers)\n",
    "    for i in rand_img_index:\n",
    "        cnn_out = CNN_output(img_list[i]+'.jpg')\n",
    "        sent_out = predict_caption_big(model,cnn_out)\n",
    "        total_sentence.append(sent_out)\n",
    "        image_id.append(img_list[i])\n",
    "    captions = []\n",
    "    for imgs in image_id:\n",
    "        for index, row in X_test.iterrows():\n",
    "            if row['id'] in imgs:\n",
    "                captions.append(row['value'])\n",
    "    predict_m = np.repeat(total_sentence,5)\n",
    "    return captions, predict_m"
   ]
  },
  {
   "cell_type": "code",
   "execution_count": 24,
   "id": "28ae56ef-f112-4c99-93db-6da547bcfa37",
   "metadata": {},
   "outputs": [],
   "source": [
    "captions_110k, predict_m_110k =rand_sequ_model30k(X_test,100,model_110k)"
   ]
  },
  {
   "cell_type": "code",
   "execution_count": 25,
   "id": "ea543806-9ac9-4056-97d5-cd128ec25db1",
   "metadata": {},
   "outputs": [
    {
     "data": {
      "text/plain": [
       "500"
      ]
     },
     "execution_count": 25,
     "metadata": {},
     "output_type": "execute_result"
    }
   ],
   "source": [
    "len(captions_110k)"
   ]
  },
  {
   "cell_type": "code",
   "execution_count": 26,
   "id": "c14fa98e-2dd5-477c-ba48-9c5f7496b676",
   "metadata": {},
   "outputs": [],
   "source": [
    "c_110k= model_doc2vec.encode(captions_110k)"
   ]
  },
  {
   "cell_type": "code",
   "execution_count": 27,
   "id": "1c9ab0d6-ae6f-4f9d-9a26-73a3ba6a37b3",
   "metadata": {},
   "outputs": [],
   "source": [
    "d_110k =model_doc2vec.encode(predict_m_110k)"
   ]
  },
  {
   "cell_type": "code",
   "execution_count": 28,
   "id": "b87f2a08-fa48-43e3-9071-2ef59f4e27d8",
   "metadata": {},
   "outputs": [],
   "source": [
    "def score_ave(c,d,shape):\n",
    "   \n",
    "    score_total =[]\n",
    "\n",
    "    for i in range(len(c)):\n",
    "        score = sentence_transformers.util.cos_sim(c[i],d[i])\n",
    "        score_total.append(score)\n",
    "    score_total_np = np.array(score_total)\n",
    "    score_total_final = score_total_np.reshape(5,shape)\n",
    "        \n",
    "    score_avr = []\n",
    "    for i in range(len(score_total_final)):\n",
    "        score_avr.append(score_total_final[i].mean())\n",
    "    score_overall = np.array(score_avr)\n",
    "    return score_overall.mean()"
   ]
  },
  {
   "cell_type": "code",
   "execution_count": 29,
   "id": "6010250b-0d9b-436d-8f26-8f500252b864",
   "metadata": {},
   "outputs": [
    {
     "data": {
      "text/plain": [
       "0.45181447"
      ]
     },
     "execution_count": 29,
     "metadata": {},
     "output_type": "execute_result"
    }
   ],
   "source": [
    "score_ave(c_110k,d_110k,100)"
   ]
  },
  {
   "cell_type": "markdown",
   "id": "aecf8334-8c30-443d-8041-437bbaf059e9",
   "metadata": {},
   "source": [
    "# Try Attention model"
   ]
  },
  {
   "cell_type": "code",
   "execution_count": 58,
   "id": "894d22f4-312b-473f-87f3-74f3c8d92c49",
   "metadata": {},
   "outputs": [],
   "source": [
    "cap_len = 15\n",
    "embed_dim = 1024\n",
    "vocab_size = 10000"
   ]
  },
  {
   "cell_type": "code",
   "execution_count": 59,
   "id": "054116e8-e4fb-4216-9d23-3c08ba8bc667",
   "metadata": {},
   "outputs": [],
   "source": [
    "def model_builder_attention():\n",
    "    inputs2  = Input(shape=(cap_len,),name=\"captions\")\n",
    "    embed_layer = Embedding(vocab_size+1, embed_dim, mask_zero=True)(inputs2)\n",
    "\n",
    "    input_encoded = Input(shape=(8,8,1280),name=\"images_encoded\")\n",
    "    features = tf.keras.layers.Reshape((64, input_encoded.shape[-1]))(input_encoded)\n",
    "    cnn_dense = Dense(embed_dim, activation='relu')(features)\n",
    "\n",
    "    cnn_socre = tf.keras.layers.Dense(256)(cnn_dense)\n",
    "\n",
    "    seq_context = LSTM(256)(embed_layer)\n",
    "    seq_context = tf.expand_dims(seq_context, 1)\n",
    "    seq_score = tf.keras.layers.Dense(256)(seq_context)\n",
    "\n",
    "    combine_score = Add()([cnn_socre,seq_score])\n",
    "    combine_score_activation = tf.nn.tanh(combine_score)\n",
    "\n",
    "    attention_scores = Dense(1)(combine_score_activation)\n",
    "    attention_weights = tf.nn.softmax(attention_scores, axis=1)\n",
    "\n",
    "    heatmaped_image = tf.keras.layers.Multiply()([cnn_dense,attention_weights])\n",
    "    pooling_heatmaped = tf.keras.layers.GlobalAveragePooling1D()(heatmaped_image)\n",
    "\n",
    "\n",
    "    combine = Add()([embed_layer,pooling_heatmaped])\n",
    "    lstm_layer = LSTM(embed_dim)(combine)\n",
    "    decoder = Dense(2048, activation='relu')(lstm_layer)\n",
    "    outputs = Dense(vocab_size, activation='softmax')(decoder)\n",
    "    \n",
    "    return Model(inputs=[input_encoded, inputs2], outputs=outputs)"
   ]
  },
  {
   "cell_type": "code",
   "execution_count": 62,
   "id": "22cd6277-7b93-4fdd-b183-dd9c0fab18fa",
   "metadata": {},
   "outputs": [],
   "source": [
    "lstm_model = model_builder_attention()\n",
    "lstm_model.load_weights('20220614_attention_caplen25_modelweights.h5')"
   ]
  },
  {
   "cell_type": "code",
   "execution_count": 64,
   "id": "10d54b7b-4438-489d-ae9b-f2646f8514e4",
   "metadata": {},
   "outputs": [
    {
     "data": {
      "text/plain": [
       "keras.engine.functional.Functional"
      ]
     },
     "execution_count": 64,
     "metadata": {},
     "output_type": "execute_result"
    }
   ],
   "source": [
    "type(lstm_model)"
   ]
  },
  {
   "cell_type": "code",
   "execution_count": 80,
   "id": "6f0e1c24-dada-45ca-9781-63b859aedc41",
   "metadata": {},
   "outputs": [],
   "source": [
    "def predict_caption_attention(model,img_encoded):\n",
    "    cap_len = 15\n",
    "    index_file ='word_index_attention_10k.pkl'\n",
    "    with open(index_file,'rb') as handle:\n",
    "        word_index = pickle.load(handle)\n",
    "    inputs_seq = [2]\n",
    "    endsequence_token = word_index['endsequence']\n",
    "    for i in range(cap_len):\n",
    "        inputs_seq_model = pad_sequences([inputs_seq],padding='post',maxlen=15)\n",
    "        y_pre = model.predict([img_encoded,inputs_seq_model])\n",
    "        next_word = y_pre.argmax()\n",
    "        if next_word == endsequence_token:\n",
    "            break\n",
    "        inputs_seq.append(next_word)\n",
    "    sentence = []\n",
    "    for number in inputs_seq:\n",
    "        sentence.append(list(word_index.keys())[list(word_index.values()).index(number)])\n",
    "    sentence = sentence [1:]\n",
    "    prediction = ' '.join(word for word in sentence)\n",
    "    return prediction"
   ]
  },
  {
   "cell_type": "code",
   "execution_count": 81,
   "id": "f7ac9ba8-f37e-4df4-9654-73fb7a62639d",
   "metadata": {},
   "outputs": [],
   "source": [
    "def image_to_array(path):\n",
    "    loaded_img = image.load_img(path, target_size=(256,256,3))\n",
    "    img_array = image.img_to_array(loaded_img)\n",
    "    img_array = np.expand_dims(img_array, axis=0)\n",
    "    return img_array\n",
    "def cnn_builder():\n",
    "    cnn_model = EfficientNetB0(include_top=False, weights='imagenet',\n",
    "                           input_shape= (256,256,3))\n",
    "    return cnn_model\n",
    "def image_to_features(img_array):\n",
    "\n",
    "    features = cnn_builder().predict(img_array)\n",
    "    return features"
   ]
  },
  {
   "cell_type": "code",
   "execution_count": 82,
   "id": "b8216f68-2e69-492b-8945-d0760f434c3f",
   "metadata": {},
   "outputs": [
    {
     "name": "stdout",
     "output_type": "stream",
     "text": [
      "men are playing music on a stage together while a couple of men converse behind\n"
     ]
    }
   ],
   "source": [
    "img_array = image_to_array('IMG_9640.jpg')\n",
    "img_encoded = image_to_features(img_array)\n",
    "caption_attention = predict_caption_attention(lstm_model, img_encoded)\n",
    "print(caption_attention)"
   ]
  },
  {
   "cell_type": "code",
   "execution_count": null,
   "id": "ef55d8a5-754c-43e8-9300-bcedeeb51f96",
   "metadata": {},
   "outputs": [],
   "source": []
  },
  {
   "cell_type": "code",
   "execution_count": null,
   "id": "0c24b6df-90b4-47f4-b6df-d5b5f6b9cea4",
   "metadata": {},
   "outputs": [],
   "source": []
  },
  {
   "cell_type": "code",
   "execution_count": null,
   "id": "9b5876eb-52da-4336-9fc7-4d63623b1375",
   "metadata": {},
   "outputs": [],
   "source": []
  },
  {
   "cell_type": "code",
   "execution_count": 66,
   "id": "c2730e84-a069-4527-9ec3-424d33c1f9f1",
   "metadata": {},
   "outputs": [],
   "source": [
    "def rand_sequ_model_attention(X_test,numbers,model):\n",
    "    X_test.value = X_test.value.str.replace('startsequence ','')\n",
    "    X_test.value = X_test.value.str.replace(' endsequence','')\n",
    "    X_test =  X_test.drop(['value_tokenized'], axis=1)\n",
    "    id_list = X_test.id.tolist()\n",
    "    cap_list =X_test.value.tolist()\n",
    "    img_list = id_list \n",
    "    capt_list = cap_list\n",
    "    total_sentence = []\n",
    "    image_id =[]\n",
    "    rand_img_index = np.random.randint(1619, size=numbers)\n",
    "    for i in rand_img_index:\n",
    "        cnn_out = CNN_output(img_list[i]+'.jpg')\n",
    "        sent_out = predict_caption_attention(model,cnn_out)\n",
    "        total_sentence.append(sent_out)\n",
    "        image_id.append(img_list[i])\n",
    "    captions = []\n",
    "    for imgs in image_id:\n",
    "        for index, row in X_test.iterrows():\n",
    "            if row['id'] in imgs:\n",
    "                captions.append(row['value'])\n",
    "    predict_m = np.repeat(total_sentence,5)\n",
    "    return captions, predict_m"
   ]
  },
  {
   "cell_type": "code",
   "execution_count": 68,
   "id": "159fdb14-d2d8-4530-b195-dafeb533db0d",
   "metadata": {},
   "outputs": [],
   "source": [
    "captions_attention, predict_m_attention =rand_sequ_model_attention(X_test,100,lstm_model)"
   ]
  },
  {
   "cell_type": "code",
   "execution_count": 69,
   "id": "760c65b0-0396-44b8-8fc7-526e2dfa03ee",
   "metadata": {},
   "outputs": [
    {
     "data": {
      "text/plain": [
       "500"
      ]
     },
     "execution_count": 69,
     "metadata": {},
     "output_type": "execute_result"
    }
   ],
   "source": [
    "len(captions_attention)"
   ]
  },
  {
   "cell_type": "code",
   "execution_count": 70,
   "id": "44244f02-bda2-4659-b778-b7a438a5f29c",
   "metadata": {},
   "outputs": [],
   "source": [
    "c_attention= model_doc2vec.encode(captions_attention)"
   ]
  },
  {
   "cell_type": "code",
   "execution_count": 71,
   "id": "6eb2608f-7ff6-47c6-ab50-a923cdeb8abe",
   "metadata": {},
   "outputs": [],
   "source": [
    "d_attention = model_doc2vec.encode(predict_m_attention)"
   ]
  },
  {
   "cell_type": "code",
   "execution_count": 72,
   "id": "dc3bbb06-6241-4f81-9b6f-142d1a471f83",
   "metadata": {},
   "outputs": [],
   "source": [
    "def score_ave(c,d,shape):\n",
    "   \n",
    "    score_total =[]\n",
    "\n",
    "    for i in range(len(c)):\n",
    "        score = sentence_transformers.util.cos_sim(c[i],d[i])\n",
    "        score_total.append(score)\n",
    "    score_total_np = np.array(score_total)\n",
    "    score_total_final = score_total_np.reshape(5,shape)\n",
    "        \n",
    "    score_avr = []\n",
    "    for i in range(len(score_total_final)):\n",
    "        score_avr.append(score_total_final[i].mean())\n",
    "    score_overall = np.array(score_avr)\n",
    "    return score_overall.mean()"
   ]
  },
  {
   "cell_type": "code",
   "execution_count": 73,
   "id": "8068dc70-7d6b-4c64-86f5-3e9520b9103c",
   "metadata": {},
   "outputs": [
    {
     "data": {
      "text/plain": [
       "0.678436"
      ]
     },
     "execution_count": 73,
     "metadata": {},
     "output_type": "execute_result"
    }
   ],
   "source": [
    "score_ave(c_attention,d_attention,100)"
   ]
  },
  {
   "cell_type": "code",
   "execution_count": null,
   "id": "bc0c58b1-326d-4920-9645-d1995d2e0590",
   "metadata": {},
   "outputs": [],
   "source": []
  }
 ],
 "metadata": {
  "environment": {
   "kernel": "python3",
   "name": "tf2-gpu.2-8.m93",
   "type": "gcloud",
   "uri": "gcr.io/deeplearning-platform-release/tf2-gpu.2-8:m93"
  },
  "kernelspec": {
   "display_name": "Python 3 (ipykernel)",
   "language": "python",
   "name": "python3"
  },
  "language_info": {
   "codemirror_mode": {
    "name": "ipython",
    "version": 3
   },
   "file_extension": ".py",
   "mimetype": "text/x-python",
   "name": "python",
   "nbconvert_exporter": "python",
   "pygments_lexer": "ipython3",
   "version": "3.8.12"
  },
  "toc": {
   "base_numbering": 1,
   "nav_menu": {},
   "number_sections": true,
   "sideBar": true,
   "skip_h1_title": false,
   "title_cell": "Table of Contents",
   "title_sidebar": "Contents",
   "toc_cell": false,
   "toc_position": {},
   "toc_section_display": true,
   "toc_window_display": false
  }
 },
 "nbformat": 4,
 "nbformat_minor": 5
}
